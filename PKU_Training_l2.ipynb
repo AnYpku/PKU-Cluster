{
 "cells": [
  {
   "cell_type": "code",
   "execution_count": 1,
   "id": "8698e811",
   "metadata": {},
   "outputs": [
    {
     "name": "stdout",
     "output_type": "stream",
     "text": [
      "Requirement already satisfied: uproot in /cvmfs/sft.cern.ch/lcg/views/LCG_102swan/x86_64-centos7-gcc11-opt/lib/python3.9/site-packages (4.2.0)\n",
      "Requirement already satisfied: tqdm in /cvmfs/sft.cern.ch/lcg/views/LCG_102swan/x86_64-centos7-gcc11-opt/lib/python3.9/site-packages (4.61.2)\n",
      "Requirement already satisfied: numpy in /cvmfs/sft.cern.ch/lcg/views/LCG_102swan/x86_64-centos7-gcc11-opt/lib/python3.9/site-packages (from uproot) (1.22.3)\n",
      "Requirement already satisfied: setuptools in /cvmfs/sft.cern.ch/lcg/views/LCG_102swan/x86_64-centos7-gcc11-opt/lib/python3.9/site-packages (from uproot) (57.1.0)\n"
     ]
    }
   ],
   "source": [
    "!pip install --user uproot tqdm"
   ]
  },
  {
   "cell_type": "code",
   "execution_count": 2,
   "id": "9ec3b089",
   "metadata": {},
   "outputs": [
    {
     "name": "stdout",
     "output_type": "stream",
     "text": [
      "Default principal: yian@CERN.CH\n"
     ]
    }
   ],
   "source": [
    "username = \"yian\"\n",
    "import getpass\n",
    "import os\n",
    "if os.system('klist | grep Default | grep ' + username + '@CERN.CH'):\n",
    "    os.system('echo %s' % getpass.getpass() + \" | kinit \" + username)"
   ]
  },
  {
   "cell_type": "code",
   "execution_count": 3,
   "id": "d890f6ba",
   "metadata": {},
   "outputs": [],
   "source": [
    "import uproot\n",
    "import glob\n",
    "import pandas as pd\n",
    "from tqdm import tqdm"
   ]
  },
  {
   "cell_type": "code",
   "execution_count": 4,
   "id": "8c644db1",
   "metadata": {},
   "outputs": [
    {
     "name": "stdout",
     "output_type": "stream",
     "text": [
      "Defaulting to user installation because normal site-packages is not writeable\n",
      "Requirement already satisfied: awkward in /cvmfs/sft.cern.ch/lcg/views/LCG_102swan/x86_64-centos7-gcc11-opt/lib/python3.9/site-packages (1.7.0)\n",
      "Requirement already satisfied: numpy>=1.13.1 in /cvmfs/sft.cern.ch/lcg/views/LCG_102swan/x86_64-centos7-gcc11-opt/lib/python3.9/site-packages (from awkward) (1.22.3)\n",
      "Requirement already satisfied: setuptools in /cvmfs/sft.cern.ch/lcg/views/LCG_102swan/x86_64-centos7-gcc11-opt/lib/python3.9/site-packages (from awkward) (57.1.0)\n"
     ]
    }
   ],
   "source": [
    "!pip install awkward"
   ]
  },
  {
   "cell_type": "code",
   "execution_count": 5,
   "id": "cdb27a65",
   "metadata": {},
   "outputs": [
    {
     "name": "stdout",
     "output_type": "stream",
     "text": [
      "Welcome to JupyROOT 6.26/04\n"
     ]
    }
   ],
   "source": [
    "import numpy as np\n",
    "import awkward as ak\n",
    "import ROOT\n",
    "import matplotlib.pyplot as plt"
   ]
  },
  {
   "cell_type": "code",
   "execution_count": 6,
   "id": "cffc8cf1",
   "metadata": {},
   "outputs": [],
   "source": [
    "n_files = 20\n",
    "root_files = glob.glob(\"/eos/user/y/yian/SWAN_projects/*.root\")[:n_files]"
   ]
  },
  {
   "cell_type": "code",
   "execution_count": 11,
   "id": "d7a4275f",
   "metadata": {},
   "outputs": [
    {
     "name": "stdout",
     "output_type": "stream",
     "text": [
      "['ntuplizer;1', 'ntuplizer/tree;1']\n"
     ]
    }
   ],
   "source": [
    "f = uproot.open(root_files[0])\n",
    "print(f.keys())\n",
    "tree=f[f.keys()[1]]"
   ]
  },
  {
   "cell_type": "code",
   "execution_count": 12,
   "id": "24304741",
   "metadata": {},
   "outputs": [
    {
     "name": "stdout",
     "output_type": "stream",
     "text": [
      "62\n"
     ]
    }
   ],
   "source": [
    "unneccesary_columns = ['ele_index',\n",
    "       'Spring16GPV1Vals', 'Spring16GPV1RawVals', 'Spring16HZZV1Vals',\n",
    "       'Spring16HZZV1RawVals', 'Fall17NoIsoV2Vals',\n",
    "       'Fall17IsoV2Vals', 'Fall17IsoV1Vals',\n",
    "       'Fall17NoIsoV1Vals', 'Spring16GPV1wp80', 'Spring16GPV1wp90',\n",
    "       'Spring16HZZV1wpLoose', 'Fall17noIsoV2wp80', 'Fall17noIsoV2wpLoose',\n",
    "       'Fall17noIsoV2wp90', 'Fall17isoV2wpHZZ', 'Fall17isoV2wp80',\n",
    "       'Fall17isoV2wpLoose', 'Fall17isoV2wp90', 'Fall17noIsoV1wp90',\n",
    "       'Fall17noIsoV1wp80', 'Fall17noIsoV1wpLoose', 'Fall17isoV1wp90',\n",
    "       'Fall17isoV1wp80', 'Fall17isoV1wpLoose', 'nEvent', 'nRun', 'nLumi']\n",
    "\n",
    "branch=tree.keys()\n",
    "for c in unneccesary_columns:\n",
    "    branch.remove(c)\n",
    "print(len(branch))"
   ]
  },
  {
   "cell_type": "code",
   "execution_count": 13,
   "id": "b6f2d6e8",
   "metadata": {},
   "outputs": [],
   "source": [
    "f = uproot.lazy(root_files[0]+':ntuplizer/tree')"
   ]
  },
  {
   "cell_type": "code",
   "execution_count": 14,
   "id": "0180e3a1",
   "metadata": {},
   "outputs": [],
   "source": [
    "df=pd.DataFrame(np.array(f),columns=branch)"
   ]
  },
  {
   "cell_type": "code",
   "execution_count": 15,
   "id": "fbaad5c4",
   "metadata": {},
   "outputs": [
    {
     "name": "stdout",
     "output_type": "stream",
     "text": [
      "       genNpu  vtxN  ele_q  ele_3q  matchedToGenEle        rho     ele_pt  \\\n",
      "0          70    55   -1.0       1                1  39.336685  75.166786   \n",
      "1          70    55    1.0       1                1  39.336685  25.170097   \n",
      "2          55    41    1.0       1                1  34.542377  40.437748   \n",
      "3          55    41   -1.0       1                1  34.542377  39.272686   \n",
      "4          65    54    1.0       1                1  28.301094  56.119308   \n",
      "...       ...   ...    ...     ...              ...        ...        ...   \n",
      "38613      63    53    1.0       0                1  43.432579  27.979042   \n",
      "38614      63    53   -1.0       1                1  43.432579  26.223799   \n",
      "38615      83    83    1.0       1                1  52.417740  23.142691   \n",
      "38616      64    53   -1.0       1                2  49.768986  20.793974   \n",
      "38617      64    53    1.0       1                0  49.768986  13.645608   \n",
      "\n",
      "       ele_oldsigmaietaieta  ele_oldsigmaiphiiphi  ele_oldcircularity  ...  \\\n",
      "0                  0.009603              0.010184            0.168566  ...   \n",
      "1                  0.009036              0.012087            0.176306  ...   \n",
      "2                  0.009075              0.014045            0.222403  ...   \n",
      "3                  0.009918              0.010296            0.243003  ...   \n",
      "4                  0.008885              0.015579            0.406262  ...   \n",
      "...                     ...                   ...                 ...  ...   \n",
      "38613              0.027920              0.037330            0.256048  ...   \n",
      "38614              0.027341              0.042599            0.283034  ...   \n",
      "38615              0.037951              0.042338            0.353547  ...   \n",
      "38616              0.012032              0.011581            0.444886  ...   \n",
      "38617              0.019079              0.020440            0.616030  ...   \n",
      "\n",
      "       ele_isEB  ele_isEE  ele_isEBEtaGap  ele_isEBPhiGap  ele_isEBEEGap  \\\n",
      "0          True     False           False           False          False   \n",
      "1          True     False           False           False          False   \n",
      "2          True     False           False           False          False   \n",
      "3          True     False           False            True          False   \n",
      "4          True     False           False           False          False   \n",
      "...         ...       ...             ...             ...            ...   \n",
      "38613     False      True           False           False          False   \n",
      "38614     False      True           False           False          False   \n",
      "38615     False      True           False           False          False   \n",
      "38616      True     False           False           False          False   \n",
      "38617      True     False           False           False          False   \n",
      "\n",
      "       ele_isEEDeeGap  ele_isEERingGap  Fall17NoIsoV2RawVals  \\\n",
      "0               False            False              6.022810   \n",
      "1               False            False              6.400648   \n",
      "2               False            False              8.018516   \n",
      "3               False            False             -0.038783   \n",
      "4               False            False              8.790177   \n",
      "...               ...              ...                   ...   \n",
      "38613           False            False              3.599527   \n",
      "38614           False            False              2.512864   \n",
      "38615           False            False              5.388796   \n",
      "38616           False            False              0.742088   \n",
      "38617           False            False             -5.241233   \n",
      "\n",
      "       Fall17IsoV2RawVals  EleMVACats  \n",
      "0                7.528009           4  \n",
      "1                7.456933           3  \n",
      "2                8.095548           3  \n",
      "3                0.998242           3  \n",
      "4                9.188561           3  \n",
      "...                   ...         ...  \n",
      "38613            4.159488           5  \n",
      "38614            0.907157           5  \n",
      "38615            6.325344           5  \n",
      "38616            2.401831           3  \n",
      "38617           -4.827538           4  \n",
      "\n",
      "[38618 rows x 62 columns]\n"
     ]
    }
   ],
   "source": [
    "print(df)"
   ]
  },
  {
   "cell_type": "code",
   "execution_count": 16,
   "id": "3fb56776",
   "metadata": {},
   "outputs": [],
   "source": [
    "import math\n",
    "def get_df(root_file_name):        \n",
    "    fin = uproot.lazy(root_file_name+':ntuplizer/tree')\n",
    "    if len(fin) == 0:\n",
    "        return pd.DataFrame()\n",
    "    df=pd.DataFrame(np.array(fin),columns=branch)\n",
    "    return df        "
   ]
  },
  {
   "cell_type": "code",
   "execution_count": 17,
   "id": "b1cc0798",
   "metadata": {},
   "outputs": [
    {
     "name": "stderr",
     "output_type": "stream",
     "text": [
      "100%|██████████| 20/20 [00:14<00:00,  1.34it/s]\n"
     ]
    }
   ],
   "source": [
    "df = pd.concat((get_df(f1) for f1 in  tqdm(root_files)), ignore_index=True)"
   ]
  },
  {
   "cell_type": "code",
   "execution_count": 18,
   "id": "683795fc",
   "metadata": {},
   "outputs": [
    {
     "data": {
      "text/plain": [
       "Index(['genNpu', 'vtxN', 'ele_q', 'ele_3q', 'matchedToGenEle', 'rho', 'ele_pt',\n",
       "       'ele_oldsigmaietaieta', 'ele_oldsigmaiphiiphi', 'ele_oldcircularity',\n",
       "       'ele_oldr9', 'ele_scletawidth', 'ele_sclphiwidth', 'ele_hadronicOverEm',\n",
       "       'ele_oldhe', 'ele_kfhits', 'ele_kfchi2', 'ele_gsfchi2', 'ele_fbrem',\n",
       "       'ele_gsfhits', 'ele_expected_inner_hits',\n",
       "       'ele_conversionVertexFitProbability', 'ele_ep', 'ele_eelepout',\n",
       "       'ele_IoEmIop', 'ele_deltaetain', 'ele_deltaphiin', 'ele_deltaetaseed',\n",
       "       'ele_psEoverEraw', 'ele_pfPhotonIso', 'ele_pfChargedHadIso',\n",
       "       'ele_pfNeutralHadIso', 'scl_E', 'scl_Et', 'scl_eta', 'scl_phi',\n",
       "       'ele_sclRawE', 'ele_sclNclus', 'ele_olde15', 'ele_olde25max',\n",
       "       'ele_olde55', 'ele_ecalE', 'ele_ecalErr', 'ele_trackErr', 'ele_combErr',\n",
       "       'ele_PFcombErr', 'ele_pfSumPUIso', 'ele_SCfbrem', 'ele_eClass',\n",
       "       'ele_nbrem', 'ele_oldhebc', 'ele_hebc', 'ele_isEB', 'ele_isEE',\n",
       "       'ele_isEBEtaGap', 'ele_isEBPhiGap', 'ele_isEBEEGap', 'ele_isEEDeeGap',\n",
       "       'ele_isEERingGap', 'Fall17NoIsoV2RawVals', 'Fall17IsoV2RawVals',\n",
       "       'EleMVACats'],\n",
       "      dtype='object')"
      ]
     },
     "execution_count": 18,
     "metadata": {},
     "output_type": "execute_result"
    }
   ],
   "source": [
    "df.columns"
   ]
  },
  {
   "cell_type": "code",
   "execution_count": 19,
   "id": "cfca87a3",
   "metadata": {},
   "outputs": [],
   "source": [
    "import matplotlib.pyplot as plt\n",
    "import numpy as np\n",
    "\n",
    "def get_label(name):\n",
    "    if name == 0:\n",
    "        return \"background\"\n",
    "    else:\n",
    "        return \"signal\"\n",
    "\n",
    "def plot_electrons(df, column, bins, logscale=False, ax=None, title=None):\n",
    "    if ax is None:\n",
    "        ax = plt.gca()\n",
    "    for name, group in df.groupby(\"matchedToGenEle\"):\n",
    "        group[column].hist(bins=bins, histtype=\"step\", label=get_label(name), ax=ax, density=True)\n",
    "    ax.set_ylabel(\"density\")\n",
    "    ax.set_xlabel(column)\n",
    "    ax.legend()\n",
    "    ax.set_title(title)\n",
    "    if logscale:\n",
    "        ax.set_yscale(\"log\", nonposy='clip')"
   ]
  },
  {
   "cell_type": "code",
   "execution_count": 20,
   "id": "216af21a",
   "metadata": {},
   "outputs": [],
   "source": [
    "df = df.query(\"matchedToGenEle != 2\")"
   ]
  },
  {
   "cell_type": "code",
   "execution_count": 21,
   "id": "9403df27",
   "metadata": {},
   "outputs": [],
   "source": [
    "df.loc[df[\"matchedToGenEle\"] != 1, \"matchedToGenEle\"] = 0"
   ]
  },
  {
   "cell_type": "code",
   "execution_count": 22,
   "id": "557b31e4",
   "metadata": {},
   "outputs": [],
   "source": [
    "df = df.query(\"abs(scl_eta) < 2.5\")\n",
    "df = df.query(\"ele_pt >= 10\")"
   ]
  },
  {
   "cell_type": "code",
   "execution_count": 35,
   "id": "b47321d0",
   "metadata": {},
   "outputs": [
    {
     "data": {
      "image/png": "[encoded data removed]",
      "text/plain": [
       "<Figure size 1080x360 with 2 Axes>"
      ]
     },
     "metadata": {
      "needs_background": "light"
     },
     "output_type": "display_data"
    }
   ],
   "source": [
    "fig, axes = plt.subplots(1, 2, figsize=(15, 5))\n",
    "plot_electrons(df.query(\"ele_isEB\"), \"ele_oldsigmaietaieta\", np.linspace(0,0.03,100), ax=axes[0], title=\"Barrel\")\n",
    "plot_electrons(df.query(\"ele_isEE\"), \"ele_oldsigmaietaieta\", np.linspace(0,0.06,100), ax=axes[1], title=\"Endcap\")\n",
    "plt.show()"
   ]
  },
  {
   "cell_type": "code",
   "execution_count": 44,
   "id": "51eee79b",
   "metadata": {},
   "outputs": [
    {
     "data": {
      "image/png": "[encoded data removed]",
      "text/plain": [
       "<Figure size 1080x360 with 2 Axes>"
      ]
     },
     "metadata": {
      "needs_background": "light"
     },
     "output_type": "display_data"
    }
   ],
   "source": [
    "fig, axes = plt.subplots(1, 2, figsize=(15, 5))\n",
    "plot_electrons(df.query(\"ele_isEB\"), \"ele_pfChargedHadIso\", np.linspace(0.001,20,200), ax=axes[0], title=\"Barrel\")\n",
    "plot_electrons(df.query(\"ele_isEE\"), \"ele_pfChargedHadIso\", np.linspace(0.001,20,200), ax=axes[1], title=\"Endcap\")\n",
    "plt.show()"
   ]
  },
  {
   "cell_type": "code",
   "execution_count": 47,
   "id": "9518a3f9",
   "metadata": {},
   "outputs": [
    {
     "data": {
      "image/png": "[encoded data removed]",
      "text/plain": [
       "<Figure size 1080x360 with 2 Axes>"
      ]
     },
     "metadata": {
      "needs_background": "light"
     },
     "output_type": "display_data"
    }
   ],
   "source": [
    "fig, axes = plt.subplots(1, 2, figsize=(15, 5))\n",
    "plot_electrons(df.query(\"ele_isEB\"), \"ele_hadronicOverEm\", np.linspace(0.001,0.15,100), ax=axes[0], title=\"Barrel\")\n",
    "plot_electrons(df.query(\"ele_isEE\"), \"ele_hadronicOverEm\", np.linspace(0.001,0.15,100), ax=axes[1], title=\"Endcap\")\n",
    "plt.show()"
   ]
  },
  {
   "cell_type": "code",
   "execution_count": 49,
   "id": "e360fa97",
   "metadata": {},
   "outputs": [
    {
     "data": {
      "image/png": "[encoded data removed]",
      "text/plain": [
       "<Figure size 1080x360 with 2 Axes>"
      ]
     },
     "metadata": {
      "needs_background": "light"
     },
     "output_type": "display_data"
    }
   ],
   "source": [
    "fig, axes = plt.subplots(1, 2, figsize=(15, 5))\n",
    "plot_electrons(df.query(\"ele_isEB\"), \"ele_deltaetaseed\", np.linspace(0,0.02,100), ax=axes[0], title=\"Barrel\")\n",
    "plot_electrons(df.query(\"ele_isEE\"), \"ele_deltaetaseed\", np.linspace(0,0.02,100), ax=axes[1], title=\"Endcap\")\n",
    "plt.show()"
   ]
  },
  {
   "cell_type": "code",
   "execution_count": null,
   "id": "a25dbf8e",
   "metadata": {},
   "outputs": [],
   "source": []
  }
 ],
 "metadata": {
  "kernelspec": {
   "display_name": "Python 3",
   "language": "python",
   "name": "python3"
  },
  "language_info": {
   "codemirror_mode": {
    "name": "ipython",
    "version": 3
   },
   "file_extension": ".py",
   "mimetype": "text/x-python",
   "name": "python",
   "nbconvert_exporter": "python",
   "pygments_lexer": "ipython3",
   "version": "3.9.12"
  }
 },
 "nbformat": 4,
 "nbformat_minor": 5
}
