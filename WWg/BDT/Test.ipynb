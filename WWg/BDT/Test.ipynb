{
 "cells": [
  {
   "cell_type": "code",
   "execution_count": 74,
   "id": "e4be3099-3762-4b2b-a518-e97b650f1506",
   "metadata": {},
   "outputs": [
    {
     "name": "stdout",
     "output_type": "stream",
     "text": [
      "Requirement already satisfied: uproot in /data/pku/home/anying/.local/lib/python3.9/site-packages (4.1.9)\n",
      "Requirement already satisfied: numpy in /data/pku/home/anying/anaconda3/envs/andy/lib/python3.9/site-packages (from uproot) (1.21.4)\n",
      "Requirement already satisfied: setuptools in /data/pku/home/anying/anaconda3/envs/andy/lib/python3.9/site-packages (from uproot) (59.2.0)\n",
      "Requirement already satisfied: tqdm in /data/pku/home/anying/anaconda3/envs/andy/lib/python3.9/site-packages (4.62.3)\n",
      "Requirement already satisfied: awkward in /data/pku/home/anying/anaconda3/envs/andy/lib/python3.9/site-packages (1.4.0)\n",
      "Requirement already satisfied: setuptools in /data/pku/home/anying/anaconda3/envs/andy/lib/python3.9/site-packages (from awkward) (59.2.0)\n",
      "Requirement already satisfied: numpy>=1.13.1 in /data/pku/home/anying/anaconda3/envs/andy/lib/python3.9/site-packages (from awkward) (1.21.4)\n",
      "Requirement already satisfied: xgboost in /data/pku/home/anying/anaconda3/envs/andy/lib/python3.9/site-packages (1.5.1)\n",
      "Requirement already satisfied: scipy in /data/pku/home/anying/anaconda3/envs/andy/lib/python3.9/site-packages (from xgboost) (1.7.3)\n",
      "Requirement already satisfied: numpy in /data/pku/home/anying/anaconda3/envs/andy/lib/python3.9/site-packages (from xgboost) (1.21.4)\n",
      "Requirement already satisfied: sklearn in /data/pku/home/anying/anaconda3/envs/andy/lib/python3.9/site-packages (0.0)\n",
      "Requirement already satisfied: scikit-learn in /data/pku/home/anying/anaconda3/envs/andy/lib/python3.9/site-packages (from sklearn) (1.0.1)\n",
      "Requirement already satisfied: scipy>=1.1.0 in /data/pku/home/anying/anaconda3/envs/andy/lib/python3.9/site-packages (from scikit-learn->sklearn) (1.7.3)\n",
      "Requirement already satisfied: joblib>=0.11 in /data/pku/home/anying/anaconda3/envs/andy/lib/python3.9/site-packages (from scikit-learn->sklearn) (1.1.0)\n",
      "Requirement already satisfied: threadpoolctl>=2.0.0 in /data/pku/home/anying/anaconda3/envs/andy/lib/python3.9/site-packages (from scikit-learn->sklearn) (3.0.0)\n",
      "Requirement already satisfied: numpy>=1.14.6 in /data/pku/home/anying/anaconda3/envs/andy/lib/python3.9/site-packages (from scikit-learn->sklearn) (1.21.4)\n"
     ]
    }
   ],
   "source": [
    "!pip install --user uproot\n",
    "!pip install --user tqdm\n",
    "!pip install awkward\n",
    "!pip install xgboost\n",
    "!pip install sklearn"
   ]
  },
  {
   "cell_type": "code",
   "execution_count": 75,
   "id": "b0b0bc81-59cd-4837-ae3c-f047d498496a",
   "metadata": {},
   "outputs": [],
   "source": [
    "import uproot\n",
    "import glob\n",
    "import pandas as pd\n",
    "from tqdm import tqdm\n",
    "import numpy as np\n",
    "import awkward as ak\n",
    "import ROOT"
   ]
  },
  {
   "cell_type": "code",
   "execution_count": 76,
   "id": "20ab463d-96d4-4404-b730-58c59d1bcd56",
   "metadata": {},
   "outputs": [],
   "source": [
    "root_files = glob.glob(\"/home/pku/anying/cms/PKU-Cluster/WWg/BDT/rootfiles/optimal*.root\")"
   ]
  },
  {
   "cell_type": "code",
   "execution_count": 77,
   "id": "36716fef-7c49-4210-a430-c5201cf12383",
   "metadata": {},
   "outputs": [
    {
     "data": {
      "text/plain": [
       "['/home/pku/anying/cms/PKU-Cluster/WWg/BDT/rootfiles/optimal_emua_ST16.root',\n",
       " '/home/pku/anying/cms/PKU-Cluster/WWg/BDT/rootfiles/optimal_emua_ST17.root',\n",
       " '/home/pku/anying/cms/PKU-Cluster/WWg/BDT/rootfiles/optimal_emua_ST18.root',\n",
       " '/home/pku/anying/cms/PKU-Cluster/WWg/BDT/rootfiles/optimal_emua_ST_pre16.root',\n",
       " '/home/pku/anying/cms/PKU-Cluster/WWg/BDT/rootfiles/optimal_emua_TTGJets16.root',\n",
       " '/home/pku/anying/cms/PKU-Cluster/WWg/BDT/rootfiles/optimal_emua_TTGJets17.root',\n",
       " '/home/pku/anying/cms/PKU-Cluster/WWg/BDT/rootfiles/optimal_emua_TTGJets18.root',\n",
       " '/home/pku/anying/cms/PKU-Cluster/WWg/BDT/rootfiles/optimal_emua_TTGJets_pre16.root',\n",
       " '/home/pku/anying/cms/PKU-Cluster/WWg/BDT/rootfiles/optimal_emua_VV16.root',\n",
       " '/home/pku/anying/cms/PKU-Cluster/WWg/BDT/rootfiles/optimal_emua_VV17.root',\n",
       " '/home/pku/anying/cms/PKU-Cluster/WWg/BDT/rootfiles/optimal_emua_VV18.root',\n",
       " '/home/pku/anying/cms/PKU-Cluster/WWg/BDT/rootfiles/optimal_emua_VV_pre16.root',\n",
       " '/home/pku/anying/cms/PKU-Cluster/WWg/BDT/rootfiles/optimal_emua_WGJets16.root',\n",
       " '/home/pku/anying/cms/PKU-Cluster/WWg/BDT/rootfiles/optimal_emua_WGJets17.root',\n",
       " '/home/pku/anying/cms/PKU-Cluster/WWg/BDT/rootfiles/optimal_emua_WGJets18.root',\n",
       " '/home/pku/anying/cms/PKU-Cluster/WWg/BDT/rootfiles/optimal_emua_WGJets_pre16.root',\n",
       " '/home/pku/anying/cms/PKU-Cluster/WWg/BDT/rootfiles/optimal_emua_WWG_emu16.root',\n",
       " '/home/pku/anying/cms/PKU-Cluster/WWg/BDT/rootfiles/optimal_emua_WWG_emu17.root',\n",
       " '/home/pku/anying/cms/PKU-Cluster/WWg/BDT/rootfiles/optimal_emua_WWG_emu18.root',\n",
       " '/home/pku/anying/cms/PKU-Cluster/WWg/BDT/rootfiles/optimal_emua_WWG_emu_pre16.root',\n",
       " '/home/pku/anying/cms/PKU-Cluster/WWg/BDT/rootfiles/optimal_emua_ZGJets16.root',\n",
       " '/home/pku/anying/cms/PKU-Cluster/WWg/BDT/rootfiles/optimal_emua_ZGJets17.root',\n",
       " '/home/pku/anying/cms/PKU-Cluster/WWg/BDT/rootfiles/optimal_emua_ZGJets18.root',\n",
       " '/home/pku/anying/cms/PKU-Cluster/WWg/BDT/rootfiles/optimal_emua_ZGJets_pre16.root',\n",
       " '/home/pku/anying/cms/PKU-Cluster/WWg/BDT/rootfiles/optimal_emua_fakeL16.root',\n",
       " '/home/pku/anying/cms/PKU-Cluster/WWg/BDT/rootfiles/optimal_emua_fakeL17.root',\n",
       " '/home/pku/anying/cms/PKU-Cluster/WWg/BDT/rootfiles/optimal_emua_fakeL18.root',\n",
       " '/home/pku/anying/cms/PKU-Cluster/WWg/BDT/rootfiles/optimal_emua_fakeL_pre16.root',\n",
       " '/home/pku/anying/cms/PKU-Cluster/WWg/BDT/rootfiles/optimal_emua_plj16.root',\n",
       " '/home/pku/anying/cms/PKU-Cluster/WWg/BDT/rootfiles/optimal_emua_plj17.root',\n",
       " '/home/pku/anying/cms/PKU-Cluster/WWg/BDT/rootfiles/optimal_emua_plj18.root',\n",
       " '/home/pku/anying/cms/PKU-Cluster/WWg/BDT/rootfiles/optimal_emua_plj_pre16.root',\n",
       " '/home/pku/anying/cms/PKU-Cluster/WWg/BDT/rootfiles/optimal_emua_tZq16.root',\n",
       " '/home/pku/anying/cms/PKU-Cluster/WWg/BDT/rootfiles/optimal_emua_tZq17.root',\n",
       " '/home/pku/anying/cms/PKU-Cluster/WWg/BDT/rootfiles/optimal_emua_tZq18.root',\n",
       " '/home/pku/anying/cms/PKU-Cluster/WWg/BDT/rootfiles/optimal_emua_tZq_pre16.root']"
      ]
     },
     "execution_count": 77,
     "metadata": {},
     "output_type": "execute_result"
    }
   ],
   "source": [
    "root_files"
   ]
  },
  {
   "cell_type": "code",
   "execution_count": 78,
   "id": "3d77f908-2a98-4c94-9f3a-aa933e0b79c4",
   "metadata": {},
   "outputs": [],
   "source": [
    "f1 = uproot.open(root_files[0])\n",
    "tree=f1['outtree']"
   ]
  },
  {
   "cell_type": "code",
   "execution_count": 79,
   "id": "bcc34a4d-c120-4060-92c0-427c7657b36d",
   "metadata": {},
   "outputs": [
    {
     "data": {
      "text/plain": [
       "115"
      ]
     },
     "execution_count": 79,
     "metadata": {},
     "output_type": "execute_result"
    }
   ],
   "source": [
    "branch=tree.keys()\n",
    "unneccesary_columns = ['LHEScaleWeight','LHEPdfWeight']\n",
    "for c in unneccesary_columns:\n",
    "    branch.remove(c)\n",
    "len(branch)"
   ]
  },
  {
   "cell_type": "code",
   "execution_count": 80,
   "id": "3b8bfda6-5b9d-425c-9603-d1fe295c2c36",
   "metadata": {},
   "outputs": [
    {
     "data": {
      "text/plain": [
       "72"
      ]
     },
     "execution_count": 80,
     "metadata": {},
     "output_type": "execute_result"
    }
   ],
   "source": [
    "f = uproot.lazy(root_files[0]+':outtree')\n",
    "events = ak.to_pandas(f[branch])\n",
    "len(f)"
   ]
  },
  {
   "cell_type": "code",
   "execution_count": 81,
   "id": "5121dfec-2674-4633-aa55-31c24e764aef",
   "metadata": {},
   "outputs": [],
   "source": [
    "def get_df(root_file_name):\n",
    "    if 'Muon' not in root_file_name and 'Ele' not in root_file_name:\n",
    "        f = uproot.lazy(root_file_name+\":outtree\")\n",
    "        if len(f) == 0:\n",
    "            return pd.DataFrame()\n",
    "        df = ak.to_pandas(f[branch])\n",
    "    else:\n",
    "        return pd.DataFrame()\n",
    "    return df  "
   ]
  },
  {
   "cell_type": "code",
   "execution_count": 82,
   "id": "0e391fa2-44bd-49df-8533-7fdf3b847f48",
   "metadata": {},
   "outputs": [
    {
     "name": "stderr",
     "output_type": "stream",
     "text": [
      "100%|███████████████████████████████████████████| 36/36 [00:11<00:00,  3.07it/s]\n"
     ]
    }
   ],
   "source": [
    "df = pd.concat((get_df(f) for f in tqdm(root_files)), ignore_index=True)"
   ]
  },
  {
   "cell_type": "code",
   "execution_count": 83,
   "id": "8277aca1-acc0-4079-94a3-01de19074ec6",
   "metadata": {},
   "outputs": [
    {
     "data": {
      "text/plain": [
       "(18461, 115)"
      ]
     },
     "execution_count": 83,
     "metadata": {},
     "output_type": "execute_result"
    }
   ],
   "source": [
    "df.shape"
   ]
  },
  {
   "cell_type": "code",
   "execution_count": 84,
   "id": "9c77428d-a918-4916-bc88-389cc197be19",
   "metadata": {},
   "outputs": [],
   "source": [
    "features=['lep1pt','lep2pt','lep1eta','lep2eta','lep1phi','lep2phi','drll','ptll','yVlep','phiVlep','mll','mT','mT2','PuppiMET_T1Smear_pt','PuppiMET_T1Smear_phi','photonet','photoneta','drl1a','drl2a','ml1g','ml2g','mllg']\n",
    "#features=['lep1pt','lep2pt','lep1eta','lep2eta','lep1phi','lep2phi','drll','ptll','yVlep','phiVlep','mll','mT','mT2','PuppiMET_T1Smear_pt','PuppiMET_T1Smear_phi','photonet','photoneta','drl1a','drl2a','n_bjets20_medium']"
   ]
  },
  {
   "cell_type": "code",
   "execution_count": 85,
   "id": "cefb4969-5b46-4ec2-9f77-55bacdc70175",
   "metadata": {},
   "outputs": [],
   "source": [
    "from sklearn.model_selection import train_test_split\n",
    "import xgboost as xgb\n",
    "n_boost_rounds = 10\n",
    "xgboost_params = {'eval_metric':'auc',\n",
    "                 # 'max_depth' : 4,\n",
    "                  'objective'  :'binary:logitraw'}"
   ]
  },
  {
   "cell_type": "code",
   "execution_count": 15,
   "id": "db762d32-58c0-47a4-84d1-8d6d3a2a5c5f",
   "metadata": {},
   "outputs": [],
   "source": [
    "category=['0jets','1jets']"
   ]
  },
  {
   "cell_type": "code",
   "execution_count": 121,
   "id": "36ae4b54-fd22-4e1b-947b-09e601013284",
   "metadata": {},
   "outputs": [
    {
     "name": "stdout",
     "output_type": "stream",
     "text": [
      "number of bkg  1360  number of sig  4625\n",
      "\n"
     ]
    }
   ],
   "source": [
    "#for i,group_df in df.groupby(\"njets30\"):\n",
    "#    print(i,'',group_df['njets30'])\n",
    "    \n",
    "X=group_df[features]\n",
    "Y=group_df['isSignal']\n",
    "    \n",
    "    #random_state is the seed used by the random number generator, \n",
    "    #random_state=42 make others get the same data spliting in different executions.\n",
    "    # shuffle make the bkg and signal mix randomly.\n",
    "X_train, X_test, y_train, y_test = train_test_split(X, Y, test_size=0.4, \n",
    "                                                        random_state=42,shuffle=True)\n",
    "idx_train = X_train.index\n",
    "idx_test = X_test.index\n",
    "    \n",
    "    # XGBoost has it's own data format, so we have to create these structures. \n",
    "    #(The copies have no specific purpose other than silencing an xgboost warning.)\n",
    "\n",
    "dmatrix_train = xgb.DMatrix(X_train.copy(), label=np.copy(y_train))\n",
    "dmatrix_test  = xgb.DMatrix(X_test.copy(), label=np.copy(y_test ))\n",
    "\n",
    "n_pos = np.sum(y_train == 1)\n",
    "n_neg = np.sum(y_train == 0)\n",
    "\n",
    "print('number of bkg ',n_neg,' number of sig ',n_pos)\n",
    "    # There is one additional hyperparameter needed to set per catoegy: `scale_pos_weight`.\n",
    "    # It corresponds  to a weight given to every positive sample, and it usually set to\n",
    "    # n_neg / n_pos when you have imbalanced datasets to balance the total contributions\n",
    "    # of the positive and negative classes in the loss function\n",
    "    \n",
    "xgboost_params[\"scale_pos_weight\"] = 1. * n_neg / n_pos\n",
    "    \n",
    "    # Train\n",
    "model = xgb.train(xgboost_params,\n",
    "                      dmatrix_train,\n",
    "                      num_boost_round=n_boost_rounds,\n",
    "                      evals= [(dmatrix_train, 'train'),\n",
    "                              (dmatrix_test, 'test')],\n",
    "                      early_stopping_rounds=10,\n",
    "                      verbose_eval=False)\n",
    "    \n",
    "best_iteration = model.best_iteration + 1\n",
    "if best_iteration < n_boost_rounds:\n",
    "        print(\"early stopping after {0} boosting rounds\".format(best_iteration))\n",
    "print(\"\")\n",
    "    \n",
    "model.save_model('model.json')\n",
    " \n",
    "    # Add new column for the BDT output\n",
    "df.loc[idx_train, \"score\"] = model.predict(dmatrix_train)\n",
    "df.loc[idx_test, \"score\"] = model.predict(dmatrix_test)\n",
    "    \n",
    "    # Add new column to separate the test and train\n",
    "df.loc[idx_train, \"test\"] = False\n",
    "df.loc[idx_test, \"test\"] = True"
   ]
  },
  {
   "cell_type": "code",
   "execution_count": 124,
   "id": "32e6c944-feee-43b7-a0a3-9f9d929704c9",
   "metadata": {},
   "outputs": [],
   "source": [
    "import matplotlib.pyplot as plt\n",
    "from sklearn import metrics\n",
    "\n",
    "def plot_roc_curve(df, score_column, tpr_threshold=0.7, ax=None, color=None, linestyle='-', label=None):\n",
    "    if ax is None:\n",
    "        ax = plt.gca()\n",
    "    if label is None:\n",
    "        label = score_column\n",
    "    fpr, tpr, thresholds = metrics.roc_curve(df['isSignal'], df[score_column])\n",
    "    mask = tpr > tpr_threshold\n",
    "    fpr, tpr = fpr[mask], tpr[mask]\n",
    "    ax.semilogy(tpr, fpr, label=label, color=color, linestyle=linestyle)"
   ]
  },
  {
   "cell_type": "code",
   "execution_count": 125,
   "id": "bb10b3cc-9f9e-453b-be22-f4eb6cdd9984",
   "metadata": {},
   "outputs": [],
   "source": [
    "fpr, tpr, thresholds = metrics.roc_curve(df['isSignal'], df['score'])"
   ]
  },
  {
   "cell_type": "code",
   "execution_count": 131,
   "id": "1b6f6a89-249c-4d83-b653-779de0e594df",
   "metadata": {},
   "outputs": [
    {
     "data": {
      "image/png": "[encoded data removed]",
      "text/plain": [
       "<Figure size 360x360 with 1 Axes>"
      ]
     },
     "metadata": {
      "needs_background": "light"
     },
     "output_type": "display_data"
    }
   ],
   "source": [
    "fig, axes = plt.subplots(1, 1, figsize=(5,5))\n",
    "if True:\n",
    "    \n",
    "    df_train = df.query('test==False')\n",
    "    df_test =  df.query(\"test==True\")\n",
    "    \n",
    "    ax=axes\n",
    "    ax.set_xlabel(\"Signal efficiency\")\n",
    "    ax.set_ylabel(\"Background efficiency\")\n",
    "    #plot_roc_curve(df_test, \"lep1pt\", ax=ax)\n",
    "    plot_roc_curve(df_test, \"score\", ax=ax, label=\"your new training (test sample)\")\n",
    "    plot_roc_curve(df_train, \"score\", ax=ax, color=\"#ff7f02\", linestyle='--', label=\"your new training (train sample)\")\n",
    "    ax.set_title(category[i])\n",
    "    ax.legend()"
   ]
  },
  {
   "cell_type": "code",
   "execution_count": 132,
   "id": "c6da254c-791d-4c3f-8413-45c1f06d0feb",
   "metadata": {},
   "outputs": [
    {
     "data": {
      "image/png": "[encoded data removed]",
      "text/plain": [
       "<Figure size 432x288 with 1 Axes>"
      ]
     },
     "metadata": {
      "needs_background": "light"
     },
     "output_type": "display_data"
    }
   ],
   "source": [
    "from sklearn.metrics import roc_curve, auc\n",
    "if True:\n",
    "    \n",
    "    df_train = df.query('test==False')\n",
    "    df_test =  df.query(\"test==True\")\n",
    "\n",
    "    fpr, tpr, _ = roc_curve(df_test['isSignal'], df_test['score'])\n",
    "    roc_auc = auc(fpr, tpr)\n",
    "    plt.figure()\n",
    "    lw = 2\n",
    "    plt.plot(fpr, tpr, color='darkorange',\n",
    "         lw=lw, label='ROC curve (area = %0.2f)' % roc_auc)\n",
    "    plt.plot([0, 1], [0, 1], color='navy', lw=lw, linestyle='--')\n",
    "    plt.xlim([0.0, 1.0])\n",
    "    plt.ylim([0.0, 1.05])\n",
    "    plt.xlabel('False Positive Rate')\n",
    "    plt.ylabel('True Positive Rate')\n",
    "    plt.title('Receiver operating characteristic '+category[i])\n",
    "    plt.legend(loc=\"lower right\")"
   ]
  },
  {
   "cell_type": "code",
   "execution_count": 133,
   "id": "b0491105-e75a-4235-b8b6-d33ac5b1794b",
   "metadata": {},
   "outputs": [],
   "source": [
    "model=xgb.Booster()\n",
    "model.load_model('./model.json')"
   ]
  },
  {
   "cell_type": "code",
   "execution_count": 134,
   "id": "b78e68f4-aab2-44d2-9cf7-41aa516eb329",
   "metadata": {},
   "outputs": [
    {
     "data": {
      "text/plain": [
       "<AxesSubplot:title={'center':'Feature importance'}, xlabel='F score', ylabel='Features'>"
      ]
     },
     "execution_count": 134,
     "metadata": {},
     "output_type": "execute_result"
    },
    {
     "data": {
      "image/png": "[encoded data removed]",
      "text/plain": [
       "<Figure size 2160x2160 with 1 Axes>"
      ]
     },
     "metadata": {
      "needs_background": "light"
     },
     "output_type": "display_data"
    }
   ],
   "source": [
    "from xgboost import plot_importance\n",
    "plt.figure(figsize = (30,30))\n",
    "ax = plt.subplot(111)\n",
    "\n",
    "plot_importance(model,ax=ax)"
   ]
  },
  {
   "cell_type": "code",
   "execution_count": 135,
   "id": "3a7ef107-dc0a-479e-a5b2-2df85f1c8a92",
   "metadata": {},
   "outputs": [],
   "source": [
    "root_files18 = glob.glob(\"/home/pku/anying/cms/PKU-Cluster/WWg/BDT/rootfiles/optimal*18.root\")\n",
    "root_files17 = glob.glob(\"/home/pku/anying/cms/PKU-Cluster/WWg/BDT/rootfiles/optimal*17.root\")\n",
    "root_files16 = glob.glob(\"/home/pku/anying/cms/PKU-Cluster/WWg/BDT/rootfiles/optimal*16.root\")"
   ]
  },
  {
   "cell_type": "code",
   "execution_count": 138,
   "id": "98227e8c-13b2-417d-a6c6-acedbed2b6aa",
   "metadata": {},
   "outputs": [],
   "source": [
    "def get_df_year(root_files,features,lumi):\n",
    "#   df = pd.concat((get_df(f) for f in tqdm(root_files)), ignore_index=True)\n",
    "    ls=[]\n",
    "    for f in root_files:\n",
    "#        print(f)\n",
    "        df_tmp = get_df(f)\n",
    "        if 'plj' not in f and 'fake' not in f:\n",
    "            print(f)\n",
    "            df_tmp['actualWeight']=df_tmp['actualWeight']*lumi\n",
    "        ls.append(df_tmp)\n",
    "    df=pd.concat(ls,ignore_index=True)\n",
    "    model=xgb.Booster()\n",
    "    model.load_model('./model.json')\n",
    "    dmatrix = xgb.DMatrix(df[features], label=np.copy(df['isSignal']))\n",
    "    df.loc[df.index, \"score\"] = model.predict(dmatrix)\n",
    "    return df"
   ]
  },
  {
   "cell_type": "code",
   "execution_count": 139,
   "id": "271286fb-da26-44f0-9727-2efd6ed640b6",
   "metadata": {},
   "outputs": [
    {
     "name": "stdout",
     "output_type": "stream",
     "text": [
      "/home/pku/anying/cms/PKU-Cluster/WWg/BDT/rootfiles/optimal_emua_ST18.root\n",
      "/home/pku/anying/cms/PKU-Cluster/WWg/BDT/rootfiles/optimal_emua_TTGJets18.root\n",
      "/home/pku/anying/cms/PKU-Cluster/WWg/BDT/rootfiles/optimal_emua_VV18.root\n",
      "/home/pku/anying/cms/PKU-Cluster/WWg/BDT/rootfiles/optimal_emua_WGJets18.root\n",
      "/home/pku/anying/cms/PKU-Cluster/WWg/BDT/rootfiles/optimal_emua_WWG_emu18.root\n",
      "/home/pku/anying/cms/PKU-Cluster/WWg/BDT/rootfiles/optimal_emua_ZGJets18.root\n",
      "/home/pku/anying/cms/PKU-Cluster/WWg/BDT/rootfiles/optimal_emua_tZq18.root\n"
     ]
    }
   ],
   "source": [
    "df18=get_df_year(root_files18,features,59.7)"
   ]
  },
  {
   "cell_type": "code",
   "execution_count": 140,
   "id": "512b4a20-a022-4ea8-8d33-cb321b357506",
   "metadata": {},
   "outputs": [],
   "source": [
    "def get_hist(df):\n",
    "    hist=ROOT.TH1D(\"h1\",\"\",10,-3,3)\n",
    "    for i in range(0,df.shape[0]):\n",
    "        hist.Fill(df['score'].iloc[i],df['actualWeight'].iloc[i])\n",
    "    return hist    "
   ]
  },
  {
   "cell_type": "code",
   "execution_count": 141,
   "id": "dbea8109-e9df-4b71-b114-1389a9dccfa4",
   "metadata": {},
   "outputs": [],
   "source": [
    "bkg=df18.query('isSignal!=1 ')\n",
    "sig=df18.query('isSignal==1 ')"
   ]
  },
  {
   "cell_type": "code",
   "execution_count": 142,
   "id": "5a529a89-60f9-441c-a944-a2f042df23be",
   "metadata": {},
   "outputs": [
    {
     "name": "stderr",
     "output_type": "stream",
     "text": [
      "Warning in <TROOT::Append>: Replacing existing TH1: h1 (Potential memory leak).\n",
      "Warning in <TROOT::Append>: Replacing existing TH1: h1 (Potential memory leak).\n"
     ]
    }
   ],
   "source": [
    "hist_sig=get_hist(sig)\n",
    "hist_bkg=get_hist(bkg)"
   ]
  },
  {
   "cell_type": "code",
   "execution_count": 143,
   "id": "f193bafe-6442-42dd-a1bd-3c5688248327",
   "metadata": {},
   "outputs": [
    {
     "name": "stderr",
     "output_type": "stream",
     "text": [
      "Warning in <TCanvas::Constructor>: Deleting canvas with same name: c1\n"
     ]
    }
   ],
   "source": [
    "c1=ROOT.TCanvas(\"c1\",\"\",900,600)"
   ]
  },
  {
   "cell_type": "code",
   "execution_count": 144,
   "id": "da86f813-b62f-4e55-9a9c-c5ebcf5265ca",
   "metadata": {},
   "outputs": [
    {
     "data": {
      "image/png": "[encoded data removed]",
      "text/plain": [
       "<IPython.core.display.Image object>"
      ]
     },
     "metadata": {},
     "output_type": "display_data"
    }
   ],
   "source": [
    "hist_bkg.SetLineColor(3)\n",
    "hist_bkg.Draw(\"hist\")\n",
    "#gStyle.SetOptStat(0)\n",
    "hist_sig.SetLineColor(2)\n",
    "hist_sig.Draw('hist same')\n",
    "c1.Draw()\n",
    "c1.Update()"
   ]
  },
  {
   "cell_type": "code",
   "execution_count": 145,
   "id": "3db2ee94-0f88-45c4-81a7-a509c2a76fd4",
   "metadata": {},
   "outputs": [
    {
     "data": {
      "text/plain": [
       "61.850465765804984"
      ]
     },
     "execution_count": 145,
     "metadata": {},
     "output_type": "execute_result"
    }
   ],
   "source": [
    "hist_sig.GetSum()"
   ]
  },
  {
   "cell_type": "code",
   "execution_count": 146,
   "id": "359ed00d-43fd-4487-8e78-aa0ecd27a05a",
   "metadata": {},
   "outputs": [
    {
     "data": {
      "text/plain": [
       "208.3494308710433"
      ]
     },
     "execution_count": 146,
     "metadata": {},
     "output_type": "execute_result"
    }
   ],
   "source": [
    "hist_bkg.GetSum()"
   ]
  }
 ],
 "metadata": {
  "kernelspec": {
   "display_name": "Python 3 (ipykernel)",
   "language": "python",
   "name": "python3"
  },
  "language_info": {
   "codemirror_mode": {
    "name": "ipython",
    "version": 3
   },
   "file_extension": ".py",
   "mimetype": "text/x-python",
   "name": "python",
   "nbconvert_exporter": "python",
   "pygments_lexer": "ipython3",
   "version": "3.9.7"
  }
 },
 "nbformat": 4,
 "nbformat_minor": 5
}
