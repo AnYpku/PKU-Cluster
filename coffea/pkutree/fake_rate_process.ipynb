{
 "cells": [
  {
   "cell_type": "code",
   "execution_count": 1,
   "id": "969d26a5",
   "metadata": {},
   "outputs": [],
   "source": [
    "import uproot\n",
    "import numpy as np\n",
    "import awkward as ak\n",
    "import math as m\n",
    "import matplotlib.pyplot as plt\n",
    "import matplotlib as mpl\n",
    "import mplhep as hep\n",
    "import os\n",
    "import numba as nb\n",
    "import boost_histogram as bh\n",
    "import yaml\n",
    "import json\n",
    "from coffea import hist as chist\n",
    "from coffea.nanoevents.methods import vector\n",
    "\n",
    "import sys\n",
    "import time\n",
    "\n",
    "from coffea.util import save\n",
    "from coffea.util import load"
   ]
  },
  {
   "cell_type": "code",
   "execution_count": 2,
   "id": "56845557",
   "metadata": {},
   "outputs": [],
   "source": [
    "def mkdir(path):\n",
    "    '''\n",
    "    创建指定的文件夹\n",
    "    :param path: 文件夹路径，字符串格式\n",
    "    :return: True(新建成功) or False(文件夹已存在，新建失败)\n",
    "    '''\n",
    "    # 引入模块\n",
    "    import os\n",
    "\n",
    "    # 去除首位空格\n",
    "    path = path.strip()\n",
    "    # 去除尾部 \\ 符号\n",
    "    path = path.rstrip(\"\\\\\")\n",
    "\n",
    "    # 判断路径是否存在\n",
    "    # 存在     True\n",
    "    # 不存在   False\n",
    "    isExists = os.path.exists(path)\n",
    "\n",
    "    # 判断结果\n",
    "    if not isExists:\n",
    "        # 如果不存在则创建目录\n",
    "         # 创建目录操作函数\n",
    "        os.makedirs(path)\n",
    "        print(path + ' 创建成功')\n",
    "        return True\n",
    "    else:\n",
    "        # 如果目录存在则不创建，并提示目录已存在\n",
    "        print(path + ' 目录已存在')\n",
    "        return False"
   ]
  },
  {
   "cell_type": "code",
   "execution_count": 5,
   "id": "606eb4c4",
   "metadata": {},
   "outputs": [
    {
     "name": "stdout",
     "output_type": "stream",
     "text": [
      "newid_fake_rate_hist 目录已存在\n",
      "Progress: 44/44\t(131960,115709)\t(3260.96,2986.07)\n",
      "newid_fake_rate_hist 目录已存在\n",
      "Progress: 27/27\t(52246,43256)\t(386.08,337.39)\n",
      "newid_fake_rate_hist 目录已存在\n",
      "Progress: 57/57\t(427764,378331)\t(754.63,694.60)\n",
      "newid_fake_rate_hist 目录已存在\n"
     ]
    }
   ],
   "source": [
    "lepton = 'muon'#'muon' or 'electron'\n",
    "isdata = 'mc'#'data' or 'mc'\n",
    "output_dir = f'newid_fake_rate_hist'\n",
    "mkdir(output_dir)\n",
    "if isdata=='mc':\n",
    "    MC_list = ['WJets','DYJetsToLL_M-10to50','DYJetsToLL_M-50']\n",
    "else:\n",
    "    MC_list = [1]\n",
    "for MC in MC_list:#'WJets','DYJetsToLL_M-10to50','DYJetsToLL_M-50'\n",
    "    if lepton=='electron' and isdata=='data':\n",
    "        data_nanoAOD_dir_list = ['/data/pubfs/pku_visitor/public_write/download/datasets/nanov7/EGamma/Run2018A-02Apr2020-v1/NANOAOD',\n",
    "                                '/data/pubfs/pku_visitor/public_write/download/datasets/nanov7/EGamma/Run2018B-02Apr2020-v1/NANOAOD',\n",
    "                                '/data/pubfs/pku_visitor/public_write/download/datasets/nanov7/EGamma/Run2018C-02Apr2020-v1/NANOAOD',\n",
    "                                '/data/pubfs/pku_visitor/public_write/download/datasets/nanov7/EGamma/Run2018D-02Apr2020-v1/NANOAOD']\n",
    "    elif lepton=='muon' and isdata=='data':\n",
    "        data_nanoAOD_dir_list = ['/data/pubfs/pku_visitor/public_write/download/datasets/nanov7/DoubleMuon/Run2018A-02Apr2020-v1/NANOAOD',\n",
    "                                '/data/pubfs/pku_visitor/public_write/download/datasets/nanov7/DoubleMuon/Run2018B-02Apr2020-v1/NANOAOD',\n",
    "                                '/data/pubfs/pku_visitor/public_write/download/datasets/nanov7/DoubleMuon/Run2018C-02Apr2020-v1/NANOAOD',\n",
    "                                '/data/pubfs/pku_visitor/public_write/download/datasets/nanov7/DoubleMuon/Run2018D-02Apr2020-v1/NANOAOD']\n",
    "    else:\n",
    "        if isdata=='mc':\n",
    "            if MC=='WJets':\n",
    "                data_nanoAOD_dir_list = ['/data/pubfs/pku_visitor/public_write/download/datasets/nanov7/WJetsToLNu_TuneCP5_13TeV-madgraphMLM-pythia8/RunIIAutumn18NanoAODv7-Nano02Apr2020_102X_upgrade2018_realistic_v21-v1/NANOAODSIM']\n",
    "            elif MC=='DYJetsToLL_M-50':\n",
    "                data_nanoAOD_dir_list = ['/data/pubfs/pku_visitor/public_write/download/datasets/nanov7/DYJetsToLL_M-50_TuneCP5_13TeV-madgraphMLM-pythia8/RunIIAutumn18NanoAODv7-Nano02Apr2020_102X_upgrade2018_realistic_v21-v1/NANOAODSIM']\n",
    "            elif MC=='DYJetsToLL_M-10to50': \n",
    "                data_nanoAOD_dir_list = ['/data/pubfs/pku_visitor/public_write/download/datasets/nanov7/DYJetsToLL_M-10to50_TuneCP5_13TeV-madgraphMLM-pythia8/RunIIAutumn18NanoAODv7-Nano02Apr2020_102X_upgrade2018_realistic_v21-v1/NANOAODSIM']\n",
    "            else:\n",
    "                print('wrong MC name')\n",
    "                data_nanoAOD_dir = ''\n",
    "        else:\n",
    "            print('!!!wrong lepton type!!!')\n",
    "    if isdata=='data':\n",
    "        array_dir = f'newid_{isdata}_{lepton}_fake_rate'\n",
    "    else:\n",
    "        array_dir = f'newid_{isdata}_{lepton}_fake_rate/{MC}'\n",
    "\n",
    "    ntotal_file = len(os.listdir(array_dir))\n",
    "\n",
    "    pwd = os.popen('pwd').readlines()[0].replace('\\n','')\n",
    "\n",
    "    nevents_after_cr_filter = 0\n",
    "    nevents_pass = 0\n",
    "    \n",
    "    nevents_real_after_cr_filter = 0\n",
    "    nevents_real_pass = 0\n",
    "\n",
    "    ptbins=np.array([10,20,25,30,35,45])\n",
    "    etabins=np.array([0,1.0,1.5,2.0,2.5])\n",
    "    fr_hist = chist.Hist(\"All\",\n",
    "               chist.Bin(\"x\", \"abs_eta\", etabins),\n",
    "               chist.Bin(\"y\", \"$\\mathrm{p_T[GeV]}$\", ptbins),\n",
    "              )\n",
    "    fr_hist_pass = chist.Hist(\"Pass\",\n",
    "               chist.Bin(\"x\", \"abs_eta\", etabins),\n",
    "               chist.Bin(\"y\", \"$\\mathrm{p_T[GeV]}$\", ptbins),\n",
    "              )\n",
    "    if isdata=='mc':\n",
    "        if MC=='WJets':\n",
    "            NGW = 70962104.5234375\n",
    "            cross_section = 61526.7*1000\n",
    "        elif MC=='DYJetsToLL_M-50':\n",
    "            NGW = 100108282.765625\n",
    "            cross_section = 6189.39*1000 \n",
    "        elif MC=='DYJetsToLL_M-10to50':\n",
    "            NGW = 39360042.234375\n",
    "            cross_section = 18610*1000\n",
    "        else:\n",
    "            print('wrong MC name')\n",
    "        if lepton=='muon':\n",
    "            equivalent_lumi_highpt = 0.04578\n",
    "            equivalent_lumi_lowpt = 0.00856\n",
    "        else:\n",
    "            equivalent_lumi_highpt = 0.03891\n",
    "            equivalent_lumi_lowpt = 0.00641\n",
    "\n",
    "        weight_highpt = cross_section*equivalent_lumi_highpt/NGW\n",
    "        weight_lowpt = cross_section*equivalent_lumi_lowpt/NGW\n",
    "\n",
    "    for i,rootfile in enumerate(os.listdir(array_dir)):\n",
    "        print(\"\\r\", end=\"\")\n",
    "        if not os.path.exists(pwd+'/'+array_dir+'/'+str(i+1)+'/'+'x_array'):\n",
    "            print('%d/%d wrong'%(i+1, ntotal_file))\n",
    "        else:\n",
    "            if isdata=='data':\n",
    "                try:\n",
    "                    x_array = ak.from_parquet(pwd+'/'+array_dir+'/'+str(i+1)+'/'+'x_array')\n",
    "                    y_array = ak.from_parquet(pwd+'/'+array_dir+'/'+str(i+1)+'/'+'y_array')\n",
    "                    fr_hist.fill(x=x_array,y=y_array)\n",
    "                    nevents_after_cr_filter += len(x_array)\n",
    "                except:\n",
    "                    pass\n",
    "                try:\n",
    "                    x_pass_array = ak.from_parquet(pwd+'/'+array_dir+'/'+str(i+1)+'/'+'x_pass_array')\n",
    "                    y_pass_array = ak.from_parquet(pwd+'/'+array_dir+'/'+str(i+1)+'/'+'y_pass_array')\n",
    "                    fr_hist_pass.fill(x=x_pass_array,y=y_pass_array)\n",
    "                    nevents_pass += len(x_pass_array)\n",
    "                except:\n",
    "                    pass\n",
    "            else:\n",
    "                try:\n",
    "                    x_array = ak.from_parquet(pwd+'/'+array_dir+'/'+str(i+1)+'/'+'x_array')\n",
    "                    y_array = ak.from_parquet(pwd+'/'+array_dir+'/'+str(i+1)+'/'+'y_array')\n",
    "                    gen_weight_array = ak.from_parquet(pwd+'/'+array_dir+'/'+str(i+1)+'/'+'gen_weight_array')\n",
    "                    if lepton=='electron':\n",
    "                        weight_array = gen_weight_array*1*(y_array<25)*weight_lowpt + gen_weight_array*1*(y_array>=25)*weight_highpt\n",
    "                    else:\n",
    "                        weight_array = gen_weight_array*1*(y_array<20)*weight_lowpt + gen_weight_array*1*(y_array>=20)*weight_highpt\n",
    "\n",
    "                    fr_hist.fill(x=x_array,y=y_array,weight=weight_array)\n",
    "                    nevents_after_cr_filter += len(x_array)\n",
    "                    nevents_real_after_cr_filter += np.sum(weight_array)\n",
    "                except:\n",
    "                    pass\n",
    "                try:\n",
    "                    x_pass_array = ak.from_parquet(pwd+'/'+array_dir+'/'+str(i+1)+'/'+'x_pass_array')\n",
    "                    y_pass_array = ak.from_parquet(pwd+'/'+array_dir+'/'+str(i+1)+'/'+'y_pass_array')\n",
    "                    gen_weight_pass_array = ak.from_parquet(pwd+'/'+array_dir+'/'+str(i+1)+'/'+'gen_weight_pass_array')\n",
    "\n",
    "                    if lepton=='electron':\n",
    "                        weight_pass_array = gen_weight_pass_array*1*(y_pass_array<25)*weight_lowpt + gen_weight_pass_array*1*(y_pass_array>=25)*weight_highpt\n",
    "                    else:\n",
    "                        weight_pass_array = gen_weight_pass_array*1*(y_pass_array<20)*weight_lowpt + gen_weight_pass_array*1*(y_pass_array>=20)*weight_highpt\n",
    "\n",
    "                    fr_hist_pass.fill(x=x_pass_array,y=y_pass_array,weight=weight_pass_array)\n",
    "                    nevents_pass += len(x_pass_array)\n",
    "                    nevents_real_pass += np.sum(weight_pass_array)\n",
    "                except:\n",
    "                    pass\n",
    "        print(\"Progress: %d/%d\"%(i+1, ntotal_file),end=\"\")\n",
    "        print(\"\\t(%d,%d)\"%(nevents_after_cr_filter,nevents_pass),end=\"\")\n",
    "        if isdata=='mc':\n",
    "            print(\"\\t(%.2f,%.2f)\"%(nevents_real_after_cr_filter,nevents_real_pass),end=\"\")\n",
    "        sys.stdout.flush()\n",
    "    print()\n",
    "    mkdir(output_dir)\n",
    "    if isdata=='data':\n",
    "        save(fr_hist,f\"{output_dir}/{isdata}_{lepton}\")\n",
    "        save(fr_hist_pass,f\"{output_dir}/{isdata}_{lepton}_pass\")\n",
    "    else:\n",
    "        save(fr_hist,f\"{output_dir}/{isdata}_{lepton}_{MC}\")\n",
    "        save(fr_hist_pass,f\"{output_dir}/{isdata}_{lepton}_{MC}_pass\")"
   ]
  },
  {
   "cell_type": "code",
   "execution_count": 28,
   "id": "622a10a7",
   "metadata": {},
   "outputs": [
    {
     "name": "stdout",
     "output_type": "stream",
     "text": [
      "Download progress: 100%:  ▋▋▋▋▋▋▋▋▋▋▋▋▋▋▋▋▋▋▋▋▋▋▋▋▋▋▋▋▋▋▋▋▋▋▋▋▋▋▋▋▋▋▋▋▋▋▋▋▋▋"
     ]
    }
   ],
   "source": [
    "for i in range(1, 101):\n",
    "    print(\"\\r\", end=\"\")\n",
    "    print(\"Download progress: {}%: \".format(i), \"▋\" * (i // 2), end=\"\")\n",
    "    sys.stdout.flush()\n",
    "    time.sleep(0.05)"
   ]
  },
  {
   "cell_type": "code",
   "execution_count": 7,
   "id": "314e61cc",
   "metadata": {},
   "outputs": [
    {
     "data": {
      "text/plain": [
       "0.0024056867049036573"
      ]
     },
     "execution_count": 7,
     "metadata": {},
     "output_type": "execute_result"
    }
   ],
   "source": [
    "weight_highpt"
   ]
  },
  {
   "cell_type": "code",
   "execution_count": 8,
   "id": "4895ff29",
   "metadata": {},
   "outputs": [
    {
     "data": {
      "text/plain": [
       "0.0003963107627456295"
      ]
     },
     "execution_count": 8,
     "metadata": {},
     "output_type": "execute_result"
    }
   ],
   "source": [
    "weight_lowpt"
   ]
  },
  {
   "cell_type": "code",
   "execution_count": null,
   "id": "298fd40d",
   "metadata": {},
   "outputs": [],
   "source": []
  }
 ],
 "metadata": {
  "kernelspec": {
   "display_name": "Python 3 (ipykernel)",
   "language": "python",
   "name": "python3"
  },
  "language_info": {
   "codemirror_mode": {
    "name": "ipython",
    "version": 3
   },
   "file_extension": ".py",
   "mimetype": "text/x-python",
   "name": "python",
   "nbconvert_exporter": "python",
   "pygments_lexer": "ipython3",
   "version": "3.8.8"
  }
 },
 "nbformat": 4,
 "nbformat_minor": 5
}
