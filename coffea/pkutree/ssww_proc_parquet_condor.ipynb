{
 "cells": [
  {
   "cell_type": "code",
   "execution_count": 2,
   "id": "3fdaef8f",
   "metadata": {},
   "outputs": [],
   "source": [
    "import os\n",
    "import random\n",
    "import yaml"
   ]
  },
  {
   "cell_type": "code",
   "execution_count": 1,
   "id": "bca547e3",
   "metadata": {},
   "outputs": [],
   "source": [
    "def mkdir(path):\n",
    "    '''\n",
    "    创建指定的文件夹\n",
    "    :param path: 文件夹路径，字符串格式\n",
    "    :return: True(新建成功) or False(文件夹已存在，新建失败)\n",
    "    '''\n",
    "    # 引入模块\n",
    "    import os\n",
    "\n",
    "    # 去除首位空格\n",
    "    path = path.strip()\n",
    "    # 去除尾部 \\ 符号\n",
    "    path = path.rstrip(\"\\\\\")\n",
    "\n",
    "    # 判断路径是否存在\n",
    "    # 存在     True\n",
    "    # 不存在   False\n",
    "    isExists = os.path.exists(path)\n",
    "\n",
    "    # 判断结果\n",
    "    if not isExists:\n",
    "        # 如果不存在则创建目录\n",
    "         # 创建目录操作函数\n",
    "        os.makedirs(path)\n",
    "        print(path + ' 创建成功\\n')\n",
    "        return True\n",
    "    else:\n",
    "        # 如果目录存在则不创建，并提示目录已存在\n",
    "        print(path + ' 目录已存在\\n')\n",
    "        return False"
   ]
  },
  {
   "cell_type": "code",
   "execution_count": 3,
   "id": "b65ad225",
   "metadata": {},
   "outputs": [],
   "source": [
    "def check_process(path):\n",
    "    for n in os.listdir(path):\n",
    "        if not os.path.exists(f'{path}/{n}/{n}.parquet'):\n",
    "            return False\n",
    "    return True\n",
    "    "
   ]
  },
  {
   "cell_type": "code",
   "execution_count": 9,
   "id": "99a7b80a",
   "metadata": {
    "scrolled": true
   },
   "outputs": [
    {
     "name": "stdout",
     "output_type": "stream",
     "text": [
      "coffea_for_training_data_parquet 目录已存在\n",
      "\n",
      "coffea_for_training_data_parquet/log 目录已存在\n",
      "\n",
      "EGamma_Run2018C\n",
      "coffea_for_training_data_parquet/log/EGamma_Run2018C 目录已存在\n",
      "\n",
      "coffea_for_training_data_parquet/EGamma_Run2018C 目录已存在\n",
      "\n",
      "Submitting job(s).\n",
      "1 job(s) submitted to cluster 148708.\n",
      "\n",
      "MuonEG_Run2018D\n",
      "coffea_for_training_data_parquet/log/MuonEG_Run2018D 目录已存在\n",
      "\n",
      "coffea_for_training_data_parquet/MuonEG_Run2018D 目录已存在\n",
      "\n",
      "Submitting job(s).\n",
      "1 job(s) submitted to cluster 148709.\n",
      "\n"
     ]
    }
   ],
   "source": [
    "# for isdata in ['data','mc']:\n",
    "# for isdata in ['mc']:\n",
    "for isdata in ['data']:\n",
    "    nanov7_dir = r'/data/pubfs/pku_visitor/public_write/download/datasets/nanov7'\n",
    "\n",
    "#     isdata = 'data'#'data' or 'mc'\n",
    "    if isdata=='data':\n",
    "#         Data_merge = [\n",
    "#                     'DoubleMuon_Run2018A','DoubleMuon_Run2018B','DoubleMuon_Run2018C','DoubleMuon_Run2018D',\n",
    "#                      'EGamma_Run2018A','EGamma_Run2018B','EGamma_Run2018C','EGamma_Run2018D',\n",
    "#                      'SingleMuon_Run2018A','SingleMuon_Run2018B','SingleMuon_Run2018C','SingleMuon_Run2018D',\n",
    "#                      'MuonEG_Run2018A','MuonEG_Run2018B','MuonEG_Run2018C','MuonEG_Run2018D'\n",
    "#                      ]\n",
    "        Data_merge = [\n",
    "                    'EGamma_Run2018C','MuonEG_Run2018D'\n",
    "                     ]\n",
    "        PROCESSES= [Data_merge]\n",
    "\n",
    "        with open(f\"/data/pubfs/tyyang99/jupyter_files/data_2018_nanov7.yaml\", 'r') as f:\n",
    "            mc_yaml = yaml.load(f, Loader=yaml.FullLoader)\n",
    "    elif isdata=='mc':\n",
    "        WW_polar = ['WpWpJJ_LL_polarization_EWK','WpWpJJ_TL_polarization_EWK','WpWpJJ_TT_polarization_EWK']\n",
    "        WW_merge = ['WpWpJJ_EWK', 'WpWpJJ_QCD']\n",
    "        WZ_EWK = ['WLLJJ_EWK']\n",
    "        WZ_merge = ['WZTo3LNu_0Jets_MLL_4to50','WZTo3LNu_1Jets_MLL_4to50','WZTo3LNu_2Jets_MLL_4to50','WZTo3LNu_3Jets_MLL_4to50',\n",
    "                   'WZTo3LNu_0Jets_MLL_50','WZTo3LNu_1Jets_MLL_50','WZTo3LNu_2Jets_MLL_50','WZTo3LNu_3Jets_MLL_50']\n",
    "        ZZ_merge = ['ZZJJTo4L_EWK','ZZJJTo4L_QCD','ZZJJTo4L_int','ggZZ_2e2mu',\n",
    "                   'ggZZ_2e2tau','ggZZ_2mu2tau','ggZZ_4e','ggZZ_4mu','ggZZ_4tau','ggZZ_4tau_ext']\n",
    "        TVX_merge = ['TTGJets','TTZToQQ','TTZToQQ_ext','TTZToLLNuNu_M_10',\n",
    "                     'TTWJetsToQQ','TTWJetsToLNu','tZq']\n",
    "        VG_merge = ['Zgamma_EWK','Zgamma_EWK_ext','Wgamma_EWK','Wgamma_int']\n",
    "        WS_merge = ['WWTo2L2Nu',\n",
    "                    'ggWW_ee','ggWW_em','ggWW_et','ggWW_me','ggWW_mm','ggWW_mt','ggWW_te','ggWW_tm','ggWW_tt',\n",
    "                    'TTTo2L2Nu','ST_tW_top','ST_tW_antitop',\n",
    "                    'DYJetsToLL_M50','DYJets_M10to50','DYJets_M10to50_ext','ggh_ww','ggh_zz','ggh_tautau',\n",
    "                    'VBF_HToZZTo4L','VBFHToWWTo2L2Nu','VBFHToTauTau',\n",
    "                    'ttHToNonbb','VHToNonbb']\n",
    "        Other_merge = ['WW_DS','WWW','WWZ','WZZ','ZZZ','WWG']\n",
    "\n",
    "        PROCESSES = [WW_polar, WW_merge, WZ_EWK, WZ_merge, ZZ_merge, TVX_merge, VG_merge, WS_merge, Other_merge]\n",
    "#         PROCESSES = [WW_polar]\n",
    "#         PROCESSES = [WW_merge]\n",
    "        with open(f\"/data/pubfs/tyyang99/jupyter_files/changexs_datasets.yaml\", 'r') as f:\n",
    "            mc_yaml = yaml.load(f, Loader=yaml.FullLoader)\n",
    "    else:\n",
    "        print('!!!Wrong data type!!!')\n",
    "\n",
    "#     output_dir = f'coffea_correctjet_newHLT_{isdata}_MET_ssww_final_output_array'\n",
    "    output_dir = f'coffea_for_training_{isdata}_parquet'\n",
    "    parquet_dir = f'coffea_newid_{isdata}_ssww_parquet'\n",
    "#     py_file = 'process_parquet.py'\n",
    "    py_file = 'prepare_for_training.py'\n",
    "    pwd = os.popen('pwd').readlines()[0].replace('\\n','')\n",
    "\n",
    "    mkdir(output_dir)\n",
    "    mkdir(output_dir+'/'+'log')\n",
    "    \n",
    "\n",
    "    for i,process_list in enumerate(PROCESSES):\n",
    "        for process in process_list:\n",
    "            if process.endswith('_ext'):\n",
    "                continue\n",
    "            else:\n",
    "                if process+'_ext' in process_list:\n",
    "                    ext = 'yes'\n",
    "                else:\n",
    "                    ext = 'no'\n",
    "    #                 continue\n",
    "            print(process)\n",
    "            mkdir(output_dir+'/'+'log'+'/'+process)\n",
    "            mkdir(output_dir+'/'+process)\n",
    "\n",
    "            process_parquet_dir = pwd + '/' + parquet_dir + '/' + process\n",
    "    #         check_parquet = check_process(process_parquet_dir)\n",
    "    #         if process+'_ext' in process_list:\n",
    "    #             check_parquet_ext = check_process(process_parquet_dir+'_ext')\n",
    "    #         else:\n",
    "    #             check_parquet_ext = True\n",
    "    #         if check_parquet and check_parquet_ext:\n",
    "            command = 'python %s -y 2018 -t %s -o %s -p %s -d %s -e %s'%(pwd+'/'+py_file, isdata, pwd+'/'+output_dir, process, process_parquet_dir, ext)\n",
    "            file_command = open('%s/%s/command.sh'%(output_dir+'/'+'log', process),'w')\n",
    "            file_command.write('#! /bin/bash\\n\\n')\n",
    "            file_command.write('sleep %d\\n'%(random.randint(10,900)))\n",
    "            file_command.write('source /home/pku/tyyang99/.bashrc\\n')\n",
    "            file_command.write('cd %s\\n'%(pwd))\n",
    "            file_command.write(command+'\\n')\n",
    "            file_command.write('echo \"job done!\"')\n",
    "            file_command.close()\n",
    "\n",
    "            file_submit = open('%s/%s/submit.txt'%(output_dir+'/'+'log', process),'w')\n",
    "            file_submit.write('Universe = vanilla\\n')\n",
    "            file_submit.write('Executable = %s/%s/command.sh\\n'%(output_dir+'/'+'log', process))\n",
    "    #         file_submit.write('arguments = %s %d\\n'%(root_dir,n_root))\n",
    "            file_submit.write('should_transfer_files = YES\\n')\n",
    "            file_submit.write('Error = %s/%s/%s.err\\n'%(output_dir+'/'+'log', process, process))\n",
    "            file_submit.write('Output = %s/%s/%s.out\\n'%(output_dir+'/'+'log', process, process))\n",
    "            file_submit.write('Log = %s/%s/%s.log\\n'%(output_dir+'/'+'log', process, process))\n",
    "            file_submit.write('Queue 1 \\n')\n",
    "            file_submit.close()\n",
    "\n",
    "            condor_output = os.popen('condor_submit %s/%s/submit.txt'%(output_dir+'/'+'log', process)).readlines()\n",
    "            for line in condor_output:\n",
    "                print(line,end='')\n",
    "            print()"
   ]
  },
  {
   "cell_type": "code",
   "execution_count": 28,
   "id": "4ebfd0fe",
   "metadata": {},
   "outputs": [
    {
     "data": {
      "image/png": "[encoded data removed]",
      "text/plain": [
       "<Figure size 720x720 with 1 Axes>"
      ]
     },
     "metadata": {
      "needs_background": "light"
     },
     "output_type": "display_data"
    }
   ],
   "source": [
    "import numpy as np\n",
    "import awkward as ak\n",
    "import math as m\n",
    "import matplotlib.pyplot as plt\n",
    "import matplotlib as mpl\n",
    "import mplhep as hep\n",
    "import boost_histogram as bh\n",
    "\n",
    "mpl.style.use(hep.style.CMS)\n",
    "fig, ax = plt.subplots(figsize=(10,10))\n",
    "ax.set_ylim([0,1.1353669626610772*2])\n",
    "yticks1 = ax.yaxis.get_major_ticks()\n",
    "yticks1[0].label1.set_visible(False)\n",
    "yticks1[-1].label1.set_visible(False)"
   ]
  },
  {
   "cell_type": "code",
   "execution_count": 18,
   "id": "ac7cf340",
   "metadata": {},
   "outputs": [
    {
     "data": {
      "text/plain": [
       "Text(0, 0.0, '0.00')"
      ]
     },
     "execution_count": 18,
     "metadata": {},
     "output_type": "execute_result"
    }
   ],
   "source": [
    "yticks1[0].label1"
   ]
  },
  {
   "cell_type": "code",
   "execution_count": 24,
   "id": "fcde093e",
   "metadata": {},
   "outputs": [
    {
     "ename": "TypeError",
     "evalue": "'Text' object is not subscriptable",
     "output_type": "error",
     "traceback": [
      "\u001b[0;31m---------------------------------------------------------------------------\u001b[0m",
      "\u001b[0;31mTypeError\u001b[0m                                 Traceback (most recent call last)",
      "\u001b[0;32m/tmp/ipykernel_3770115/4127988126.py\u001b[0m in \u001b[0;36m<module>\u001b[0;34m\u001b[0m\n\u001b[0;32m----> 1\u001b[0;31m \u001b[0myticks1\u001b[0m\u001b[0;34m[\u001b[0m\u001b[0;34m-\u001b[0m\u001b[0;36m1\u001b[0m\u001b[0;34m]\u001b[0m\u001b[0;34m.\u001b[0m\u001b[0mlabel1\u001b[0m\u001b[0;34m[\u001b[0m\u001b[0;36m0\u001b[0m\u001b[0;34m]\u001b[0m\u001b[0;34m\u001b[0m\u001b[0;34m\u001b[0m\u001b[0m\n\u001b[0m",
      "\u001b[0;31mTypeError\u001b[0m: 'Text' object is not subscriptable"
     ]
    }
   ],
   "source": [
    "yticks1[-1].label1"
   ]
  },
  {
   "cell_type": "code",
   "execution_count": null,
   "id": "e3483442",
   "metadata": {},
   "outputs": [],
   "source": []
  }
 ],
 "metadata": {
  "kernelspec": {
   "display_name": "Python 3 (ipykernel)",
   "language": "python",
   "name": "python3"
  },
  "language_info": {
   "codemirror_mode": {
    "name": "ipython",
    "version": 3
   },
   "file_extension": ".py",
   "mimetype": "text/x-python",
   "name": "python",
   "nbconvert_exporter": "python",
   "pygments_lexer": "ipython3",
   "version": "3.8.8"
  }
 },
 "nbformat": 4,
 "nbformat_minor": 5
}
