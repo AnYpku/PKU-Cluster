{
 "cells": [
  {
   "cell_type": "code",
   "execution_count": 1,
   "id": "00770eae",
   "metadata": {},
   "outputs": [],
   "source": [
    "import uproot\n",
    "import numpy as np\n",
    "import awkward as ak\n",
    "import math as m\n",
    "import matplotlib.pyplot as plt\n",
    "import matplotlib as mpl\n",
    "import mplhep as hep\n",
    "import os\n",
    "import numba as nb\n",
    "import boost_histogram as bh\n",
    "import yaml\n",
    "import json\n",
    "from coffea import hist as chist\n",
    "from coffea.nanoevents.methods import vector\n",
    "from coffea.nanoevents import NanoEventsFactory, NanoAODSchema, BaseSchema, TreeMakerSchema\n",
    "\n",
    "import sys\n",
    "import time\n",
    "\n",
    "from coffea.util import save\n",
    "from coffea.util import load\n",
    "\n",
    "from yty_hist_class import yty_histplot"
   ]
  },
  {
   "cell_type": "code",
   "execution_count": 2,
   "id": "58401f9d",
   "metadata": {},
   "outputs": [],
   "source": [
    "pi = 3.14159265\n",
    "\n",
    "def Delta_phi(phi1,phi2):\n",
    "    a = abs(phi1-phi2)\n",
    "    return np.array(1*(a<=pi)*a+1*(a>pi)*(2*pi-a))\n",
    "\n",
    "def Delta_eta(eta1,eta2):\n",
    "    return np.array(abs(eta1-eta2))\n",
    "\n",
    "def Delta_r(eta1,phi1,eta2,phi2):\n",
    "    de = Delta_eta(eta1,eta2)\n",
    "    dp = Delta_phi(phi1,phi2)\n",
    "    return np.sqrt(de**2+dp**2)"
   ]
  },
  {
   "cell_type": "code",
   "execution_count": 3,
   "id": "a5a0bb0d",
   "metadata": {},
   "outputs": [],
   "source": [
    "def mkdir(path):\n",
    "    '''\n",
    "    创建指定的文件夹\n",
    "    :param path: 文件夹路径，字符串格式\n",
    "    :return: True(新建成功) or False(文件夹已存在，新建失败)\n",
    "    '''\n",
    "    # 引入模块\n",
    "    import os\n",
    "\n",
    "    # 去除首位空格\n",
    "    path = path.strip()\n",
    "    # 去除尾部 \\ 符号\n",
    "    path = path.rstrip(\"\\\\\")\n",
    "\n",
    "    # 判断路径是否存在\n",
    "    # 存在     True\n",
    "    # 不存在   False\n",
    "    isExists = os.path.exists(path)\n",
    "\n",
    "    # 判断结果\n",
    "    if not isExists:\n",
    "        # 如果不存在则创建目录\n",
    "         # 创建目录操作函数\n",
    "        os.makedirs(path)\n",
    "        print(path + ' 创建成功')\n",
    "        return True\n",
    "    else:\n",
    "        # 如果目录存在则不创建，并提示目录已存在\n",
    "        print(path + ' 目录已存在')\n",
    "        return False"
   ]
  },
  {
   "cell_type": "code",
   "execution_count": 6,
   "id": "7cfec2e9",
   "metadata": {
    "scrolled": true
   },
   "outputs": [
    {
     "name": "stdout",
     "output_type": "stream",
     "text": [
      "coffea_met_tc_parquet_fake_rate_hist 目录已存在\n",
      "Progress: 44/44\t73798\t80978\t2463.87\t2630.64\n",
      "Progress: 27/27\t10134\t12286\t109.83\t124.81\n",
      "Progress: 57/57\t209863\t236236\t430.68\t466.84\n",
      "Progress: 238/238\t37423\t95463\n"
     ]
    }
   ],
   "source": [
    "lepton = 'muon'#'muon' or 'electron'\n",
    "isdata = 'data'#'data' or 'mc'\n",
    "output_dir = f'coffea_met_tc_parquet_fake_rate_hist'\n",
    "mkdir(output_dir)\n",
    "\n",
    "# HLT_list = ['Mu12_TrkIsoVVL_Ele23_CaloIdL_TrackIdL_IsoVL_DZ',\n",
    "#         'Mu12_TrkIsoVVL_Ele23_CaloIdL_TrackIdL_IsoVL',\n",
    "#         'Mu23_TrkIsoVVL_Ele12_CaloIdL_TrackIdL_IsoVL_DZ',\n",
    "#         'Mu23_TrkIsoVVL_Ele12_CaloIdL_TrackIdL_IsoVL',\n",
    "#         'Mu8_TrkIsoVVL_Ele23_CaloIdL_TrackIdL_IsoVL_DZ',\n",
    "#         'Mu8_TrkIsoVVL_Ele23_CaloIdL_TrackIdL_IsoVL',\n",
    "#         'Mu17_TrkIsoVVL_Mu8_TrkIsoVVL_DZ_Mass3p8',\n",
    "#         'Mu17_TrkIsoVVL_Mu8_TrkIsoVVL_DZ_Mass8',\n",
    "#         'Mu19_TrkIsoVVL_Mu9_TrkIsoVVL_DZ_Mass3p8',\n",
    "#         'Mu19_TrkIsoVVL_Mu9_TrkIsoVVL_DZ_Mass8',\n",
    "#         'Ele23_Ele12_CaloIdL_TrackIdL_IsoVL_DZ',\n",
    "#         'Ele23_Ele12_CaloIdL_TrackIdL_IsoVL',\n",
    "#         'DiEle27_WPTightCaloOnly_L1DoubleEG',\n",
    "#         'DoubleEle33_CaloIdL_MW',\n",
    "#         'DoubleEle25_CaloIdL_MW',\n",
    "#         'DoubleEle27_CaloIdL_MW',\n",
    "#         'DoublePhoton70',\n",
    "#         'IsoMu24','IsoMu27','IsoMu30','Mu50',\n",
    "#         'Ele115_CaloIdVT_GsfTrkIdT',\n",
    "#         'Ele27_WPTight_Gsf',\n",
    "#         'Ele28_WPTight_Gsf',\n",
    "#         'Ele32_WPTight_Gsf',\n",
    "#         'Ele35_WPTight_Gsf',\n",
    "#         'Ele38_WPTight_Gsf',\n",
    "#         'Ele40_WPTight_Gsf',\n",
    "#         'Ele32_WPTight_Gsf_L1DoubleEG',\n",
    "#         'Photon200',\n",
    "#         'Mu8_TrkIsoVVL',\n",
    "#         'Mu17_TrkIsoVVL',\n",
    "#         'Ele8_CaloIdL_TrackIdL_IsoVL_PFJet30',\n",
    "#         'Ele23_CaloIdL_TrackIdL_IsoVL_PFJet30']\n",
    "\n",
    "if lepton=='electron':\n",
    "    HLT_list = [\n",
    "            'Ele27_WPTight_Gsf',\n",
    "            'Ele28_WPTight_Gsf',\n",
    "            'Ele32_WPTight_Gsf',\n",
    "            'Ele35_WPTight_Gsf',\n",
    "            'Ele38_WPTight_Gsf',\n",
    "            'Ele40_WPTight_Gsf',\n",
    "            'Ele32_WPTight_Gsf_L1DoubleEG',\n",
    "            ]\n",
    "else:\n",
    "    HLT_list = ['IsoMu24','IsoMu27','IsoMu30','Mu50']\n",
    "\n",
    "wrong_num = 0\n",
    "\n",
    "for isdata in ['mc','data']:\n",
    "# for isdata in ['mc']:\n",
    "    if isdata=='mc':\n",
    "        MC_list = ['WJets','DYJetsToLL_M-10to50','DYJetsToLL_M-50']\n",
    "    else:\n",
    "        MC_list = [1]\n",
    "        \n",
    "    for MC in MC_list:#'WJets','DYJetsToLL_M-10to50','DYJetsToLL_M-50'\n",
    "        if isdata=='data':\n",
    "            parquet_dir = f'coffea_parquet_{isdata}_{lepton}_fake_rate'\n",
    "        else:\n",
    "            parquet_dir = f'coffea_parquet_{isdata}_{lepton}_fake_rate/{MC}'\n",
    "            \n",
    "        if isdata=='mc':\n",
    "            if MC=='WJets':\n",
    "                NGW = 70962104.5234375\n",
    "                cross_section = 61526.7*1000\n",
    "            elif MC=='DYJetsToLL_M-50':\n",
    "                NGW = 100108282.765625\n",
    "                cross_section = 6189.39*1000 \n",
    "            elif MC=='DYJetsToLL_M-10to50':\n",
    "                NGW = 39360042.234375\n",
    "                cross_section = 18610*1000\n",
    "            else:\n",
    "                print('wrong MC name')\n",
    "            if lepton=='muon':\n",
    "                equivalent_lumi_highpt = 0.04578\n",
    "                equivalent_lumi_lowpt = 0.00856\n",
    "            else:\n",
    "                equivalent_lumi_highpt = 0.03891\n",
    "                equivalent_lumi_lowpt = 0.00641\n",
    "\n",
    "            weight_highpt = cross_section*equivalent_lumi_highpt/NGW\n",
    "            weight_lowpt = cross_section*equivalent_lumi_lowpt/NGW\n",
    "\n",
    "        ntotal_file = len(os.listdir(parquet_dir))\n",
    "\n",
    "        pwd = os.popen('pwd').readlines()[0].replace('\\n','')\n",
    "\n",
    "        nevents_after_cr_filter = 0\n",
    "        nevents_pass = 0\n",
    "\n",
    "        nevents_real_after_cr_filter = 0\n",
    "        nevents_real_pass = 0\n",
    "        \n",
    "        ptbins=np.array([10,20,25,30,35,45])\n",
    "        etabins=np.array([0,1.0,1.5,2.0,2.5])\n",
    "        \n",
    "        highest_pt_bin_center=(ptbins[len(ptbins)-1]+ptbins[len(ptbins)-2])/2\n",
    "        \n",
    "        fr_hist = chist.Hist(\"All\",\n",
    "                   chist.Bin(\"x\", \"abs_eta\", etabins),\n",
    "                   chist.Bin(\"y\", \"$\\mathrm{p_T[GeV]}$\", ptbins),\n",
    "                  )\n",
    "        fr_hist_pass = chist.Hist(\"Pass\",\n",
    "                   chist.Bin(\"x\", \"abs_eta\", etabins),\n",
    "                   chist.Bin(\"y\", \"$\\mathrm{p_T[GeV]}$\", ptbins),\n",
    "                  )\n",
    "        \n",
    "        total_tight = []\n",
    "        total_fake = []\n",
    "\n",
    "        ntotal_tight = 0\n",
    "        ntotal_fake = 0\n",
    "        \n",
    "        nwtotal_tight = 0\n",
    "        nwtotal_fake = 0\n",
    "        \n",
    "        for i,rootfile in enumerate(os.listdir(parquet_dir)):\n",
    "#             print(\"Progress: %d/%d\"%(i+1, ntotal_file),end='\\t')\n",
    "            if not os.path.exists(pwd+'/'+parquet_dir+'/'+str(i+1)+'/'+'events.parquet'):\n",
    "                try:\n",
    "                    for line in open(pwd+'/'+parquet_dir+'/'+str(i+1)+'/'+str(i+1)+'.out','r').readlines():\n",
    "                        if 'npassed' in line:\n",
    "                            print('%d/%d\\t'%(i+1, ntotal_file)+line)\n",
    "                except:\n",
    "                    print('%d/%d wrong'%(i+1, ntotal_file))\n",
    "                    wrong_num += 1\n",
    "                continue\n",
    "            \n",
    "            events = NanoEventsFactory.from_parquet(pwd+'/'+parquet_dir+'/'+str(i+1)+'/'+'events.parquet',schemaclass=NanoAODSchema).events()\n",
    "            tc_filter = (events.Lepton.tightCharge>1)\n",
    "            events = events[tc_filter[:,0]]\n",
    "            leptons = events.Lepton\n",
    "            jets = events.Jet\n",
    "            MET_pt = events.MET.pt\n",
    "            MET_phi = events.MET.phi\n",
    "            PuppiMET_pt = events.PuppiMET.pt\n",
    "            PuppiMET_phi = events.PuppiMET.phi\n",
    "\n",
    "            lepton_tight_judge = (events.lepton.istight==1)\n",
    "            \n",
    "            selected_jet_pt = jets.pt\n",
    "            selected_jet_phi = jets.phi\n",
    "            selected_jet_eta = jets.eta\n",
    "            \n",
    "            loose_lepton_pt = leptons.pt\n",
    "            \n",
    "            dr_lepton_lj = Delta_r(selected_jet_eta, selected_jet_phi, leptons.eta, leptons.phi)\n",
    "            if lepton=='electron':\n",
    "                dr_pt_filter = (dr_lepton_lj > 1) & (selected_jet_pt > 35)\n",
    "            elif lepton=='muon':\n",
    "                dr_pt_filter = (dr_lepton_lj > 1) & (selected_jet_pt > 25)\n",
    "            \n",
    "            abs_lepton_eta = abs(leptons.eta)\n",
    "            \n",
    "            puppimt = np.sqrt(2*leptons.pt*PuppiMET_pt*(1 - np.cos(PuppiMET_phi - leptons.phi)))\n",
    "            puppimt_filter = (PuppiMET_pt < 20) & (puppimt < 20)\n",
    "            \n",
    "            mt = np.sqrt(2*leptons.pt*MET_pt*(1 - np.cos(MET_phi - leptons.phi)))\n",
    "            mt_filter = (MET_pt < 20) & (mt < 20)\n",
    "            \n",
    "#             HLT_filter = ak.zeros_like(events['HLT_Ele27_WPTight_Gsf'])==1\n",
    "            \n",
    "#             for ihlt in HLT_list:\n",
    "#                 try:\n",
    "#                     HLT_filter = HLT_filter | events[f'HLT_{ihlt}']==1\n",
    "#                 except:\n",
    "#                     continue\n",
    "            if lepton=='electron':\n",
    "                HLT_filter = ((loose_lepton_pt <= 25) & (events.HLT.Ele8_CaloIdL_TrackIdL_IsoVL_PFJet30==1)) | ((loose_lepton_pt > 25) & (events.HLT.Ele23_CaloIdL_TrackIdL_IsoVL_PFJet30==1))\n",
    "            elif lepton=='muon':\n",
    "                HLT_filter = ((loose_lepton_pt <= 20) & (events.HLT.Mu8_TrkIsoVVL==1)) | ((loose_lepton_pt > 20) & (events.HLT.Mu17_TrkIsoVVL==1))\n",
    "#             HLT_filter = (events['HLT_Ele23_CaloIdL_TrackIdL_IsoVL_PFJet30']==1) | (events['HLT_Ele8_CaloIdL_TrackIdL_IsoVL_PFJet30']==1)\n",
    "            \n",
    "#             loose_filter = dr_pt_filter & puppimt_filter & HLT_filter\n",
    "            loose_filter = dr_pt_filter & mt_filter & HLT_filter\n",
    "#             loose_filter = HLT_filter\n",
    "            tight_filter = loose_filter & lepton_tight_judge\n",
    "            \n",
    "            lepton_fake = leptons[loose_filter[:,0]]\n",
    "            lepton_tight = leptons[tight_filter[:,0]]\n",
    "            \n",
    "            cropped_loose_lepton_pt = 1*(lepton_fake.pt<highest_pt_bin_center)*lepton_fake.pt + (1-1*(lepton_fake.pt<highest_pt_bin_center))*ak.ones_like(lepton_fake.pt)*highest_pt_bin_center\n",
    "            cropped_tight_lepton_pt = 1*(lepton_tight.pt<highest_pt_bin_center)*lepton_tight.pt + (1-1*(lepton_tight.pt<highest_pt_bin_center))*ak.ones_like(lepton_tight.pt)*highest_pt_bin_center\n",
    "            \n",
    "            cropped_loose_lepton_pt = cropped_loose_lepton_pt[:,0]\n",
    "            cropped_tight_lepton_pt = cropped_tight_lepton_pt[:,0]\n",
    "            \n",
    "#             if lepton=='electron':\n",
    "#                 weight_pass_array = gen_weight_pass_array*1*(y_pass_array<25)*weight_lowpt + gen_weight_pass_array*1*(y_pass_array>=25)*weight_highpt\n",
    "#             else:\n",
    "#                 weight_pass_array = gen_weight_pass_array*1*(y_pass_array<20)*weight_lowpt + gen_weight_pass_array*1*(y_pass_array>=20)*weight_highpt\n",
    "            if isdata=='mc':\n",
    "                gen_weight_array = events.Generator.weight[loose_filter[:,0]]\n",
    "                gen_weight_pass_array = events.Generator.weight[tight_filter[:,0]]\n",
    "                \n",
    "                if lepton=='electron':\n",
    "                    weight_array = gen_weight_array*1*(cropped_loose_lepton_pt<25)*weight_lowpt + gen_weight_array*1*(cropped_loose_lepton_pt>=25)*weight_highpt\n",
    "                    weight_pass_array = gen_weight_pass_array*1*(cropped_tight_lepton_pt<25)*weight_lowpt + gen_weight_pass_array*1*(cropped_tight_lepton_pt>=25)*weight_highpt\n",
    "                else:\n",
    "                    weight_array = gen_weight_array*1*(cropped_loose_lepton_pt<20)*weight_lowpt + gen_weight_array*1*(cropped_loose_lepton_pt>=20)*weight_highpt\n",
    "                    weight_pass_array = gen_weight_pass_array*1*(cropped_tight_lepton_pt<20)*weight_lowpt + gen_weight_pass_array*1*(cropped_tight_lepton_pt>=20)*weight_highpt\n",
    "            else:\n",
    "                weight_array = ak.ones_like(cropped_loose_lepton_pt)\n",
    "                weight_pass_array = ak.ones_like(cropped_tight_lepton_pt)\n",
    "                \n",
    "                \n",
    "            fr_hist.fill(x=abs(lepton_fake.eta[:,0]),y=cropped_loose_lepton_pt,weight=weight_array)\n",
    "            fr_hist_pass.fill(x=abs(lepton_tight.eta[:,0]),y=cropped_tight_lepton_pt,weight=weight_pass_array)\n",
    "#             print(\"before selection: %d;\\ttight: %d;\\tloose: %d\"%(len(leptons),len(lepton_tight),len(lepton_fake)))\n",
    "            \n",
    "#             total_tight.append(lepton_tight)\n",
    "#             total_fake.append(lepton_fake)\n",
    "            \n",
    "            ntotal_tight += len(lepton_tight)\n",
    "            ntotal_fake += len(lepton_fake)\n",
    "            \n",
    "            nwtotal_tight += np.sum(weight_pass_array)\n",
    "            nwtotal_fake += np.sum(weight_array)\n",
    "            \n",
    "            if isdata=='mc':\n",
    "                print(\"\\rProgress: %d/%d\"%(i+1, ntotal_file)+\"\\t%d\\t%d\\t%.2f\\t%.2f\"%(ntotal_tight,ntotal_fake,nwtotal_tight,nwtotal_fake), end=\"\")\n",
    "#                 print(\"%d\\t%d\\t%.2f\\t%.2f\"%(ntotal_tight,ntotal_fake,nwtotal_tight,nwtotal_fake),end='')\n",
    "            else:\n",
    "                print(\"\\rProgress: %d/%d\"%(i+1, ntotal_file)+\"\\t%d\\t%d\"%(ntotal_tight,ntotal_fake), end=\"\")\n",
    "#                 print(\"%d\\t%d\"%(ntotal_tight,ntotal_fake),end='')\n",
    "            \n",
    "            sys.stdout.flush()\n",
    "            \n",
    "        print()\n",
    "        if isdata=='data':\n",
    "            save(fr_hist,f\"{output_dir}/{isdata}_{lepton}\")\n",
    "            save(fr_hist_pass,f\"{output_dir}/{isdata}_{lepton}_pass\")\n",
    "        else:\n",
    "            save(fr_hist,f\"{output_dir}/{isdata}_{lepton}_{MC}\")\n",
    "            save(fr_hist_pass,f\"{output_dir}/{isdata}_{lepton}_{MC}_pass\")\n",
    "        "
   ]
  },
  {
   "cell_type": "code",
   "execution_count": 25,
   "id": "97392218",
   "metadata": {},
   "outputs": [
    {
     "data": {
      "text/plain": [
       "<Array [39.2, 16.2, 39.5, ... 59.1, 11.6, 8.53] type='43 * float32[parameters={\"...'>"
      ]
     },
     "execution_count": 25,
     "metadata": {},
     "output_type": "execute_result"
    }
   ],
   "source": [
    "lepton_fake.pt[:,0]"
   ]
  },
  {
   "cell_type": "code",
   "execution_count": 30,
   "id": "83d9346c",
   "metadata": {},
   "outputs": [],
   "source": [
    "ak.to_parquet(ak.concatenate(total_tight),'electron_prelumi_tight.parquet')\n",
    "ak.to_parquet(ak.concatenate(total_fake),'electron_prelumi_fake.parquet')"
   ]
  },
  {
   "cell_type": "code",
   "execution_count": 31,
   "id": "48bd4cc8",
   "metadata": {},
   "outputs": [],
   "source": [
    "pre_lumi_tight = ak.from_parquet('electron_prelumi_tight.parquet')\n",
    "pre_lumi_fake = ak.from_parquet('electron_prelumi_fake.parquet')\n",
    "\n",
    "full_lumi_tight = ak.from_parquet('electron_fulllumi_tight.parquet')\n",
    "full_lumi_fake = ak.from_parquet('electron_fulllumi_fake.parquet')"
   ]
  },
  {
   "cell_type": "code",
   "execution_count": 34,
   "id": "31bd1892",
   "metadata": {},
   "outputs": [
    {
     "data": {
      "text/plain": [
       "<Array [30.1, 14.7, 42.8, ... 12.7, 19.1, 25.7] type='3362 * float64'>"
      ]
     },
     "execution_count": 34,
     "metadata": {},
     "output_type": "execute_result"
    }
   ],
   "source": [
    "pre_lumi_tight.pt[:,0]"
   ]
  },
  {
   "cell_type": "code",
   "execution_count": 38,
   "id": "5930990f",
   "metadata": {},
   "outputs": [
    {
     "name": "stdout",
     "output_type": "stream",
     "text": [
      "Create type 1 hist_plot named \"tight_pt_hist\".\n",
      "Histplot:tight_pt_hist\tNo weights saved in label \"full_lumi\", use w=1 instead.\n",
      "draw  pre_lumi\n",
      "draw  full_lumi\n"
     ]
    },
    {
     "name": "stderr",
     "output_type": "stream",
     "text": [
      "/data/pubfs/tyyang99/jupyter_files/pkutree/yty_hist_class.py:471: UserWarning: Attempted to set non-positive bottom ylim on a log-scaled axis.\n",
      "Invalid limit will be ignored.\n",
      "  self.__ax.set_ylim([0,self.__auto_ylim_weight*max_bin])\n"
     ]
    },
    {
     "data": {
      "image/png": "[encoded data removed]",
      "text/plain": [
       "<Figure size 720x720 with 1 Axes>"
      ]
     },
     "execution_count": 38,
     "metadata": {},
     "output_type": "execute_result"
    },
    {
     "data": {
      "image/png": "[encoded data removed]",
      "text/plain": [
       "<Figure size 720x720 with 1 Axes>"
      ]
     },
     "metadata": {
      "needs_background": "light"
     },
     "output_type": "display_data"
    }
   ],
   "source": [
    "tight_pt_hist = yty_histplot('tight_pt_hist',1,np.linspace(0,200,50+1))\n",
    "tight_pt_hist.append_values('pre_lumi',[pre_lumi_tight.pt[:,0]])\n",
    "\n",
    "pre_lumi_weight = ak.ones_like(pre_lumi_tight.pt[:,0])*59.7/0.03891*(1*pre_lumi_tight.pt[:,0]>25) + ak.ones_like(pre_lumi_tight.pt[:,0])*59.7/0.00641*(1*pre_lumi_tight.pt[:,0]<=25)\n",
    "\n",
    "tight_pt_hist.append_weights('pre_lumi',[pre_lumi_weight])\n",
    "tight_pt_hist.append_values('full_lumi',[full_lumi_tight.pt[:,0]])\n",
    "\n",
    "tight_pt_hist.set_legend(legendbool=True)\n",
    "tight_pt_hist.set_log()\n",
    "tight_pt_hist.draw(histtype_list=[\"errorbar\",\"errorbar\"])"
   ]
  },
  {
   "cell_type": "code",
   "execution_count": null,
   "id": "49aeb1e5",
   "metadata": {},
   "outputs": [],
   "source": [
    "fake_pt_hist = yty_histplot('fake_pt_hist',1,np.linspace(0,200,50+1))"
   ]
  },
  {
   "cell_type": "code",
   "execution_count": 9,
   "id": "e911b5b7",
   "metadata": {},
   "outputs": [
    {
     "data": {
      "text/plain": [
       "<Array [[True], [True], ... [True], [True]] type='148651 * var * bool'>"
      ]
     },
     "execution_count": 9,
     "metadata": {},
     "output_type": "execute_result"
    }
   ],
   "source": [
    "tc_filter"
   ]
  },
  {
   "cell_type": "code",
   "execution_count": 10,
   "id": "6e91c00a",
   "metadata": {},
   "outputs": [
    {
     "data": {
      "text/plain": [
       "125265"
      ]
     },
     "execution_count": 10,
     "metadata": {},
     "output_type": "execute_result"
    }
   ],
   "source": [
    "np.sum(tc_filter)"
   ]
  },
  {
   "cell_type": "code",
   "execution_count": null,
   "id": "0d0ced61",
   "metadata": {},
   "outputs": [],
   "source": []
  }
 ],
 "metadata": {
  "kernelspec": {
   "display_name": "Python 3 (ipykernel)",
   "language": "python",
   "name": "python3"
  },
  "language_info": {
   "codemirror_mode": {
    "name": "ipython",
    "version": 3
   },
   "file_extension": ".py",
   "mimetype": "text/x-python",
   "name": "python",
   "nbconvert_exporter": "python",
   "pygments_lexer": "ipython3",
   "version": "3.8.8"
  }
 },
 "nbformat": 4,
 "nbformat_minor": 5
}
