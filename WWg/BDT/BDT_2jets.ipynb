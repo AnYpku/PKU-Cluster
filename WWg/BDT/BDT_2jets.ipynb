{
 "cells": [
  {
   "cell_type": "code",
   "execution_count": 1,
   "id": "e4be3099-3762-4b2b-a518-e97b650f1506",
   "metadata": {},
   "outputs": [
    {
     "name": "stdout",
     "output_type": "stream",
     "text": [
      "Requirement already satisfied: uproot in /data/pku/home/anying/.local/lib/python3.9/site-packages (4.1.9)\n",
      "Requirement already satisfied: numpy in /data/pku/home/anying/anaconda3/envs/andy/lib/python3.9/site-packages (from uproot) (1.21.4)\n",
      "Requirement already satisfied: setuptools in /data/pku/home/anying/anaconda3/envs/andy/lib/python3.9/site-packages (from uproot) (59.2.0)\n",
      "Requirement already satisfied: tqdm in /data/pku/home/anying/anaconda3/envs/andy/lib/python3.9/site-packages (4.62.3)\n",
      "Requirement already satisfied: awkward in /data/pku/home/anying/anaconda3/envs/andy/lib/python3.9/site-packages (1.4.0)\n",
      "Requirement already satisfied: setuptools in /data/pku/home/anying/anaconda3/envs/andy/lib/python3.9/site-packages (from awkward) (59.2.0)\n",
      "Requirement already satisfied: numpy>=1.13.1 in /data/pku/home/anying/anaconda3/envs/andy/lib/python3.9/site-packages (from awkward) (1.21.4)\n",
      "Requirement already satisfied: xgboost in /data/pku/home/anying/anaconda3/envs/andy/lib/python3.9/site-packages (1.5.1)\n",
      "Requirement already satisfied: scipy in /data/pku/home/anying/anaconda3/envs/andy/lib/python3.9/site-packages (from xgboost) (1.7.3)\n",
      "Requirement already satisfied: numpy in /data/pku/home/anying/anaconda3/envs/andy/lib/python3.9/site-packages (from xgboost) (1.21.4)\n",
      "Requirement already satisfied: sklearn in /data/pku/home/anying/anaconda3/envs/andy/lib/python3.9/site-packages (0.0)\n",
      "Requirement already satisfied: scikit-learn in /data/pku/home/anying/anaconda3/envs/andy/lib/python3.9/site-packages (from sklearn) (1.0.1)\n",
      "Requirement already satisfied: scipy>=1.1.0 in /data/pku/home/anying/anaconda3/envs/andy/lib/python3.9/site-packages (from scikit-learn->sklearn) (1.7.3)\n",
      "Requirement already satisfied: joblib>=0.11 in /data/pku/home/anying/anaconda3/envs/andy/lib/python3.9/site-packages (from scikit-learn->sklearn) (1.1.0)\n",
      "Requirement already satisfied: threadpoolctl>=2.0.0 in /data/pku/home/anying/anaconda3/envs/andy/lib/python3.9/site-packages (from scikit-learn->sklearn) (3.0.0)\n",
      "Requirement already satisfied: numpy>=1.14.6 in /data/pku/home/anying/anaconda3/envs/andy/lib/python3.9/site-packages (from scikit-learn->sklearn) (1.21.4)\n",
      "Requirement already satisfied: seaborn in /data/pku/home/anying/anaconda3/envs/andy/lib/python3.9/site-packages (0.11.2)\n",
      "Requirement already satisfied: matplotlib>=2.2 in /data/pku/home/anying/anaconda3/envs/andy/lib/python3.9/site-packages (from seaborn) (3.5.0)\n",
      "Requirement already satisfied: numpy>=1.15 in /data/pku/home/anying/anaconda3/envs/andy/lib/python3.9/site-packages (from seaborn) (1.21.4)\n",
      "Requirement already satisfied: scipy>=1.0 in /data/pku/home/anying/anaconda3/envs/andy/lib/python3.9/site-packages (from seaborn) (1.7.3)\n",
      "Requirement already satisfied: pandas>=0.23 in /data/pku/home/anying/anaconda3/envs/andy/lib/python3.9/site-packages (from seaborn) (1.3.4)\n",
      "Requirement already satisfied: python-dateutil>=2.7 in /data/pku/home/anying/anaconda3/envs/andy/lib/python3.9/site-packages (from matplotlib>=2.2->seaborn) (2.8.2)\n",
      "Requirement already satisfied: pillow>=6.2.0 in /data/pku/home/anying/anaconda3/envs/andy/lib/python3.9/site-packages (from matplotlib>=2.2->seaborn) (8.4.0)\n",
      "Requirement already satisfied: cycler>=0.10 in /data/pku/home/anying/anaconda3/envs/andy/lib/python3.9/site-packages (from matplotlib>=2.2->seaborn) (0.11.0)\n",
      "Requirement already satisfied: packaging>=20.0 in /data/pku/home/anying/anaconda3/envs/andy/lib/python3.9/site-packages (from matplotlib>=2.2->seaborn) (21.3)\n",
      "Requirement already satisfied: pyparsing>=2.2.1 in /data/pku/home/anying/anaconda3/envs/andy/lib/python3.9/site-packages (from matplotlib>=2.2->seaborn) (3.0.6)\n",
      "Requirement already satisfied: fonttools>=4.22.0 in /data/pku/home/anying/anaconda3/envs/andy/lib/python3.9/site-packages (from matplotlib>=2.2->seaborn) (4.28.2)\n",
      "Requirement already satisfied: kiwisolver>=1.0.1 in /data/pku/home/anying/anaconda3/envs/andy/lib/python3.9/site-packages (from matplotlib>=2.2->seaborn) (1.3.2)\n",
      "Requirement already satisfied: pytz>=2017.3 in /data/pku/home/anying/anaconda3/envs/andy/lib/python3.9/site-packages (from pandas>=0.23->seaborn) (2021.3)\n",
      "Requirement already satisfied: six>=1.5 in /data/pku/home/anying/anaconda3/envs/andy/lib/python3.9/site-packages (from python-dateutil>=2.7->matplotlib>=2.2->seaborn) (1.16.0)\n"
     ]
    }
   ],
   "source": [
    "!pip install --user uproot\n",
    "!pip install --user tqdm\n",
    "!pip install awkward\n",
    "!pip install xgboost\n",
    "!pip install sklearn\n",
    "!pip install seaborn"
   ]
  },
  {
   "cell_type": "code",
   "execution_count": 1,
   "id": "09c6470e-dfb7-41d1-9dc4-d287dfaa0e19",
   "metadata": {},
   "outputs": [
    {
     "name": "stdout",
     "output_type": "stream",
     "text": [
      "Python 3.9.7\n"
     ]
    }
   ],
   "source": [
    "!python --version"
   ]
  },
  {
   "cell_type": "code",
   "execution_count": 2,
   "id": "b0b0bc81-59cd-4837-ae3c-f047d498496a",
   "metadata": {},
   "outputs": [
    {
     "name": "stdout",
     "output_type": "stream",
     "text": [
      "Welcome to JupyROOT 6.24/02\n"
     ]
    }
   ],
   "source": [
    "import uproot\n",
    "import glob\n",
    "import pandas as pd\n",
    "from tqdm import tqdm\n",
    "import numpy as np\n",
    "import awkward as ak\n",
    "import ROOT"
   ]
  },
  {
   "cell_type": "code",
   "execution_count": 3,
   "id": "20ab463d-96d4-4404-b730-58c59d1bcd56",
   "metadata": {},
   "outputs": [],
   "source": [
    "root_files = glob.glob(\"/home/pku/anying/cms/PKU-Cluster/WWg/BDT/rootfiles/train/optimal*.root\")"
   ]
  },
  {
   "cell_type": "code",
   "execution_count": 4,
   "id": "9b02aa45-784e-4631-9049-985d94b150db",
   "metadata": {},
   "outputs": [
    {
     "data": {
      "text/plain": [
       "'/home/pku/anying/cms/PKU-Cluster/WWg/BDT/rootfiles/train/optimal_emua_fakeL17.root'"
      ]
     },
     "execution_count": 4,
     "metadata": {},
     "output_type": "execute_result"
    }
   ],
   "source": [
    "root_files[0]"
   ]
  },
  {
   "cell_type": "code",
   "execution_count": 5,
   "id": "3d77f908-2a98-4c94-9f3a-aa933e0b79c4",
   "metadata": {},
   "outputs": [],
   "source": [
    "f1 = uproot.open(root_files[0])\n",
    "tree=f1['outtree']"
   ]
  },
  {
   "cell_type": "code",
   "execution_count": 6,
   "id": "bcc34a4d-c120-4060-92c0-427c7657b36d",
   "metadata": {},
   "outputs": [
    {
     "data": {
      "text/plain": [
       "115"
      ]
     },
     "execution_count": 6,
     "metadata": {},
     "output_type": "execute_result"
    }
   ],
   "source": [
    "branch=tree.keys()\n",
    "unneccesary_columns = ['LHEScaleWeight','LHEPdfWeight']\n",
    "for c in unneccesary_columns:\n",
    "    branch.remove(c)\n",
    "len(branch)"
   ]
  },
  {
   "cell_type": "code",
   "execution_count": 7,
   "id": "1019dff4-effc-42f6-8d83-4213e75fc56d",
   "metadata": {},
   "outputs": [],
   "source": [
    "f = uproot.lazy(root_files[0]+':outtree')"
   ]
  },
  {
   "cell_type": "code",
   "execution_count": 8,
   "id": "43edea45-1980-4f6d-aaef-dcd4cc3465cc",
   "metadata": {},
   "outputs": [
    {
     "data": {
      "text/plain": [
       "<Array [{channel: 1, ... HLT_emu: 9.81e+05}] type='280 * {\"channel\": int32, \"ptV...'>"
      ]
     },
     "execution_count": 8,
     "metadata": {},
     "output_type": "execute_result"
    }
   ],
   "source": [
    "f"
   ]
  },
  {
   "cell_type": "code",
   "execution_count": 9,
   "id": "3b8bfda6-5b9d-425c-9603-d1fe295c2c36",
   "metadata": {},
   "outputs": [
    {
     "data": {
      "text/plain": [
       "280"
      ]
     },
     "execution_count": 9,
     "metadata": {},
     "output_type": "execute_result"
    }
   ],
   "source": [
    "f = uproot.lazy(root_files[0]+':outtree')\n",
    "events = ak.to_pandas(f[branch])\n",
    "len(f)"
   ]
  },
  {
   "cell_type": "code",
   "execution_count": 10,
   "id": "5121dfec-2674-4633-aa55-31c24e764aef",
   "metadata": {},
   "outputs": [],
   "source": [
    "def get_df(root_file_name):\n",
    "    \n",
    "    f = uproot.lazy(root_file_name+\":outtree\")\n",
    "    if len(f) == 0:\n",
    "        return pd.DataFrame()\n",
    "    df = ak.to_pandas(f[branch])\n",
    "\n",
    "    return df  "
   ]
  },
  {
   "cell_type": "code",
   "execution_count": 11,
   "id": "0e391fa2-44bd-49df-8533-7fdf3b847f48",
   "metadata": {},
   "outputs": [
    {
     "name": "stderr",
     "output_type": "stream",
     "text": [
      "100%|███████████████████████████████████████████| 36/36 [00:12<00:00,  2.88it/s]\n"
     ]
    }
   ],
   "source": [
    "df = pd.concat((get_df(f) for f in tqdm(root_files)), ignore_index=True)"
   ]
  },
  {
   "cell_type": "code",
   "execution_count": 12,
   "id": "8277aca1-acc0-4079-94a3-01de19074ec6",
   "metadata": {},
   "outputs": [
    {
     "data": {
      "text/plain": [
       "(18461, 115)"
      ]
     },
     "execution_count": 12,
     "metadata": {},
     "output_type": "execute_result"
    }
   ],
   "source": [
    "df.shape"
   ]
  },
  {
   "cell_type": "code",
   "execution_count": 13,
   "id": "44f5ac93-0b49-444d-bab3-7f036f2f10f6",
   "metadata": {},
   "outputs": [
    {
     "data": {
      "text/html": [
       "<div>\n",
       "<style scoped>\n",
       "    .dataframe tbody tr th:only-of-type {\n",
       "        vertical-align: middle;\n",
       "    }\n",
       "\n",
       "    .dataframe tbody tr th {\n",
       "        vertical-align: top;\n",
       "    }\n",
       "\n",
       "    .dataframe thead th {\n",
       "        text-align: right;\n",
       "    }\n",
       "</style>\n",
       "<table border=\"1\" class=\"dataframe\">\n",
       "  <thead>\n",
       "    <tr style=\"text-align: right;\">\n",
       "      <th></th>\n",
       "      <th>channel</th>\n",
       "      <th>ptVlep</th>\n",
       "      <th>phiVlep</th>\n",
       "      <th>yVlep</th>\n",
       "      <th>lep1_pid</th>\n",
       "      <th>lep2_pid</th>\n",
       "      <th>lep1pt</th>\n",
       "      <th>lep2pt</th>\n",
       "      <th>lep1eta</th>\n",
       "      <th>lep2eta</th>\n",
       "      <th>...</th>\n",
       "      <th>muon_iso_scale_Down</th>\n",
       "      <th>photon_id_scale</th>\n",
       "      <th>photon_id_scale_Up</th>\n",
       "      <th>photon_id_scale_Down</th>\n",
       "      <th>photon_veto_scale</th>\n",
       "      <th>photon_veto_scale_Up</th>\n",
       "      <th>photon_veto_scale_Down</th>\n",
       "      <th>HLT_ee</th>\n",
       "      <th>HLT_mm</th>\n",
       "      <th>HLT_emu</th>\n",
       "    </tr>\n",
       "  </thead>\n",
       "  <tbody>\n",
       "    <tr>\n",
       "      <th>0</th>\n",
       "      <td>1</td>\n",
       "      <td>54.453506</td>\n",
       "      <td>0.356105</td>\n",
       "      <td>-0.093506</td>\n",
       "      <td>13</td>\n",
       "      <td>-11</td>\n",
       "      <td>21.243734</td>\n",
       "      <td>33.708263</td>\n",
       "      <td>0.463379</td>\n",
       "      <td>-0.439575</td>\n",
       "      <td>...</td>\n",
       "      <td>0.991103</td>\n",
       "      <td>0.988402</td>\n",
       "      <td>0.997400</td>\n",
       "      <td>0.979405</td>\n",
       "      <td>0.903129</td>\n",
       "      <td>0.910653</td>\n",
       "      <td>0.895604</td>\n",
       "      <td>6.238057e+26</td>\n",
       "      <td>7.303967e+28</td>\n",
       "      <td>9.806721e+05</td>\n",
       "    </tr>\n",
       "    <tr>\n",
       "      <th>1</th>\n",
       "      <td>1</td>\n",
       "      <td>50.346642</td>\n",
       "      <td>2.923757</td>\n",
       "      <td>-1.499664</td>\n",
       "      <td>13</td>\n",
       "      <td>-11</td>\n",
       "      <td>24.989485</td>\n",
       "      <td>29.258297</td>\n",
       "      <td>-1.179443</td>\n",
       "      <td>-1.611328</td>\n",
       "      <td>...</td>\n",
       "      <td>1.000835</td>\n",
       "      <td>1.032532</td>\n",
       "      <td>1.042235</td>\n",
       "      <td>1.022828</td>\n",
       "      <td>0.903129</td>\n",
       "      <td>0.910653</td>\n",
       "      <td>0.895604</td>\n",
       "      <td>6.238057e+26</td>\n",
       "      <td>7.303967e+28</td>\n",
       "      <td>9.806721e+05</td>\n",
       "    </tr>\n",
       "    <tr>\n",
       "      <th>2</th>\n",
       "      <td>1</td>\n",
       "      <td>165.415863</td>\n",
       "      <td>-2.242637</td>\n",
       "      <td>-1.099082</td>\n",
       "      <td>-13</td>\n",
       "      <td>11</td>\n",
       "      <td>34.283157</td>\n",
       "      <td>194.023453</td>\n",
       "      <td>-1.480713</td>\n",
       "      <td>-0.708374</td>\n",
       "      <td>...</td>\n",
       "      <td>1.005987</td>\n",
       "      <td>0.970037</td>\n",
       "      <td>0.976563</td>\n",
       "      <td>0.963512</td>\n",
       "      <td>0.969959</td>\n",
       "      <td>0.972307</td>\n",
       "      <td>0.967611</td>\n",
       "      <td>6.238246e+26</td>\n",
       "      <td>7.303968e+28</td>\n",
       "      <td>9.806721e+05</td>\n",
       "    </tr>\n",
       "    <tr>\n",
       "      <th>3</th>\n",
       "      <td>1</td>\n",
       "      <td>107.673973</td>\n",
       "      <td>2.943537</td>\n",
       "      <td>0.282655</td>\n",
       "      <td>-13</td>\n",
       "      <td>11</td>\n",
       "      <td>61.859890</td>\n",
       "      <td>57.235390</td>\n",
       "      <td>-0.513794</td>\n",
       "      <td>0.963013</td>\n",
       "      <td>...</td>\n",
       "      <td>0.998357</td>\n",
       "      <td>1.017199</td>\n",
       "      <td>1.034910</td>\n",
       "      <td>0.999488</td>\n",
       "      <td>0.969959</td>\n",
       "      <td>0.972307</td>\n",
       "      <td>0.967611</td>\n",
       "      <td>6.238246e+26</td>\n",
       "      <td>7.303968e+28</td>\n",
       "      <td>9.806721e+05</td>\n",
       "    </tr>\n",
       "    <tr>\n",
       "      <th>4</th>\n",
       "      <td>1</td>\n",
       "      <td>46.935432</td>\n",
       "      <td>0.857526</td>\n",
       "      <td>-2.760113</td>\n",
       "      <td>-13</td>\n",
       "      <td>11</td>\n",
       "      <td>88.806442</td>\n",
       "      <td>46.639313</td>\n",
       "      <td>-2.028320</td>\n",
       "      <td>-0.738525</td>\n",
       "      <td>...</td>\n",
       "      <td>0.999918</td>\n",
       "      <td>1.034358</td>\n",
       "      <td>1.057044</td>\n",
       "      <td>1.011672</td>\n",
       "      <td>0.903129</td>\n",
       "      <td>0.910653</td>\n",
       "      <td>0.895604</td>\n",
       "      <td>6.238246e+26</td>\n",
       "      <td>7.303968e+28</td>\n",
       "      <td>9.806721e+05</td>\n",
       "    </tr>\n",
       "    <tr>\n",
       "      <th>...</th>\n",
       "      <td>...</td>\n",
       "      <td>...</td>\n",
       "      <td>...</td>\n",
       "      <td>...</td>\n",
       "      <td>...</td>\n",
       "      <td>...</td>\n",
       "      <td>...</td>\n",
       "      <td>...</td>\n",
       "      <td>...</td>\n",
       "      <td>...</td>\n",
       "      <td>...</td>\n",
       "      <td>...</td>\n",
       "      <td>...</td>\n",
       "      <td>...</td>\n",
       "      <td>...</td>\n",
       "      <td>...</td>\n",
       "      <td>...</td>\n",
       "      <td>...</td>\n",
       "      <td>...</td>\n",
       "      <td>...</td>\n",
       "      <td>...</td>\n",
       "    </tr>\n",
       "    <tr>\n",
       "      <th>18456</th>\n",
       "      <td>1</td>\n",
       "      <td>44.024933</td>\n",
       "      <td>0.597358</td>\n",
       "      <td>-1.494792</td>\n",
       "      <td>13</td>\n",
       "      <td>-11</td>\n",
       "      <td>25.208357</td>\n",
       "      <td>28.360579</td>\n",
       "      <td>-0.735107</td>\n",
       "      <td>-1.673828</td>\n",
       "      <td>...</td>\n",
       "      <td>0.976534</td>\n",
       "      <td>1.000000</td>\n",
       "      <td>1.015759</td>\n",
       "      <td>0.984241</td>\n",
       "      <td>0.980359</td>\n",
       "      <td>0.982144</td>\n",
       "      <td>0.978575</td>\n",
       "      <td>9.219423e-41</td>\n",
       "      <td>3.601337e-43</td>\n",
       "      <td>1.401298e-45</td>\n",
       "    </tr>\n",
       "    <tr>\n",
       "      <th>18457</th>\n",
       "      <td>1</td>\n",
       "      <td>127.641548</td>\n",
       "      <td>0.954342</td>\n",
       "      <td>0.337385</td>\n",
       "      <td>13</td>\n",
       "      <td>-11</td>\n",
       "      <td>82.370987</td>\n",
       "      <td>48.810989</td>\n",
       "      <td>0.728882</td>\n",
       "      <td>-0.429443</td>\n",
       "      <td>...</td>\n",
       "      <td>0.998323</td>\n",
       "      <td>0.983122</td>\n",
       "      <td>1.010760</td>\n",
       "      <td>0.955485</td>\n",
       "      <td>0.980359</td>\n",
       "      <td>0.982144</td>\n",
       "      <td>0.978575</td>\n",
       "      <td>9.219423e-41</td>\n",
       "      <td>3.601337e-43</td>\n",
       "      <td>1.401298e-45</td>\n",
       "    </tr>\n",
       "    <tr>\n",
       "      <th>18458</th>\n",
       "      <td>1</td>\n",
       "      <td>90.577461</td>\n",
       "      <td>0.936975</td>\n",
       "      <td>0.924840</td>\n",
       "      <td>-13</td>\n",
       "      <td>11</td>\n",
       "      <td>25.338013</td>\n",
       "      <td>73.133980</td>\n",
       "      <td>-0.017792</td>\n",
       "      <td>1.091797</td>\n",
       "      <td>...</td>\n",
       "      <td>0.976534</td>\n",
       "      <td>0.987835</td>\n",
       "      <td>1.001200</td>\n",
       "      <td>0.974469</td>\n",
       "      <td>0.980359</td>\n",
       "      <td>0.982144</td>\n",
       "      <td>0.978575</td>\n",
       "      <td>9.219563e-41</td>\n",
       "      <td>3.601337e-43</td>\n",
       "      <td>1.401298e-45</td>\n",
       "    </tr>\n",
       "    <tr>\n",
       "      <th>18459</th>\n",
       "      <td>1</td>\n",
       "      <td>50.444962</td>\n",
       "      <td>-0.911866</td>\n",
       "      <td>0.069489</td>\n",
       "      <td>-13</td>\n",
       "      <td>11</td>\n",
       "      <td>21.614164</td>\n",
       "      <td>34.297829</td>\n",
       "      <td>0.779663</td>\n",
       "      <td>-0.427246</td>\n",
       "      <td>...</td>\n",
       "      <td>0.977342</td>\n",
       "      <td>0.983122</td>\n",
       "      <td>1.010760</td>\n",
       "      <td>0.955485</td>\n",
       "      <td>0.980359</td>\n",
       "      <td>0.982144</td>\n",
       "      <td>0.978575</td>\n",
       "      <td>9.183690e-41</td>\n",
       "      <td>3.587324e-43</td>\n",
       "      <td>1.401298e-45</td>\n",
       "    </tr>\n",
       "    <tr>\n",
       "      <th>18460</th>\n",
       "      <td>1</td>\n",
       "      <td>77.024467</td>\n",
       "      <td>2.606350</td>\n",
       "      <td>-1.256706</td>\n",
       "      <td>-13</td>\n",
       "      <td>11</td>\n",
       "      <td>27.242083</td>\n",
       "      <td>94.875778</td>\n",
       "      <td>0.044579</td>\n",
       "      <td>-1.092773</td>\n",
       "      <td>...</td>\n",
       "      <td>0.976534</td>\n",
       "      <td>1.016291</td>\n",
       "      <td>1.040350</td>\n",
       "      <td>0.992231</td>\n",
       "      <td>0.980359</td>\n",
       "      <td>0.982144</td>\n",
       "      <td>0.978575</td>\n",
       "      <td>9.219423e-41</td>\n",
       "      <td>3.601337e-43</td>\n",
       "      <td>1.401298e-45</td>\n",
       "    </tr>\n",
       "  </tbody>\n",
       "</table>\n",
       "<p>18461 rows × 115 columns</p>\n",
       "</div>"
      ],
      "text/plain": [
       "       channel      ptVlep   phiVlep     yVlep  lep1_pid  lep2_pid     lep1pt  \\\n",
       "0            1   54.453506  0.356105 -0.093506        13       -11  21.243734   \n",
       "1            1   50.346642  2.923757 -1.499664        13       -11  24.989485   \n",
       "2            1  165.415863 -2.242637 -1.099082       -13        11  34.283157   \n",
       "3            1  107.673973  2.943537  0.282655       -13        11  61.859890   \n",
       "4            1   46.935432  0.857526 -2.760113       -13        11  88.806442   \n",
       "...        ...         ...       ...       ...       ...       ...        ...   \n",
       "18456        1   44.024933  0.597358 -1.494792        13       -11  25.208357   \n",
       "18457        1  127.641548  0.954342  0.337385        13       -11  82.370987   \n",
       "18458        1   90.577461  0.936975  0.924840       -13        11  25.338013   \n",
       "18459        1   50.444962 -0.911866  0.069489       -13        11  21.614164   \n",
       "18460        1   77.024467  2.606350 -1.256706       -13        11  27.242083   \n",
       "\n",
       "           lep2pt   lep1eta   lep2eta  ...  muon_iso_scale_Down  \\\n",
       "0       33.708263  0.463379 -0.439575  ...             0.991103   \n",
       "1       29.258297 -1.179443 -1.611328  ...             1.000835   \n",
       "2      194.023453 -1.480713 -0.708374  ...             1.005987   \n",
       "3       57.235390 -0.513794  0.963013  ...             0.998357   \n",
       "4       46.639313 -2.028320 -0.738525  ...             0.999918   \n",
       "...           ...       ...       ...  ...                  ...   \n",
       "18456   28.360579 -0.735107 -1.673828  ...             0.976534   \n",
       "18457   48.810989  0.728882 -0.429443  ...             0.998323   \n",
       "18458   73.133980 -0.017792  1.091797  ...             0.976534   \n",
       "18459   34.297829  0.779663 -0.427246  ...             0.977342   \n",
       "18460   94.875778  0.044579 -1.092773  ...             0.976534   \n",
       "\n",
       "       photon_id_scale  photon_id_scale_Up  photon_id_scale_Down  \\\n",
       "0             0.988402            0.997400              0.979405   \n",
       "1             1.032532            1.042235              1.022828   \n",
       "2             0.970037            0.976563              0.963512   \n",
       "3             1.017199            1.034910              0.999488   \n",
       "4             1.034358            1.057044              1.011672   \n",
       "...                ...                 ...                   ...   \n",
       "18456         1.000000            1.015759              0.984241   \n",
       "18457         0.983122            1.010760              0.955485   \n",
       "18458         0.987835            1.001200              0.974469   \n",
       "18459         0.983122            1.010760              0.955485   \n",
       "18460         1.016291            1.040350              0.992231   \n",
       "\n",
       "       photon_veto_scale  photon_veto_scale_Up  photon_veto_scale_Down  \\\n",
       "0               0.903129              0.910653                0.895604   \n",
       "1               0.903129              0.910653                0.895604   \n",
       "2               0.969959              0.972307                0.967611   \n",
       "3               0.969959              0.972307                0.967611   \n",
       "4               0.903129              0.910653                0.895604   \n",
       "...                  ...                   ...                     ...   \n",
       "18456           0.980359              0.982144                0.978575   \n",
       "18457           0.980359              0.982144                0.978575   \n",
       "18458           0.980359              0.982144                0.978575   \n",
       "18459           0.980359              0.982144                0.978575   \n",
       "18460           0.980359              0.982144                0.978575   \n",
       "\n",
       "             HLT_ee        HLT_mm       HLT_emu  \n",
       "0      6.238057e+26  7.303967e+28  9.806721e+05  \n",
       "1      6.238057e+26  7.303967e+28  9.806721e+05  \n",
       "2      6.238246e+26  7.303968e+28  9.806721e+05  \n",
       "3      6.238246e+26  7.303968e+28  9.806721e+05  \n",
       "4      6.238246e+26  7.303968e+28  9.806721e+05  \n",
       "...             ...           ...           ...  \n",
       "18456  9.219423e-41  3.601337e-43  1.401298e-45  \n",
       "18457  9.219423e-41  3.601337e-43  1.401298e-45  \n",
       "18458  9.219563e-41  3.601337e-43  1.401298e-45  \n",
       "18459  9.183690e-41  3.587324e-43  1.401298e-45  \n",
       "18460  9.219423e-41  3.601337e-43  1.401298e-45  \n",
       "\n",
       "[18461 rows x 115 columns]"
      ]
     },
     "execution_count": 13,
     "metadata": {},
     "output_type": "execute_result"
    }
   ],
   "source": [
    "df"
   ]
  },
  {
   "cell_type": "code",
   "execution_count": 14,
   "id": "9c77428d-a918-4916-bc88-389cc197be19",
   "metadata": {},
   "outputs": [],
   "source": [
    "features=['drll','mT','mT2','mll','yVlep','phiVlep','drl1a','drl2a','njets20']\n",
    "#features=['lep1pt','lep2pt','lep1eta','lep2eta','lep1phi','lep2phi','drll','ptll','yVlep','phiVlep','mll','mT','mT2','PuppiMET_T1Smear_pt','PuppiMET_T1Smear_phi','photonet','photoneta','drl1a','drl2a','n_bjets20_medium']"
   ]
  },
  {
   "cell_type": "code",
   "execution_count": 15,
   "id": "3f2b362c-f9b7-4b3c-bfc5-a730be352272",
   "metadata": {},
   "outputs": [
    {
     "data": {
      "image/png": "[encoded data removed]",
      "text/plain": [
       "<Figure size 1440x1440 with 2 Axes>"
      ]
     },
     "metadata": {
      "needs_background": "light"
     },
     "output_type": "display_data"
    }
   ],
   "source": [
    "import seaborn as sns\n",
    "import matplotlib.pyplot as plt\n",
    "plt.figure(figsize = (20,20))\n",
    "corr = df[features].corr()\n",
    "sns.heatmap(corr, annot = True)\n",
    "#sns.heatmap(corr)\n",
    "plt.show()"
   ]
  },
  {
   "cell_type": "code",
   "execution_count": 18,
   "id": "cefb4969-5b46-4ec2-9f77-55bacdc70175",
   "metadata": {},
   "outputs": [],
   "source": [
    "from sklearn.model_selection import train_test_split\n",
    "import xgboost as xgb\n",
    "n_boost_rounds = 10\n",
    "xgboost_params = {'eval_metric':'logloss',\n",
    "#                  'max_depth' : 8,\n",
    "#                  'eta':0.3,\n",
    "                  'objective'  :'binary:logistic'}"
   ]
  },
  {
   "cell_type": "code",
   "execution_count": 19,
   "id": "db762d32-58c0-47a4-84d1-8d6d3a2a5c5f",
   "metadata": {},
   "outputs": [],
   "source": [
    "category=['0jets','1jets']"
   ]
  },
  {
   "cell_type": "code",
   "execution_count": 20,
   "id": "36ae4b54-fd22-4e1b-947b-09e601013284",
   "metadata": {},
   "outputs": [
    {
     "name": "stdout",
     "output_type": "stream",
     "text": [
      "number of bkg  222.86453  number of sig  2.5797315\n",
      "early stopping after 9 boosting rounds\n",
      "\n"
     ]
    }
   ],
   "source": [
    "#for i,group_df in df.groupby(\"njets30\"):\n",
    "#    print(i,'',group_df['njets30'])\n",
    "df.loc[df.query('actualWeight<0').index,'actualWeight']=0\n",
    "X=df[features]\n",
    "Y=df['isSignal']\n",
    "    \n",
    "    #random_state is the seed used by the random number generator, \n",
    "    #random_state=42 make others get the same data spliting in different executions.\n",
    "    # shuffle make the bkg and signal mix randomly.\n",
    "X_train, X_test, y_train, y_test = train_test_split(X, Y, test_size=0.4, \n",
    "                                                    random_state=42,shuffle=True)\n",
    "idx_train = X_train.index\n",
    "idx_test = X_test.index\n",
    "    \n",
    "    # XGBoost has it's own data format, so we have to create these structures. \n",
    "    #(The copies have no specific purpose other than silencing an xgboost warning.)\n",
    "\n",
    "dmatrix_train = xgb.DMatrix(X_train.copy(), label=np.copy(y_train),weight=df.loc[idx_train,'actualWeight'])\n",
    "dmatrix_test  = xgb.DMatrix(X_test.copy(), label=np.copy(y_test ),weight=df.loc[idx_test,'actualWeight'])\n",
    "    \n",
    "n_pos = np.sum(df.loc[df.loc[idx_train].query('isSignal==1').index,'actualWeight'])\n",
    "n_neg = np.sum(df.loc[df.loc[idx_train].query('isSignal==0').index,'actualWeight'])\n",
    "    \n",
    "    \n",
    "#dmatrix_train = xgb.DMatrix(X_train.copy(), label=np.copy(y_train))\n",
    "#dmatrix_test  = xgb.DMatrix(X_test.copy(), label=np.copy(y_test ))\n",
    "\n",
    "#n_pos = np.sum(y_train == 1)\n",
    "#n_neg = np.sum(y_train == 0)\n",
    "\n",
    "print('number of bkg ',n_neg,' number of sig ',n_pos)\n",
    "    # There is one additional hyperparameter needed to set per catoegy: `scale_pos_weight`.\n",
    "    # It corresponds  to a weight given to every positive sample, and it usually set to\n",
    "    # n_neg / n_pos when you have imbalanced datasets to balance the total contributions\n",
    "    # of the positive and negative classes in the loss function\n",
    "    \n",
    "xgboost_params[\"scale_pos_weight\"] = 1. * n_neg / n_pos\n",
    "    \n",
    "    # Train\n",
    "model = xgb.train(xgboost_params,\n",
    "                      dmatrix_train,\n",
    "                      num_boost_round=n_boost_rounds,\n",
    "                      evals= [(dmatrix_train, 'train'),\n",
    "                              (dmatrix_test, 'test')],\n",
    "                      early_stopping_rounds=10,\n",
    "                      verbose_eval=False)\n",
    "    \n",
    "best_iteration = model.best_iteration + 1\n",
    "if best_iteration < n_boost_rounds:\n",
    "        print(\"early stopping after {0} boosting rounds\".format(best_iteration))\n",
    "print(\"\")\n",
    "    \n",
    "model.save_model('model.json')\n",
    " \n",
    "    # Add new column for the BDT output\n",
    "df.loc[idx_train, \"score\"] = model.predict(dmatrix_train)\n",
    "df.loc[idx_test, \"score\"] = model.predict(dmatrix_test)\n",
    "    \n",
    "    # Add new column to separate the test and train\n",
    "df.loc[idx_train, \"test\"] = False\n",
    "df.loc[idx_test, \"test\"] = True"
   ]
  },
  {
   "cell_type": "code",
   "execution_count": 47,
   "id": "32e6c944-feee-43b7-a0a3-9f9d929704c9",
   "metadata": {},
   "outputs": [],
   "source": [
    "import matplotlib.pyplot as plt\n",
    "from sklearn import metrics\n",
    "\n",
    "def plot_roc_curve(df, score_column, tpr_threshold=0.7, ax=None, color=None, linestyle='-', label=None):\n",
    "    if ax is None:\n",
    "        ax = plt.gca()\n",
    "    if label is None:\n",
    "        label = score_column\n",
    "    fpr, tpr, thresholds = metrics.roc_curve(df['isSignal'], df[score_column])\n",
    "    mask = tpr > tpr_threshold\n",
    "    fpr, tpr = fpr[mask], tpr[mask]\n",
    "    ax.semilogy(tpr, fpr, label=label, color=color, linestyle=linestyle)"
   ]
  },
  {
   "cell_type": "code",
   "execution_count": 48,
   "id": "bb10b3cc-9f9e-453b-be22-f4eb6cdd9984",
   "metadata": {},
   "outputs": [],
   "source": [
    "fpr, tpr, thresholds = metrics.roc_curve(df['isSignal'], df['score'])"
   ]
  },
  {
   "cell_type": "code",
   "execution_count": 27,
   "id": "da3d1d6f-13d3-4419-8e31-f979661c7e73",
   "metadata": {},
   "outputs": [
    {
     "data": {
      "text/plain": [
       "<matplotlib.legend.Legend at 0x7f5fdf2c2e80>"
      ]
     },
     "execution_count": 27,
     "metadata": {},
     "output_type": "execute_result"
    },
    {
     "data": {
      "image/png": "[encoded data removed]",
      "text/plain": [
       "<Figure size 432x288 with 1 Axes>"
      ]
     },
     "metadata": {
      "needs_background": "light"
     },
     "output_type": "display_data"
    }
   ],
   "source": [
    "df_WWg_test = df.query('test==True & isSignal==1')\n",
    "df_bkg_test = df.query('test==True & isSignal!=1')\n",
    "df_WWg_train = df.query('test!=True & isSignal==1')\n",
    "df_bkg_train = df.query('test!=True & isSignal!=1')\n",
    "#Bins = np.linspace(0.2,1,20+1)\n",
    "Bins = 8\n",
    "plt.figure()\n",
    "# test\n",
    "plt.hist(df_WWg_test['score'],bins=Bins,histtype=\"step\",label=\"Signal_Train \",density = True,color='red',linestyle='dashed')\n",
    "plt.hist(df_bkg_test['score'],bins=Bins,histtype=\"step\",label=\"Bkg_Train \",density = True,color='blue',linestyle='dashed')\n",
    "# train\n",
    "plt.hist(df_WWg_train['score'],bins=Bins,histtype=\"step\",label=\"Signal_Train \",density = True,color='red')\n",
    "plt.hist(df_bkg_train['score'],bins=Bins,histtype=\"step\",label=\"Bkg_Train \",density = True,color='blue')\n",
    "plt.legend(loc=9)"
   ]
  },
  {
   "cell_type": "code",
   "execution_count": 49,
   "id": "1b6f6a89-249c-4d83-b653-779de0e594df",
   "metadata": {},
   "outputs": [
    {
     "data": {
      "image/png": "[encoded data removed]",
      "text/plain": [
       "<Figure size 360x360 with 1 Axes>"
      ]
     },
     "metadata": {
      "needs_background": "light"
     },
     "output_type": "display_data"
    }
   ],
   "source": [
    "fig, axes = plt.subplots(1, 1, figsize=(5,5))\n",
    "if True:\n",
    "    \n",
    "    df_train = df.query('test==False')\n",
    "    df_test =  df.query(\"test==True\")\n",
    "    \n",
    "    ax=axes\n",
    "    ax.set_xlabel(\"Signal efficiency\")\n",
    "    ax.set_ylabel(\"Background efficiency\")\n",
    "    #plot_roc_curve(df_test, \"lep1pt\", ax=ax)\n",
    "    plot_roc_curve(df_test, \"score\", ax=ax, label=\"your new training (test sample)\")\n",
    "    plot_roc_curve(df_train, \"score\", ax=ax, color=\"#ff7f02\", linestyle='--', label=\"your new training (train sample)\")\n",
    "    ax.set_title('all jets')\n",
    "    ax.legend()"
   ]
  },
  {
   "cell_type": "code",
   "execution_count": 28,
   "id": "c6da254c-791d-4c3f-8413-45c1f06d0feb",
   "metadata": {},
   "outputs": [
    {
     "data": {
      "image/png": "[encoded data removed]",
      "text/plain": [
       "<Figure size 432x288 with 1 Axes>"
      ]
     },
     "metadata": {
      "needs_background": "light"
     },
     "output_type": "display_data"
    }
   ],
   "source": [
    "from sklearn.metrics import roc_curve, auc\n",
    "if True:\n",
    "    \n",
    "    df_train = df.query('test==False')\n",
    "    df_test =  df.query(\"test==True\")\n",
    "\n",
    "    \n",
    "    fpr, tpr, _ = roc_curve(df_test['isSignal'], df_test['score'])\n",
    "    fpr1, tpr1, _1 = roc_curve(df_train['isSignal'], df_train['score'])\n",
    "    \n",
    "    roc_auc = auc(fpr, tpr)\n",
    "    roc_auc1 = auc(fpr1, tpr1)\n",
    "    \n",
    "    plt.figure()\n",
    "    lw = 2\n",
    "    plt.plot(fpr, tpr, color='darkorange',\n",
    "         lw=lw, label='ROC curve (test) (area = %0.2f)' % roc_auc)\n",
    "    plt.plot(fpr1, tpr1, color='red',\n",
    "         lw=lw, label='ROC curve (train) (area = %0.2f)' % roc_auc1)\n",
    "    \n",
    "    plt.plot([0, 1], [0, 1], color='navy', lw=lw, linestyle='--')\n",
    "    plt.xlim([0.0, 1.0])\n",
    "    plt.ylim([0.0, 1.05])\n",
    "    plt.xlabel('False Positive Rate')\n",
    "    plt.ylabel('True Positive Rate')\n",
    "    plt.title('Receiver operating characteristic (Test)')\n",
    "    plt.legend(loc=\"lower right\")"
   ]
  },
  {
   "cell_type": "code",
   "execution_count": 28,
   "id": "b0491105-e75a-4235-b8b6-d33ac5b1794b",
   "metadata": {},
   "outputs": [],
   "source": [
    "model=xgb.Booster()\n",
    "model.load_model('./model.json')"
   ]
  },
  {
   "cell_type": "code",
   "execution_count": 29,
   "id": "b78e68f4-aab2-44d2-9cf7-41aa516eb329",
   "metadata": {},
   "outputs": [
    {
     "data": {
      "text/plain": [
       "<AxesSubplot:title={'center':'Feature importance'}, xlabel='F score', ylabel='Features'>"
      ]
     },
     "execution_count": 29,
     "metadata": {},
     "output_type": "execute_result"
    },
    {
     "data": {
      "image/png": "[encoded data removed]",
      "text/plain": [
       "<Figure size 2160x2160 with 1 Axes>"
      ]
     },
     "metadata": {
      "needs_background": "light"
     },
     "output_type": "display_data"
    }
   ],
   "source": [
    "from xgboost import plot_importance\n",
    "plt.figure(figsize = (30,30))\n",
    "ax = plt.subplot(111)\n",
    "\n",
    "plot_importance(model,ax=ax)"
   ]
  },
  {
   "cell_type": "code",
   "execution_count": 32,
   "id": "3a7ef107-dc0a-479e-a5b2-2df85f1c8a92",
   "metadata": {},
   "outputs": [],
   "source": [
    "root_files18 = glob.glob(\"/home/pku/anying/cms/PKU-Cluster/WWg/BDT/rootfiles/optimal*18.root\")\n",
    "root_files17 = glob.glob(\"/home/pku/anying/cms/PKU-Cluster/WWg/BDT/rootfiles/optimal*17.root\")"
   ]
  },
  {
   "cell_type": "code",
   "execution_count": 33,
   "id": "98227e8c-13b2-417d-a6c6-acedbed2b6aa",
   "metadata": {},
   "outputs": [],
   "source": [
    "def get_df_year(root_files,features,lumi):\n",
    "#   df = pd.concat((get_df(f) for f in tqdm(root_files)), ignore_index=True)\n",
    "    ls=[]\n",
    "    for f in root_files:\n",
    "#        print(f)\n",
    "        df_tmp = get_df(f)\n",
    "        if 'plj' not in f and 'fake' not in f:\n",
    "            print(f)\n",
    "            df_tmp['actualWeight']=df_tmp['actualWeight']*lumi\n",
    "        ls.append(df_tmp)\n",
    "    df=pd.concat(ls,ignore_index=True)\n",
    "    model=xgb.Booster()\n",
    "    model.load_model('./model.json')\n",
    "    dmatrix = xgb.DMatrix(df[features], label=np.copy(df['isSignal']))\n",
    "    df.loc[df.index, \"score\"] = model.predict(dmatrix)\n",
    "    return df"
   ]
  },
  {
   "cell_type": "code",
   "execution_count": 34,
   "id": "271286fb-da26-44f0-9727-2efd6ed640b6",
   "metadata": {},
   "outputs": [
    {
     "name": "stdout",
     "output_type": "stream",
     "text": [
      "/home/pku/anying/cms/PKU-Cluster/WWg/BDT/rootfiles/optimal_emua_ST18.root\n",
      "/home/pku/anying/cms/PKU-Cluster/WWg/BDT/rootfiles/optimal_emua_TTGJets18.root\n",
      "/home/pku/anying/cms/PKU-Cluster/WWg/BDT/rootfiles/optimal_emua_VV18.root\n",
      "/home/pku/anying/cms/PKU-Cluster/WWg/BDT/rootfiles/optimal_emua_WGJets18.root\n",
      "/home/pku/anying/cms/PKU-Cluster/WWg/BDT/rootfiles/optimal_emua_WWG_emu18.root\n",
      "/home/pku/anying/cms/PKU-Cluster/WWg/BDT/rootfiles/optimal_emua_ZGJets18.root\n",
      "/home/pku/anying/cms/PKU-Cluster/WWg/BDT/rootfiles/optimal_emua_tZq18.root\n"
     ]
    }
   ],
   "source": [
    "df18=get_df_year(root_files18,features,59.7)"
   ]
  },
  {
   "cell_type": "code",
   "execution_count": 35,
   "id": "512b4a20-a022-4ea8-8d33-cb321b357506",
   "metadata": {},
   "outputs": [],
   "source": [
    "def get_hist(df):\n",
    "    hist=ROOT.TH1D(\"h1\",\"\",10,0.,1)\n",
    "    for i in range(0,df.shape[0]):\n",
    "        hist.Fill(df['score'].iloc[i],df['actualWeight'].iloc[i])\n",
    "    return hist    "
   ]
  },
  {
   "cell_type": "code",
   "execution_count": 36,
   "id": "dbea8109-e9df-4b71-b114-1389a9dccfa4",
   "metadata": {},
   "outputs": [],
   "source": [
    "bkg18=df18.query('isSignal!=1 ')\n",
    "sig18=df18.query('isSignal==1 ')"
   ]
  },
  {
   "cell_type": "code",
   "execution_count": 37,
   "id": "5a529a89-60f9-441c-a944-a2f042df23be",
   "metadata": {},
   "outputs": [
    {
     "name": "stderr",
     "output_type": "stream",
     "text": [
      "Warning in <TROOT::Append>: Replacing existing TH1: h1 (Potential memory leak).\n"
     ]
    }
   ],
   "source": [
    "hist_sig=get_hist(sig18)\n",
    "hist_bkg=get_hist(bkg18)"
   ]
  },
  {
   "cell_type": "code",
   "execution_count": 38,
   "id": "f193bafe-6442-42dd-a1bd-3c5688248327",
   "metadata": {},
   "outputs": [],
   "source": [
    "c1=ROOT.TCanvas(\"c1\",\"\",900,600)"
   ]
  },
  {
   "cell_type": "code",
   "execution_count": 39,
   "id": "da86f813-b62f-4e55-9a9c-c5ebcf5265ca",
   "metadata": {},
   "outputs": [
    {
     "data": {
      "image/png": "[encoded data removed]",
      "text/plain": [
       "<IPython.core.display.Image object>"
      ]
     },
     "metadata": {},
     "output_type": "display_data"
    }
   ],
   "source": [
    "hist_bkg.SetLineColor(3)\n",
    "hist_bkg.Draw(\"hist\")\n",
    "hist_bkg.GetYaxis().SetRangeUser(0,80)\n",
    "#gStyle.SetOptStat(0)\n",
    "hist_sig.SetLineColor(2)\n",
    "hist_sig.Draw('hist same')\n",
    "c1.Draw()\n",
    "c1.Update()"
   ]
  },
  {
   "cell_type": "code",
   "execution_count": 40,
   "id": "25208e78-d580-466c-b75e-b192841e5a26",
   "metadata": {},
   "outputs": [],
   "source": [
    "data_files18 = glob.glob(\"/home/pku/anying/cms/PKU-Cluster/WWg/BDT/rootfiles/data/optimal*18.root\")"
   ]
  },
  {
   "cell_type": "code",
   "execution_count": 41,
   "id": "01d5f1ad-be4c-4bbe-82f5-458adef9a636",
   "metadata": {},
   "outputs": [
    {
     "data": {
      "text/plain": [
       "['/home/pku/anying/cms/PKU-Cluster/WWg/BDT/rootfiles/data/optimal_emua_Muon18.root',\n",
       " '/home/pku/anying/cms/PKU-Cluster/WWg/BDT/rootfiles/data/optimal_emua_MuonEG18.root',\n",
       " '/home/pku/anying/cms/PKU-Cluster/WWg/BDT/rootfiles/data/optimal_emua_Ele18.root']"
      ]
     },
     "execution_count": 41,
     "metadata": {},
     "output_type": "execute_result"
    }
   ],
   "source": [
    "data_files18"
   ]
  },
  {
   "cell_type": "code",
   "execution_count": 42,
   "id": "5468e2d8-7845-4058-9ee9-ea489b910723",
   "metadata": {},
   "outputs": [
    {
     "name": "stdout",
     "output_type": "stream",
     "text": [
      "/home/pku/anying/cms/PKU-Cluster/WWg/BDT/rootfiles/data/optimal_emua_Muon18.root\n",
      "/home/pku/anying/cms/PKU-Cluster/WWg/BDT/rootfiles/data/optimal_emua_MuonEG18.root\n",
      "/home/pku/anying/cms/PKU-Cluster/WWg/BDT/rootfiles/data/optimal_emua_Ele18.root\n"
     ]
    }
   ],
   "source": [
    "data18=get_df_year(data_files18,features,1)"
   ]
  },
  {
   "cell_type": "code",
   "execution_count": 44,
   "id": "35fa23ca-2547-4f71-a183-27814446e254",
   "metadata": {},
   "outputs": [
    {
     "data": {
      "text/plain": [
       "(array([ 4.46694279, 56.50801468, 47.04114914, 43.1975174 , 29.52804565,\n",
       "        22.9896698 , 21.23982239, 25.56213379, 18.99728394,  0.6656189 ]),\n",
       " array([0. , 0.1, 0.2, 0.3, 0.4, 0.5, 0.6, 0.7, 0.8, 0.9, 1. ]),\n",
       " [<matplotlib.patches.Polygon at 0x7f5fdef86040>])"
      ]
     },
     "execution_count": 44,
     "metadata": {},
     "output_type": "execute_result"
    },
    {
     "data": {
      "image/png": "[encoded data removed]",
      "text/plain": [
       "<Figure size 432x288 with 1 Axes>"
      ]
     },
     "metadata": {
      "needs_background": "light"
     },
     "output_type": "display_data"
    }
   ],
   "source": [
    "Bins = np.linspace(0.,1,10+1)\n",
    "plt.figure()\n",
    "plt.ylim(0.,100)\n",
    "plt.hist(df18['score'],bins=Bins,histtype=\"step\",label=\"Signal_Test\",\n",
    "         density = False,weights=df18['actualWeight'])\n",
    "#plt.hist(data18['score'],bins=Bins,histtype=\"step\",label=\"Signal_Test\",\n",
    "#         density = False,weights=data18['actualWeight'])"
   ]
  },
  {
   "cell_type": "code",
   "execution_count": 45,
   "id": "1429d56e-6cf0-4cd6-9775-0aa8c7b7b08b",
   "metadata": {},
   "outputs": [
    {
     "data": {
      "text/plain": [
       "(array([ 0.        ,  0.1584803 , -0.54640597,  4.23905659,  3.6093359 ,\n",
       "         7.87777758,  9.48694324, 17.96069717, 18.25099564,  0.81334686]),\n",
       " array([0. , 0.1, 0.2, 0.3, 0.4, 0.5, 0.6, 0.7, 0.8, 0.9, 1. ]),\n",
       " [<matplotlib.patches.Polygon at 0x7f5fded6a640>])"
      ]
     },
     "execution_count": 45,
     "metadata": {},
     "output_type": "execute_result"
    },
    {
     "data": {
      "image/png": "[encoded data removed]",
      "text/plain": [
       "<Figure size 432x288 with 1 Axes>"
      ]
     },
     "metadata": {
      "needs_background": "light"
     },
     "output_type": "display_data"
    }
   ],
   "source": [
    "Bins = np.linspace(0.,1,10+1)\n",
    "#Bins = 10\n",
    "plt.figure()\n",
    "plt.ylim(0.,100)\n",
    "plt.hist(df18['score'],bins=Bins,histtype=\"step\",label=\"Signal_Test\",\n",
    "          density = False,weights=df18['actualWeight'])\n",
    "plt.hist(data18['score'],bins=Bins,histtype=\"bar\",label=\"Signal_Test\",\n",
    "         density = False,weights=data18['actualWeight'])\n",
    "plt.hist(sig18['score'],bins=Bins,histtype=\"step\",label=\"Signal_Test\",\n",
    "         density = False,weights=sig18['actualWeight'])"
   ]
  },
  {
   "cell_type": "code",
   "execution_count": 54,
   "id": "3d4b1ca4-f741-4123-9c08-777f8fa1ed88",
   "metadata": {},
   "outputs": [],
   "source": [
    "import numpy as np\n",
    "def get_bin(cumu,bins):\n",
    "    a=np.where(cumu[0]>0.2)\n",
    "    a[0][0] \n",
    "    x=[0]\n",
    "    y=[0]\n",
    "    nbin=2\n",
    "\n",
    "    for i in bins:\n",
    "        a=np.where(cumu[0]>i)\n",
    "        ibin=a[0][0]\n",
    "        ytmp=cumu[0][ibin]\n",
    "        xtmp=cumu[1][ibin]\n",
    "        y.append(ytmp)\n",
    "        x.append(xtmp)\n",
    "        print(ytmp,xtmp)\n",
    "    x.append(1)\n",
    "    y.append(1)\n",
    "    return x"
   ]
  },
  {
   "cell_type": "code",
   "execution_count": 55,
   "id": "afc71021-ddcd-464a-8e14-18afd59bebf7",
   "metadata": {},
   "outputs": [
    {
     "name": "stdout",
     "output_type": "stream",
     "text": [
      "0.2073360821976775 0.5576\n",
      "0.4057831940964831 0.672\n",
      "0.6113849279697882 0.7432\n",
      "0.8068382493819769 0.8096\n"
     ]
    },
    {
     "data": {
      "image/png": "[encoded data removed]",
      "text/plain": [
       "<Figure size 432x288 with 1 Axes>"
      ]
     },
     "metadata": {
      "needs_background": "light"
     },
     "output_type": "display_data"
    }
   ],
   "source": [
    "Bins = np.linspace(0.1,0.9,1000+1)\n",
    "#plt.figure()\n",
    "cumu18=plt.hist(sig18['score'],bins=Bins,histtype=\"step\",label=\"Signal_Test\",\n",
    "         density = True,weights=sig18['actualWeight'],cumulative=True)\n",
    "bins18=[0.20,0.4,0.6,0.8]\n",
    "#bins=[0.15,0.3,0.45,0.6,0.75,0.9]\n",
    "Bins = get_bin(cumu18,bins18)"
   ]
  },
  {
   "cell_type": "code",
   "execution_count": 59,
   "id": "bade9608-d5fc-484e-8263-c856845fb433",
   "metadata": {},
   "outputs": [
    {
     "data": {
      "text/plain": [
       "(array([11.85331631, 11.82836819, 12.53811073, 12.18972778, 13.44083023]),\n",
       " array([0.    , 0.5576, 0.672 , 0.7432, 0.8096, 1.    ]),\n",
       " [<matplotlib.patches.Polygon at 0x7f3f543bf370>])"
      ]
     },
     "execution_count": 59,
     "metadata": {},
     "output_type": "execute_result"
    },
    {
     "data": {
      "image/png": "[encoded data removed]",
      "text/plain": [
       "<Figure size 432x288 with 1 Axes>"
      ]
     },
     "metadata": {
      "needs_background": "light"
     },
     "output_type": "display_data"
    }
   ],
   "source": [
    "plt.ylim(0.,250)\n",
    "plt.hist(df18['score'],bins=Bins,histtype=\"step\",label=\"Signal_Test\",\n",
    "          density = False,weights=df18['actualWeight'])\n",
    "plt.hist(data18['score'],bins=Bins,histtype=\"bar\",label=\"Signal_Test\",\n",
    "         density = False,weights=data18['actualWeight'])\n",
    "plt.hist(sig18['score'],bins=Bins,histtype=\"step\",label=\"Signal_Test\",\n",
    "         density = False,weights=sig18['actualWeight'])"
   ]
  },
  {
   "cell_type": "code",
   "execution_count": 60,
   "id": "d5e0138e-d36f-4d3b-8e4a-7247932275db",
   "metadata": {},
   "outputs": [
    {
     "data": {
      "text/plain": [
       "61.850464"
      ]
     },
     "execution_count": 60,
     "metadata": {},
     "output_type": "execute_result"
    }
   ],
   "source": [
    "sig18['actualWeight'].sum()"
   ]
  },
  {
   "cell_type": "code",
   "execution_count": 61,
   "id": "eae46c05-345c-4906-9847-d99248487a4a",
   "metadata": {},
   "outputs": [
    {
     "data": {
      "text/plain": [
       "270.1999"
      ]
     },
     "execution_count": 61,
     "metadata": {},
     "output_type": "execute_result"
    }
   ],
   "source": [
    "df18['actualWeight'].sum()"
   ]
  },
  {
   "cell_type": "code",
   "execution_count": 62,
   "id": "895a90eb-0f7e-4b90-aade-bc7de780c35d",
   "metadata": {},
   "outputs": [
    {
     "name": "stdout",
     "output_type": "stream",
     "text": [
      "/home/pku/anying/cms/PKU-Cluster/WWg/BDT/rootfiles/optimal_emua_ST17.root\n",
      "/home/pku/anying/cms/PKU-Cluster/WWg/BDT/rootfiles/optimal_emua_TTGJets17.root\n",
      "/home/pku/anying/cms/PKU-Cluster/WWg/BDT/rootfiles/optimal_emua_VV17.root\n",
      "/home/pku/anying/cms/PKU-Cluster/WWg/BDT/rootfiles/optimal_emua_WGJets17.root\n",
      "/home/pku/anying/cms/PKU-Cluster/WWg/BDT/rootfiles/optimal_emua_WWG_emu17.root\n",
      "/home/pku/anying/cms/PKU-Cluster/WWg/BDT/rootfiles/optimal_emua_ZGJets17.root\n",
      "/home/pku/anying/cms/PKU-Cluster/WWg/BDT/rootfiles/optimal_emua_tZq17.root\n",
      "/home/pku/anying/cms/PKU-Cluster/WWg/BDT/rootfiles/data/optimal_emua_Muon17.root\n",
      "/home/pku/anying/cms/PKU-Cluster/WWg/BDT/rootfiles/data/optimal_emua_MuonEG17.root\n",
      "/home/pku/anying/cms/PKU-Cluster/WWg/BDT/rootfiles/data/optimal_emua_Ele17.root\n"
     ]
    }
   ],
   "source": [
    "data_files17 = glob.glob(\"/home/pku/anying/cms/PKU-Cluster/WWg/BDT/rootfiles/data/optimal*17.root\")\n",
    "df17=get_df_year(root_files17,features,41.52)\n",
    "data17=get_df_year(data_files17,features,1)\n",
    "bkg17=df17.query('isSignal!=1 ')\n",
    "sig17=df17.query('isSignal==1 ')"
   ]
  },
  {
   "cell_type": "code",
   "execution_count": 63,
   "id": "77944588-a07b-466c-afbf-9026acce7b89",
   "metadata": {},
   "outputs": [
    {
     "data": {
      "text/plain": [
       "(array([-0.06296685, -0.49943116, -0.81342047,  0.28907716,  1.75826442,\n",
       "         1.19022858,  7.86133957,  9.14248848,  8.28444672,  6.72402382]),\n",
       " array([0.1 , 0.18, 0.26, 0.34, 0.42, 0.5 , 0.58, 0.66, 0.74, 0.82, 0.9 ]),\n",
       " [<matplotlib.patches.Polygon at 0x7f3ee5a08970>])"
      ]
     },
     "execution_count": 63,
     "metadata": {},
     "output_type": "execute_result"
    },
    {
     "data": {
      "image/png": "[encoded data removed]",
      "text/plain": [
       "<Figure size 432x288 with 1 Axes>"
      ]
     },
     "metadata": {
      "needs_background": "light"
     },
     "output_type": "display_data"
    }
   ],
   "source": [
    "Bins = np.linspace(0.1,0.9,10+1)\n",
    "#Bins = 10\n",
    "plt.figure()\n",
    "plt.ylim(0.,100)\n",
    "plt.hist(df17['score'],bins=Bins,histtype=\"step\",label=\"Signal_Test\",\n",
    "          density = False,weights=df17['actualWeight'])\n",
    "plt.hist(data17['score'],bins=Bins,histtype=\"bar\",label=\"Signal_Test\",\n",
    "         density = False,weights=data17['actualWeight'])\n",
    "plt.hist(sig17['score'],bins=Bins,histtype=\"step\",label=\"Signal_Test\",\n",
    "         density = False,weights=sig17['actualWeight'])"
   ]
  },
  {
   "cell_type": "code",
   "execution_count": 64,
   "id": "25cac397-1895-4434-bb67-35d669cfbc6f",
   "metadata": {},
   "outputs": [
    {
     "name": "stdout",
     "output_type": "stream",
     "text": [
      "0.20781894823767447 0.628\n",
      "0.4054806646867387 0.6992\n",
      "0.6023333751797533 0.7464000000000001\n",
      "0.8014992647149597 0.8192\n"
     ]
    },
    {
     "data": {
      "image/png": "[encoded data removed]",
      "text/plain": [
       "<Figure size 432x288 with 1 Axes>"
      ]
     },
     "metadata": {
      "needs_background": "light"
     },
     "output_type": "display_data"
    }
   ],
   "source": [
    "Bins = np.linspace(0.1,0.9,1000+1)\n",
    "#plt.figure()\n",
    "cumu17=plt.hist(sig17['score'],bins=Bins,histtype=\"step\",label=\"Signal_Test\",\n",
    "         density = True,weights=sig17['actualWeight'],cumulative=True)\n",
    "bins17=[0.20,0.4,0.6,0.8]\n",
    "#bins=[0.15,0.3,0.45,0.6,0.75,0.9]\n",
    "Bins17 = get_bin(cumu17,bins17)"
   ]
  },
  {
   "cell_type": "code",
   "execution_count": 65,
   "id": "84d4b7ad-c8ea-4827-a935-f36322aa4fd9",
   "metadata": {},
   "outputs": [
    {
     "data": {
      "text/plain": [
       "(array([6.62852621, 6.70748568, 6.60646057, 6.08939362, 9.01540565]),\n",
       " array([0.    , 0.628 , 0.6992, 0.7464, 0.8192, 1.    ]),\n",
       " [<matplotlib.patches.Polygon at 0x7f3f5448e9d0>])"
      ]
     },
     "execution_count": 65,
     "metadata": {},
     "output_type": "execute_result"
    },
    {
     "data": {
      "image/png": "[encoded data removed]",
      "text/plain": [
       "<Figure size 432x288 with 1 Axes>"
      ]
     },
     "metadata": {
      "needs_background": "light"
     },
     "output_type": "display_data"
    }
   ],
   "source": [
    "plt.ylim(0.,160)\n",
    "plt.hist(df17['score'],bins=Bins17,histtype=\"step\",label=\"Signal_Test\",\n",
    "          density = False,weights=df17['actualWeight'])\n",
    "plt.hist(data17['score'],bins=Bins17,histtype=\"bar\",label=\"Signal_Test\",\n",
    "         density = False,weights=data17['actualWeight'])\n",
    "plt.hist(sig17['score'],bins=Bins17,histtype=\"step\",label=\"Signal_Test\",\n",
    "         density = False,weights=sig17['actualWeight'])"
   ]
  },
  {
   "cell_type": "code",
   "execution_count": 66,
   "id": "fbcca6dc-a047-4264-b2cf-a0dd6fae9eec",
   "metadata": {},
   "outputs": [
    {
     "name": "stdout",
     "output_type": "stream",
     "text": [
      "/home/pku/anying/cms/PKU-Cluster/WWg/BDT/rootfiles/optimal_emua_ST_pre16.root\n",
      "/home/pku/anying/cms/PKU-Cluster/WWg/BDT/rootfiles/optimal_emua_TTGJets_pre16.root\n",
      "/home/pku/anying/cms/PKU-Cluster/WWg/BDT/rootfiles/optimal_emua_tZq_pre16.root\n",
      "/home/pku/anying/cms/PKU-Cluster/WWg/BDT/rootfiles/optimal_emua_VV_pre16.root\n",
      "/home/pku/anying/cms/PKU-Cluster/WWg/BDT/rootfiles/optimal_emua_WGJets_pre16.root\n",
      "/home/pku/anying/cms/PKU-Cluster/WWg/BDT/rootfiles/optimal_emua_WWG_emu_pre16.root\n",
      "/home/pku/anying/cms/PKU-Cluster/WWg/BDT/rootfiles/optimal_emua_ZGJets_pre16.root\n",
      "/home/pku/anying/cms/PKU-Cluster/WWg/BDT/rootfiles/data/optimal_emua_Ele_pre16.root\n",
      "/home/pku/anying/cms/PKU-Cluster/WWg/BDT/rootfiles/data/optimal_emua_MuonEG_pre16.root\n",
      "/home/pku/anying/cms/PKU-Cluster/WWg/BDT/rootfiles/data/optimal_emua_Muon_pre16.root\n"
     ]
    }
   ],
   "source": [
    "data_files_pre16 = glob.glob(\"/home/pku/anying/cms/PKU-Cluster/WWg/BDT/rootfiles/data/optimal*_pre16.root\")\n",
    "root_files_pre16 = glob.glob(\"/home/pku/anying/cms/PKU-Cluster/WWg/BDT/rootfiles/optimal*_pre16.root\")\n",
    "df_pre16=get_df_year(root_files_pre16,features,19.5)\n",
    "data_pre16=get_df_year(data_files_pre16,features,1)\n",
    "bkg_pre16=df_pre16.query('isSignal!=1 ')\n",
    "sig_pre16=df_pre16.query('isSignal==1 ')"
   ]
  },
  {
   "cell_type": "code",
   "execution_count": 67,
   "id": "3cd4ade2-6256-419e-80d1-e394e168bf3e",
   "metadata": {},
   "outputs": [
    {
     "name": "stdout",
     "output_type": "stream",
     "text": [
      "/home/pku/anying/cms/PKU-Cluster/WWg/BDT/rootfiles/post16/optimal_emua_ST16.root\n",
      "/home/pku/anying/cms/PKU-Cluster/WWg/BDT/rootfiles/post16/optimal_emua_TTGJets16.root\n",
      "/home/pku/anying/cms/PKU-Cluster/WWg/BDT/rootfiles/post16/optimal_emua_tZq16.root\n",
      "/home/pku/anying/cms/PKU-Cluster/WWg/BDT/rootfiles/post16/optimal_emua_VV16.root\n",
      "/home/pku/anying/cms/PKU-Cluster/WWg/BDT/rootfiles/post16/optimal_emua_WGJets16.root\n",
      "/home/pku/anying/cms/PKU-Cluster/WWg/BDT/rootfiles/post16/optimal_emua_WWG_emu16.root\n",
      "/home/pku/anying/cms/PKU-Cluster/WWg/BDT/rootfiles/post16/optimal_emua_ZGJets16.root\n",
      "/home/pku/anying/cms/PKU-Cluster/WWg/BDT/rootfiles/data/post16/optimal_emua_Ele16.root\n",
      "/home/pku/anying/cms/PKU-Cluster/WWg/BDT/rootfiles/data/post16/optimal_emua_Muon16.root\n",
      "/home/pku/anying/cms/PKU-Cluster/WWg/BDT/rootfiles/data/post16/optimal_emua_MuonEG16.root\n"
     ]
    }
   ],
   "source": [
    "data_files_post16 = glob.glob(\"/home/pku/anying/cms/PKU-Cluster/WWg/BDT/rootfiles/data/post16/optimal*16.root\")\n",
    "root_files_post16 = glob.glob(\"/home/pku/anying/cms/PKU-Cluster/WWg/BDT/rootfiles/post16/optimal*16.root\")\n",
    "df_post16=get_df_year(root_files_post16,features,16.81)\n",
    "data_post16=get_df_year(data_files_post16,features,1)\n",
    "bkg_post16=df_post16.query('isSignal!=1 ')\n",
    "sig_post16=df_post16.query('isSignal==1 ')"
   ]
  },
  {
   "cell_type": "code",
   "execution_count": 68,
   "id": "74c30e05-3a06-4209-9ae4-fe4a798c6671",
   "metadata": {},
   "outputs": [
    {
     "name": "stdout",
     "output_type": "stream",
     "text": [
      "15.989008\n",
      "17.57906\n"
     ]
    }
   ],
   "source": [
    "print(sig_post16['actualWeight'].sum())\n",
    "print(sig_pre16['actualWeight'].sum())"
   ]
  },
  {
   "cell_type": "code",
   "execution_count": 69,
   "id": "48e2d8b7-9487-4754-aaca-8e53a0d2fa35",
   "metadata": {},
   "outputs": [],
   "source": [
    "data16=pd.concat([data_pre16,data_post16])\n",
    "df16=pd.concat([df_pre16,df_post16])\n",
    "sig16=df16.query('isSignal==1')\n",
    "bkg16=df16.query('isSignal!=1')"
   ]
  },
  {
   "cell_type": "code",
   "execution_count": 70,
   "id": "b48369a9-f244-4ce4-b4ee-5e0c4bc9569a",
   "metadata": {},
   "outputs": [
    {
     "data": {
      "text/plain": [
       "(array([-0.0757992 , -0.19684371, -0.08309823,  0.55843753,  1.06341434,\n",
       "         1.65423369,  3.5251193 ,  6.53614569,  9.44092751,  9.69096947]),\n",
       " array([0.1 , 0.18, 0.26, 0.34, 0.42, 0.5 , 0.58, 0.66, 0.74, 0.82, 0.9 ]),\n",
       " [<matplotlib.patches.Polygon at 0x7f3f548d62e0>])"
      ]
     },
     "execution_count": 70,
     "metadata": {},
     "output_type": "execute_result"
    },
    {
     "data": {
      "image/png": "[encoded data removed]",
      "text/plain": [
       "<Figure size 432x288 with 1 Axes>"
      ]
     },
     "metadata": {
      "needs_background": "light"
     },
     "output_type": "display_data"
    }
   ],
   "source": [
    "Bins = np.linspace(0.1,0.9,10+1)\n",
    "#Bins = 10\n",
    "plt.figure()\n",
    "plt.ylim(0.,120)\n",
    "plt.hist(df16['score'],bins=Bins,histtype=\"step\",label=\"Signal_Test\",\n",
    "          density = False,weights=df16['actualWeight'])\n",
    "plt.hist(data16['score'],bins=Bins,histtype=\"bar\",label=\"Signal_Test\",\n",
    "         density = False,weights=data16['actualWeight'])\n",
    "plt.hist(sig16['score'],bins=Bins,histtype=\"step\",label=\"Signal_Test\",\n",
    "         density = False,weights=sig16['actualWeight'])"
   ]
  },
  {
   "cell_type": "code",
   "execution_count": 71,
   "id": "cd2aff93-a2f9-4f81-ae12-4e53a5160626",
   "metadata": {},
   "outputs": [
    {
     "data": {
      "text/plain": [
       "33.568066"
      ]
     },
     "execution_count": 71,
     "metadata": {},
     "output_type": "execute_result"
    }
   ],
   "source": [
    "sig16['actualWeight'].sum()"
   ]
  },
  {
   "cell_type": "code",
   "execution_count": 72,
   "id": "1bf51119-0c78-41ec-b0dc-bcd4fb78581b",
   "metadata": {},
   "outputs": [
    {
     "name": "stdout",
     "output_type": "stream",
     "text": [
      "0.2007088107534331 0.6584\n",
      "0.40424141857754314 0.7368\n",
      "0.6136283860912985 0.8056\n",
      "0.8040113025799317 0.8504\n"
     ]
    },
    {
     "data": {
      "image/png": "[encoded data removed]",
      "text/plain": [
       "<Figure size 432x288 with 1 Axes>"
      ]
     },
     "metadata": {
      "needs_background": "light"
     },
     "output_type": "display_data"
    }
   ],
   "source": [
    "Bins = np.linspace(0.1,0.9,1000+1)\n",
    "#plt.figure()\n",
    "cumu16=plt.hist(sig16['score'],bins=Bins,histtype=\"step\",label=\"Signal_Test\",\n",
    "         density = True,weights=sig16['actualWeight'],cumulative=True)\n",
    "bins16=[0.20,0.4,0.6,0.8]\n",
    "#bins=[0.15,0.3,0.45,0.6,0.75,0.9]\n",
    "Bins16 = get_bin(cumu16,bins16)"
   ]
  },
  {
   "cell_type": "code",
   "execution_count": 73,
   "id": "ee40446c-e290-4aae-9def-95e17845898f",
   "metadata": {},
   "outputs": [
    {
     "data": {
      "text/plain": [
       "(array([5.9647541 , 6.74678421, 6.24155998, 6.7165947 , 7.89831543]),\n",
       " array([0.    , 0.6584, 0.7368, 0.8056, 0.8504, 1.    ]),\n",
       " [<matplotlib.patches.Polygon at 0x7f3ee568d760>])"
      ]
     },
     "execution_count": 73,
     "metadata": {},
     "output_type": "execute_result"
    },
    {
     "data": {
      "image/png": "[encoded data removed]",
      "text/plain": [
       "<Figure size 432x288 with 1 Axes>"
      ]
     },
     "metadata": {
      "needs_background": "light"
     },
     "output_type": "display_data"
    }
   ],
   "source": [
    "plt.ylim(0.,160)\n",
    "plt.hist(df16['score'],bins=Bins16,histtype=\"step\",label=\"Signal_Test\",\n",
    "          density = False,weights=df16['actualWeight'])\n",
    "plt.hist(data16['score'],bins=Bins16,histtype=\"bar\",label=\"Signal_Test\",\n",
    "         density = False,weights=data16['actualWeight'])\n",
    "plt.hist(sig16['score'],bins=Bins16,histtype=\"step\",label=\"Signal_Test\",\n",
    "         density = False,weights=sig16['actualWeight'])"
   ]
  },
  {
   "cell_type": "code",
   "execution_count": 74,
   "id": "b0235e97-ab2f-45fb-b566-24b4a3b407d9",
   "metadata": {},
   "outputs": [],
   "source": [
    "data=pd.concat([data18,data17,data16])"
   ]
  },
  {
   "cell_type": "code",
   "execution_count": 75,
   "id": "8401ddf8-6b99-4f33-a1ef-2ec35763d13b",
   "metadata": {},
   "outputs": [],
   "source": [
    "df_tot=pd.concat([df18,df17,df16])"
   ]
  },
  {
   "cell_type": "code",
   "execution_count": 76,
   "id": "df00aae1-028b-4eca-bcde-ceeb79c69cbc",
   "metadata": {},
   "outputs": [],
   "source": [
    "sig=df_tot.query('isSignal==1')\n",
    "bkg=df_tot.query('isSignal!=1')"
   ]
  },
  {
   "cell_type": "code",
   "execution_count": 77,
   "id": "06b6c5a6-5292-4d52-96b6-54f4967f4e57",
   "metadata": {},
   "outputs": [
    {
     "name": "stdout",
     "output_type": "stream",
     "text": [
      "0.2007227828390554 0.5702\n",
      "0.4004865405284865 0.6524000000000001\n",
      "0.6162571826844756 0.7010000000000001\n",
      "0.8026105975164782 0.7466000000000002\n"
     ]
    },
    {
     "data": {
      "image/png": "[encoded data removed]",
      "text/plain": [
       "<Figure size 432x288 with 1 Axes>"
      ]
     },
     "metadata": {
      "needs_background": "light"
     },
     "output_type": "display_data"
    }
   ],
   "source": [
    "Bins = np.linspace(0.2,0.8,1000+1)\n",
    "#plt.figure()\n",
    "cumu=plt.hist(sig['score'],bins=Bins,histtype=\"step\",label=\"Signal_Test\",\n",
    "         density = True,weights=sig['actualWeight'],cumulative=True)\n",
    "bins=[0.20,0.4,0.6,0.8]\n",
    "#bins=[0.15,0.3,0.45,0.6,0.75,0.9]\n",
    "Bins = get_bin(cumu,bins)"
   ]
  },
  {
   "cell_type": "code",
   "execution_count": 78,
   "id": "a94c466e-4223-4454-84fc-a5d2f711273d",
   "metadata": {},
   "outputs": [
    {
     "data": {
      "text/plain": [
       "(array([16.89177132, 18.30303383, 18.34450912, 17.51646423, 59.40938568]),\n",
       " array([0.    , 0.5702, 0.6524, 0.701 , 0.7466, 1.    ]),\n",
       " [<matplotlib.patches.Polygon at 0x7f3ee55b6a00>])"
      ]
     },
     "execution_count": 78,
     "metadata": {},
     "output_type": "execute_result"
    },
    {
     "data": {
      "image/png": "[encoded data removed]",
      "text/plain": [
       "<Figure size 432x288 with 1 Axes>"
      ]
     },
     "metadata": {
      "needs_background": "light"
     },
     "output_type": "display_data"
    }
   ],
   "source": [
    "plt.ylim(0.,500)\n",
    "plt.hist(df_tot['score'],bins=Bins,histtype=\"step\",label=\"Signal_Test\",\n",
    "          density = False,weights=df_tot['actualWeight'])\n",
    "plt.hist(data['score'],bins=Bins,histtype=\"bar\",label=\"Signal_Test\",\n",
    "         density = False,weights=data['actualWeight'])\n",
    "plt.hist(sig['score'],bins=Bins,histtype=\"step\",label=\"Signal_Test\",\n",
    "         density = False,weights=sig['actualWeight'])"
   ]
  },
  {
   "cell_type": "code",
   "execution_count": 79,
   "id": "eb11b43f-959d-46af-a330-f6510e48f494",
   "metadata": {},
   "outputs": [
    {
     "data": {
      "image/png": "[encoded data removed]",
      "text/plain": [
       "<Figure size 432x288 with 1 Axes>"
      ]
     },
     "metadata": {
      "needs_background": "light"
     },
     "output_type": "display_data"
    }
   ],
   "source": [
    "Bins = np.linspace(0.2,0.9,6+1)\n",
    "#Bins = 10\n",
    "plt.figure()\n",
    "plt.ylim(0.,400)\n",
    "plt.hist(df_tot['score'],bins=Bins,histtype=\"step\",label=\"Signal_Test\",\n",
    "          density = False,weights=df_tot['actualWeight'])\n",
    "plt.hist(data['score'],bins=Bins,histtype=\"bar\",label=\"Signal_Test\",\n",
    "         density = False,weights=data['actualWeight'])\n",
    "h=plt.hist(sig['score'],bins=Bins,histtype=\"step\",label=\"Signal_Test\",\n",
    "         density = False,weights=sig['actualWeight'])"
   ]
  },
  {
   "cell_type": "code",
   "execution_count": 80,
   "id": "8aa08245-a17e-4e63-bca3-bdf40abd0a42",
   "metadata": {},
   "outputs": [
    {
     "data": {
      "text/plain": [
       "130.4654"
      ]
     },
     "execution_count": 80,
     "metadata": {},
     "output_type": "execute_result"
    }
   ],
   "source": [
    "sig['actualWeight'].sum()"
   ]
  },
  {
   "cell_type": "code",
   "execution_count": 81,
   "id": "64491e66-f9df-47b8-bf27-758005f3d510",
   "metadata": {},
   "outputs": [
    {
     "name": "stdout",
     "output_type": "stream",
     "text": [
      "33.568066 35.04686 61.850464\n"
     ]
    }
   ],
   "source": [
    "print(sig16['actualWeight'].sum(),sig17['actualWeight'].sum(),sig18['actualWeight'].sum())"
   ]
  },
  {
   "cell_type": "code",
   "execution_count": 82,
   "id": "116380d5-b42e-4484-99b6-ffbd29395da0",
   "metadata": {},
   "outputs": [
    {
     "data": {
      "text/plain": [
       "130.46539"
      ]
     },
     "execution_count": 82,
     "metadata": {},
     "output_type": "execute_result"
    }
   ],
   "source": [
    "33.568066 +35.04686 +61.850464"
   ]
  },
  {
   "cell_type": "code",
   "execution_count": 83,
   "id": "fda4ce7b-4454-4362-b5a0-385ebccbb461",
   "metadata": {},
   "outputs": [
    {
     "data": {
      "text/plain": [
       "611.5423"
      ]
     },
     "execution_count": 83,
     "metadata": {},
     "output_type": "execute_result"
    }
   ],
   "source": [
    "df_tot['actualWeight'].sum()"
   ]
  },
  {
   "cell_type": "code",
   "execution_count": 84,
   "id": "6e63c460-0381-40ca-850b-05215a8e9c83",
   "metadata": {},
   "outputs": [
    {
     "data": {
      "text/plain": [
       "5.927489783638191"
      ]
     },
     "execution_count": 84,
     "metadata": {},
     "output_type": "execute_result"
    }
   ],
   "source": [
    "import math\n",
    "130/math.sqrt(611-130)"
   ]
  },
  {
   "cell_type": "code",
   "execution_count": 85,
   "id": "bd898a9b-52fc-491e-8c23-a2f3bfdb3b2c",
   "metadata": {},
   "outputs": [],
   "source": [
    "def get_hist_year(root_files,features,year,lumi):\n",
    "\n",
    "    df = get_df(root_files)\n",
    "    if 'plj' not in f and 'fake' not in f:\n",
    "        print(f)\n",
    "        df['actualWeight']=df['actualWeight']*lumi\n",
    "    model=xgb.Booster()\n",
    "    model.load_model('./model.json')\n",
    "    dmatrix = xgb.DMatrix(df[features], label=np.copy(df['isSignal']))\n",
    "    df.loc[df.index, \"score\"] = model.predict(dmatrix)\n",
    "    \n",
    "    f1=ROOT.TFile('hist_'+root_files+year+'.root','recreate')\n",
    "    \n",
    "    cumu=plt.hist(sig['score'],bins=Bins,histtype=\"step\",label=\"Signal\",\n",
    "         density = True,weights=sig['actualWeight'],cumulative=True)    \n",
    "    bins=[0.20,0.4,0.6,0.8]\n",
    "    Bins = np.array(get_bin(cumu,bins))\n",
    "    h1=ROOT.TH1D('h1','',5,np.array(Bins))\n",
    "    for i in range(0,df.shape[0]):\n",
    "        h1.Fill(df['score'].iloc[0],df['actualWeight'].iloc[0])\n",
    "    f1.cd()\n",
    "    h1.Write()\n",
    "    f1.Close()\n",
    "    return f1"
   ]
  },
  {
   "cell_type": "code",
   "execution_count": 86,
   "id": "f929348a-ec38-4b0d-bc60-0dc95984ff62",
   "metadata": {},
   "outputs": [
    {
     "data": {
      "text/plain": [
       "0.3599611"
      ]
     },
     "execution_count": 86,
     "metadata": {},
     "output_type": "execute_result"
    }
   ],
   "source": [
    "df_tot['score'].iloc[0]"
   ]
  },
  {
   "cell_type": "code",
   "execution_count": null,
   "id": "d3693ffc-1add-43a8-8c84-13b4a2e2b688",
   "metadata": {},
   "outputs": [],
   "source": [
    "f=get_hist_year('',)"
   ]
  },
  {
   "cell_type": "code",
   "execution_count": null,
   "id": "a0284368-6978-408a-840e-c8640cf1943e",
   "metadata": {},
   "outputs": [],
   "source": []
  }
 ],
 "metadata": {
  "kernelspec": {
   "display_name": "Python 3 (ipykernel)",
   "language": "python",
   "name": "python3"
  },
  "language_info": {
   "codemirror_mode": {
    "name": "ipython",
    "version": 3
   },
   "file_extension": ".py",
   "mimetype": "text/x-python",
   "name": "python",
   "nbconvert_exporter": "python",
   "pygments_lexer": "ipython3",
   "version": "3.9.7"
  }
 },
 "nbformat": 4,
 "nbformat_minor": 5
}
