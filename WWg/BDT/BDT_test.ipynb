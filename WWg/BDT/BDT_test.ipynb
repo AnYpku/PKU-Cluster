{
 "cells": [
  {
   "cell_type": "code",
   "execution_count": 1,
   "id": "e63bd7ac-2f5f-4c68-90c8-782bcc9e815f",
   "metadata": {},
   "outputs": [
    {
     "name": "stdout",
     "output_type": "stream",
     "text": [
      "Requirement already satisfied: uproot in /data/pku/home/anying/.local/lib/python3.9/site-packages (4.1.9)\n",
      "Requirement already satisfied: setuptools in /data/pku/home/anying/anaconda3/envs/andy/lib/python3.9/site-packages (from uproot) (59.2.0)\n",
      "Requirement already satisfied: numpy in /data/pku/home/anying/anaconda3/envs/andy/lib/python3.9/site-packages (from uproot) (1.21.4)\n",
      "Requirement already satisfied: tqdm in /data/pku/home/anying/anaconda3/envs/andy/lib/python3.9/site-packages (4.62.3)\n",
      "Requirement already satisfied: awkward in /data/pku/home/anying/anaconda3/envs/andy/lib/python3.9/site-packages (1.4.0)\n",
      "Requirement already satisfied: numpy>=1.13.1 in /data/pku/home/anying/anaconda3/envs/andy/lib/python3.9/site-packages (from awkward) (1.21.4)\n",
      "Requirement already satisfied: setuptools in /data/pku/home/anying/anaconda3/envs/andy/lib/python3.9/site-packages (from awkward) (59.2.0)\n",
      "Requirement already satisfied: xgboost in /data/pku/home/anying/anaconda3/envs/andy/lib/python3.9/site-packages (1.5.1)\n",
      "Requirement already satisfied: scipy in /data/pku/home/anying/anaconda3/envs/andy/lib/python3.9/site-packages (from xgboost) (1.7.3)\n",
      "Requirement already satisfied: numpy in /data/pku/home/anying/anaconda3/envs/andy/lib/python3.9/site-packages (from xgboost) (1.21.4)\n",
      "Requirement already satisfied: sklearn in /data/pku/home/anying/anaconda3/envs/andy/lib/python3.9/site-packages (0.0)\n",
      "Requirement already satisfied: scikit-learn in /data/pku/home/anying/anaconda3/envs/andy/lib/python3.9/site-packages (from sklearn) (1.0.1)\n",
      "Requirement already satisfied: scipy>=1.1.0 in /data/pku/home/anying/anaconda3/envs/andy/lib/python3.9/site-packages (from scikit-learn->sklearn) (1.7.3)\n",
      "Requirement already satisfied: joblib>=0.11 in /data/pku/home/anying/anaconda3/envs/andy/lib/python3.9/site-packages (from scikit-learn->sklearn) (1.1.0)\n",
      "Requirement already satisfied: threadpoolctl>=2.0.0 in /data/pku/home/anying/anaconda3/envs/andy/lib/python3.9/site-packages (from scikit-learn->sklearn) (3.0.0)\n",
      "Requirement already satisfied: numpy>=1.14.6 in /data/pku/home/anying/anaconda3/envs/andy/lib/python3.9/site-packages (from scikit-learn->sklearn) (1.21.4)\n"
     ]
    }
   ],
   "source": [
    "!pip install --user uproot\n",
    "!pip install --user tqdm\n",
    "!pip install awkward\n",
    "!pip install xgboost\n",
    "!pip install sklearn"
   ]
  },
  {
   "cell_type": "code",
   "execution_count": 1,
   "id": "086ef2cd-9ddc-4ca8-b1e2-750e75715232",
   "metadata": {},
   "outputs": [
    {
     "name": "stdout",
     "output_type": "stream",
     "text": [
      "Welcome to JupyROOT 6.24/02\n"
     ]
    }
   ],
   "source": [
    "import uproot\n",
    "import glob\n",
    "import pandas as pd\n",
    "from tqdm import tqdm\n",
    "import numpy as np\n",
    "import awkward as ak\n",
    "import ROOT\n",
    "import matplotlib.pyplot as plt"
   ]
  },
  {
   "cell_type": "code",
   "execution_count": 2,
   "id": "54e16e4c-7be2-4830-88d8-135a585fb19a",
   "metadata": {},
   "outputs": [],
   "source": [
    "root_files=['WWG_emu','ST','TTGJets','ZGJets','WGJets','VV','tZq','fakeL','plj']\n",
    "fdir='/home/pku/anying/cms/rootfiles/WWg/2018/'"
   ]
  },
  {
   "cell_type": "code",
   "execution_count": 3,
   "id": "583ee32a-3962-4fbf-8064-2fcf84038626",
   "metadata": {},
   "outputs": [],
   "source": [
    "f1 = uproot.open(fdir+'cutlep-out'+root_files[0]+'18.root')\n",
    "tree=f1['Events']"
   ]
  },
  {
   "cell_type": "code",
   "execution_count": 5,
   "id": "a4f50468-8121-4232-910d-07a2a9a52ae0",
   "metadata": {},
   "outputs": [],
   "source": [
    "necessary_cols=['lep1pt','lep1eta','lep1phi','lep2pt','lep2eta','lep2phi',\n",
    "                'lep1_charge','lep2_charge','lep1_isprompt','lep2_isprompt',\n",
    "                'lep1_is_tight','lep2_is_tight','n_loose_ele','n_loose_mu',\n",
    "                'HLT_ee','HLT_mm','HLT_emu','ptll','mll','drll',\n",
    "                'photonet','photoneta','photonphi','drl1a',\n",
    "                'drl2a','mllg','PuppiMET_T1Smear_pt','PuppiMET_T1Smear_phi',\n",
    "                'njets30','n_bjets20_medium','n_bjets20_loose',\n",
    "                'scalef','ele_id_scale','ele_reco_scale','muon_id_scale','muon_iso_scale',\n",
    "                'photon_id_scale','photon_veto_scale','btag_weight_medium'] "
   ]
  },
  {
   "cell_type": "code",
   "execution_count": null,
   "id": "5cf4b50c-edd2-4b97-9845-f47bf4ea972f",
   "metadata": {},
   "outputs": [],
   "source": [
    "f = uproot.lazy(fdir+'cutlep-out'+root_files[0]+'18.root:Events')\n",
    "events = ak.to_pandas(f[necessary_cols])"
   ]
  },
  {
   "cell_type": "code",
   "execution_count": 124,
   "id": "c5df4471-1401-4c86-87e8-3a5b8441e0c7",
   "metadata": {},
   "outputs": [],
   "source": [
    "i=0\n",
    "a=ROOT.TLorentzVector(events['lep1pt'].iloc[i],events['lep1eta'].iloc[i],\n",
    "                                   events['lep1phi'].iloc[i],0.105666)\n"
   ]
  },
  {
   "cell_type": "code",
   "execution_count": 128,
   "id": "21c6af46-b13e-4b32-afc3-9d3e5890ae31",
   "metadata": {},
   "outputs": [
    {
     "data": {
      "text/plain": [
       "230.5769"
      ]
     },
     "execution_count": 128,
     "metadata": {},
     "output_type": "execute_result"
    }
   ],
   "source": [
    "events['lep1pt'].iloc[i]"
   ]
  },
  {
   "cell_type": "code",
   "execution_count": 129,
   "id": "9d4d0c19-f800-4c67-906b-42317fb73be8",
   "metadata": {},
   "outputs": [
    {
     "data": {
      "text/plain": [
       "230.58875629072793"
      ]
     },
     "execution_count": 129,
     "metadata": {},
     "output_type": "execute_result"
    }
   ],
   "source": [
    "a.Pt()"
   ]
  },
  {
   "cell_type": "code",
   "execution_count": 114,
   "id": "c9bf431a-abe9-45da-9c35-f0cf50a9f6e1",
   "metadata": {},
   "outputs": [],
   "source": [
    "def get_df(root_file,year):\n",
    "    f = uproot.lazy(fdir+'cutlep-out'+root_file+year+'.root:Events')\n",
    "    events = ak.to_pandas(f[necessary_cols])\n",
    "    if 'WWG_emu' in root_file:\n",
    "        events.loc[events.index,'isSignal']=1\n",
    "    else:\n",
    "        events.loc[events.index,'isSignal']=1"
   ]
  },
  {
   "cell_type": "code",
   "execution_count": null,
   "id": "b66a1b69-a409-4877-b7d2-b148af71ebe6",
   "metadata": {},
   "outputs": [],
   "source": []
  }
 ],
 "metadata": {
  "kernelspec": {
   "display_name": "Python 3 (ipykernel)",
   "language": "python",
   "name": "python3"
  },
  "language_info": {
   "codemirror_mode": {
    "name": "ipython",
    "version": 3
   },
   "file_extension": ".py",
   "mimetype": "text/x-python",
   "name": "python",
   "nbconvert_exporter": "python",
   "pygments_lexer": "ipython3",
   "version": "3.9.7"
  }
 },
 "nbformat": 4,
 "nbformat_minor": 5
}
