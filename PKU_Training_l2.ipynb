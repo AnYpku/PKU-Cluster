{
 "cells": [
  {
   "cell_type": "code",
   "execution_count": 1,
   "id": "8698e811",
   "metadata": {},
   "outputs": [
    {
     "name": "stdout",
     "output_type": "stream",
     "text": [
      "Requirement already satisfied: uproot in /cvmfs/sft.cern.ch/lcg/views/LCG_102swan/x86_64-centos7-gcc11-opt/lib/python3.9/site-packages (4.2.0)\r\n",
      "Requirement already satisfied: tqdm in /cvmfs/sft.cern.ch/lcg/views/LCG_102swan/x86_64-centos7-gcc11-opt/lib/python3.9/site-packages (4.61.2)\r\n",
      "Requirement already satisfied: numpy in /cvmfs/sft.cern.ch/lcg/views/LCG_102swan/x86_64-centos7-gcc11-opt/lib/python3.9/site-packages (from uproot) (1.22.3)\r\n",
      "Requirement already satisfied: setuptools in /cvmfs/sft.cern.ch/lcg/views/LCG_102swan/x86_64-centos7-gcc11-opt/lib/python3.9/site-packages (from uproot) (57.1.0)\r\n"
     ]
    }
   ],
   "source": [
    "!pip install --user uproot tqdm"
   ]
  },
  {
   "cell_type": "code",
   "execution_count": 3,
   "id": "9ec3b089",
   "metadata": {},
   "outputs": [
    {
     "name": "stderr",
     "output_type": "stream",
     "text": [
      "klist: No credentials cache found (filename: /tmp/krb5cc_110046_21772)\n"
     ]
    },
    {
     "name": "stdout",
     "output_type": "stream",
     "text": [
      "········\n",
      "Password for yian@CERN.CH: \n"
     ]
    }
   ],
   "source": [
    "username = \"yian\"\n",
    "import getpass\n",
    "import os\n",
    "if os.system('klist | grep Default | grep ' + username + '@CERN.CH'):\n",
    "    os.system('echo %s' % getpass.getpass() + \" | kinit \" + username)"
   ]
  },
  {
   "cell_type": "code",
   "execution_count": 16,
   "id": "d890f6ba",
   "metadata": {},
   "outputs": [],
   "source": [
    "import uproot\n",
    "import glob\n",
    "import pandas as pd\n",
    "from tqdm import tqdm"
   ]
  },
  {
   "cell_type": "code",
   "execution_count": 74,
   "id": "8c644db1",
   "metadata": {},
   "outputs": [
    {
     "name": "stdout",
     "output_type": "stream",
     "text": [
      "Defaulting to user installation because normal site-packages is not writeable\n",
      "Requirement already satisfied: awkward in /cvmfs/sft.cern.ch/lcg/views/LCG_102swan/x86_64-centos7-gcc11-opt/lib/python3.9/site-packages (1.7.0)\n",
      "Requirement already satisfied: numpy>=1.13.1 in /cvmfs/sft.cern.ch/lcg/views/LCG_102swan/x86_64-centos7-gcc11-opt/lib/python3.9/site-packages (from awkward) (1.22.3)\n",
      "Requirement already satisfied: setuptools in /cvmfs/sft.cern.ch/lcg/views/LCG_102swan/x86_64-centos7-gcc11-opt/lib/python3.9/site-packages (from awkward) (57.1.0)\n"
     ]
    }
   ],
   "source": [
    "!pip install awkward"
   ]
  },
  {
   "cell_type": "code",
   "execution_count": 75,
   "id": "cdb27a65",
   "metadata": {},
   "outputs": [],
   "source": [
    "import numpy as np\n",
    "import awkward as ak\n",
    "import ROOT\n",
    "import matplotlib.pyplot as plt"
   ]
  },
  {
   "cell_type": "code",
   "execution_count": 17,
   "id": "cffc8cf1",
   "metadata": {},
   "outputs": [],
   "source": [
    "n_files = 20\n",
    "root_files = glob.glob(\"/eos/user/y/yian/SWAN_projects/*.root\")[:n_files]"
   ]
  },
  {
   "cell_type": "code",
   "execution_count": 80,
   "id": "d7a4275f",
   "metadata": {},
   "outputs": [],
   "source": [
    "f = uproot.open(root_files[0])\n",
    "f.keys()"
   ]
  },
  {
   "cell_type": "code",
   "execution_count": 82,
   "id": "24304741",
   "metadata": {},
   "outputs": [
    {
     "name": "stdout",
     "output_type": "stream",
     "text": [
      "62\n"
     ]
    }
   ],
   "source": [
    "unneccesary_columns = ['ele_index',\n",
    "       'Spring16GPV1Vals', 'Spring16GPV1RawVals', 'Spring16HZZV1Vals',\n",
    "       'Spring16HZZV1RawVals', 'Fall17NoIsoV2Vals',\n",
    "       'Fall17IsoV2Vals', 'Fall17IsoV1Vals',\n",
    "       'Fall17NoIsoV1Vals', 'Spring16GPV1wp80', 'Spring16GPV1wp90',\n",
    "       'Spring16HZZV1wpLoose', 'Fall17noIsoV2wp80', 'Fall17noIsoV2wpLoose',\n",
    "       'Fall17noIsoV2wp90', 'Fall17isoV2wpHZZ', 'Fall17isoV2wp80',\n",
    "       'Fall17isoV2wpLoose', 'Fall17isoV2wp90', 'Fall17noIsoV1wp90',\n",
    "       'Fall17noIsoV1wp80', 'Fall17noIsoV1wpLoose', 'Fall17isoV1wp90',\n",
    "       'Fall17isoV1wp80', 'Fall17isoV1wpLoose', 'nEvent', 'nRun', 'nLumi']\n",
    "\n",
    "branch=tree.keys()\n",
    "for c in unneccesary_columns:\n",
    "    branch.remove(c)\n",
    "print(len(branch))"
   ]
  },
  {
   "cell_type": "code",
   "execution_count": 137,
   "id": "b6f2d6e8",
   "metadata": {},
   "outputs": [],
   "source": [
    "f = uproot.lazy(root_files[0]+':ntuplizer/tree')"
   ]
  },
  {
   "cell_type": "code",
   "execution_count": 193,
   "id": "0180e3a1",
   "metadata": {},
   "outputs": [],
   "source": [
    "df=pd.DataFrame(np.array(f),columns=branch)"
   ]
  },
  {
   "cell_type": "code",
   "execution_count": 203,
   "id": "3fb56776",
   "metadata": {},
   "outputs": [],
   "source": [
    "import math\n",
    "def get_df(root_file_name):        \n",
    "    fin = uproot.lazy(root_file_name+':ntuplizer/tree')\n",
    "    if len(fin) == 0:\n",
    "        return pd.DataFrame()\n",
    "    df=pd.DataFrame(np.array(fin),columns=branch)\n",
    "    return df        "
   ]
  },
  {
   "cell_type": "code",
   "execution_count": 204,
   "id": "b1cc0798",
   "metadata": {},
   "outputs": [
    {
     "name": "stderr",
     "output_type": "stream",
     "text": [
      "\n",
      "\n",
      "  0%|          | 0/20 [01:48<?, ?it/s]\u001b[A\u001b[A\n",
      "\n",
      "\n",
      "  5%|▌         | 1/20 [00:00<00:09,  1.90it/s]\u001b[A\u001b[A\n",
      "\n",
      " 10%|█         | 2/20 [00:00<00:08,  2.09it/s]\u001b[A\u001b[A\n",
      "\n",
      " 15%|█▌        | 3/20 [00:02<00:12,  1.32it/s]\u001b[A\u001b[A\n",
      "\n",
      " 20%|██        | 4/20 [00:03<00:14,  1.12it/s]\u001b[A\u001b[A\n",
      "\n",
      " 25%|██▌       | 5/20 [00:03<00:11,  1.36it/s]\u001b[A\u001b[A\n",
      "\n",
      " 30%|███       | 6/20 [00:04<00:12,  1.16it/s]\u001b[A\u001b[A\n",
      "\n",
      " 35%|███▌      | 7/20 [00:05<00:09,  1.31it/s]\u001b[A\u001b[A\n",
      "\n",
      " 40%|████      | 8/20 [00:06<00:10,  1.20it/s]\u001b[A\u001b[A\n",
      "\n",
      " 45%|████▌     | 9/20 [00:07<00:08,  1.25it/s]\u001b[A\u001b[A\n",
      "\n",
      " 50%|█████     | 10/20 [00:08<00:08,  1.16it/s]\u001b[A\u001b[A\n",
      "\n",
      " 55%|█████▌    | 11/20 [00:09<00:09,  1.01s/it]\u001b[A\u001b[A\n",
      "\n",
      " 60%|██████    | 12/20 [00:10<00:07,  1.02it/s]\u001b[A\u001b[A\n",
      "\n",
      " 65%|██████▌   | 13/20 [00:10<00:05,  1.19it/s]\u001b[A\u001b[A\n",
      "\n",
      " 70%|███████   | 14/20 [00:11<00:05,  1.06it/s]\u001b[A\u001b[A\n",
      "\n",
      " 75%|███████▌  | 15/20 [00:12<00:04,  1.15it/s]\u001b[A\u001b[A\n",
      "\n",
      " 80%|████████  | 16/20 [00:13<00:03,  1.17it/s]\u001b[A\u001b[A\n",
      "\n",
      " 85%|████████▌ | 17/20 [00:14<00:02,  1.10it/s]\u001b[A\u001b[A\n",
      "\n",
      " 90%|█████████ | 18/20 [00:15<00:01,  1.26it/s]\u001b[A\u001b[A\n",
      "\n",
      " 95%|█████████▌| 19/20 [00:15<00:00,  1.31it/s]\u001b[A\u001b[A\n",
      "\n",
      "100%|██████████| 20/20 [00:16<00:00,  1.22it/s]\u001b[A\u001b[A\n"
     ]
    }
   ],
   "source": [
    "df = pd.concat((get_df(f1) for f1 in  tqdm(root_files)), ignore_index=True)"
   ]
  },
  {
   "cell_type": "code",
   "execution_count": 205,
   "id": "683795fc",
   "metadata": {},
   "outputs": [
    {
     "data": {
      "text/plain": [
       "Index(['genNpu', 'vtxN', 'ele_q', 'ele_3q', 'matchedToGenEle', 'rho', 'ele_pt',\n",
       "       'ele_oldsigmaietaieta', 'ele_oldsigmaiphiiphi', 'ele_oldcircularity',\n",
       "       'ele_oldr9', 'ele_scletawidth', 'ele_sclphiwidth', 'ele_hadronicOverEm',\n",
       "       'ele_oldhe', 'ele_kfhits', 'ele_kfchi2', 'ele_gsfchi2', 'ele_fbrem',\n",
       "       'ele_gsfhits', 'ele_expected_inner_hits',\n",
       "       'ele_conversionVertexFitProbability', 'ele_ep', 'ele_eelepout',\n",
       "       'ele_IoEmIop', 'ele_deltaetain', 'ele_deltaphiin', 'ele_deltaetaseed',\n",
       "       'ele_psEoverEraw', 'ele_pfPhotonIso', 'ele_pfChargedHadIso',\n",
       "       'ele_pfNeutralHadIso', 'scl_E', 'scl_Et', 'scl_eta', 'scl_phi',\n",
       "       'ele_sclRawE', 'ele_sclNclus', 'ele_olde15', 'ele_olde25max',\n",
       "       'ele_olde55', 'ele_ecalE', 'ele_ecalErr', 'ele_trackErr', 'ele_combErr',\n",
       "       'ele_PFcombErr', 'ele_pfSumPUIso', 'ele_SCfbrem', 'ele_eClass',\n",
       "       'ele_nbrem', 'ele_oldhebc', 'ele_hebc', 'ele_isEB', 'ele_isEE',\n",
       "       'ele_isEBEtaGap', 'ele_isEBPhiGap', 'ele_isEBEEGap', 'ele_isEEDeeGap',\n",
       "       'ele_isEERingGap', 'Fall17NoIsoV2RawVals', 'Fall17IsoV2RawVals',\n",
       "       'EleMVACats'],\n",
       "      dtype='object')"
      ]
     },
     "execution_count": 205,
     "metadata": {},
     "output_type": "execute_result"
    }
   ],
   "source": [
    "df.columns"
   ]
  },
  {
   "cell_type": "code",
   "execution_count": 206,
   "id": "cfca87a3",
   "metadata": {},
   "outputs": [],
   "source": [
    "import matplotlib.pyplot as plt\n",
    "import numpy as np\n",
    "\n",
    "def get_label(name):\n",
    "    if name == 0:\n",
    "        return \"background\"\n",
    "    else:\n",
    "        return \"signal\"\n",
    "\n",
    "def plot_electrons(df, column, bins, logscale=False, ax=None, title=None):\n",
    "    if ax is None:\n",
    "        ax = plt.gca()\n",
    "    for name, group in df.groupby(\"matchedToGenEle\"):\n",
    "        group[column].hist(bins=bins, histtype=\"step\", label=get_label(name), ax=ax, density=True)\n",
    "    ax.set_ylabel(\"density\")\n",
    "    ax.set_xlabel(column)\n",
    "    ax.legend()\n",
    "    ax.set_title(title)\n",
    "    if logscale:\n",
    "        ax.set_yscale(\"log\", nonposy='clip')"
   ]
  },
  {
   "cell_type": "code",
   "execution_count": 208,
   "id": "216af21a",
   "metadata": {},
   "outputs": [],
   "source": [
    "df = df.query(\"matchedToGenEle != 2\")"
   ]
  },
  {
   "cell_type": "code",
   "execution_count": 211,
   "id": "9403df27",
   "metadata": {},
   "outputs": [
    {
     "name": "stderr",
     "output_type": "stream",
     "text": [
      "/cvmfs/sft.cern.ch/lcg/views/LCG_102swan/x86_64-centos7-gcc11-opt/lib/python3.9/site-packages/pandas/core/indexing.py:1720: SettingWithCopyWarning: \n",
      "A value is trying to be set on a copy of a slice from a DataFrame.\n",
      "Try using .loc[row_indexer,col_indexer] = value instead\n",
      "\n",
      "See the caveats in the documentation: https://pandas.pydata.org/pandas-docs/stable/user_guide/indexing.html#returning-a-view-versus-a-copy\n",
      "  self._setitem_single_column(loc, value, pi)\n"
     ]
    }
   ],
   "source": [
    "df.loc[df[\"matchedToGenEle\"] != 1, \"matchedToGenEle\"] = 0"
   ]
  },
  {
   "cell_type": "code",
   "execution_count": 213,
   "id": "557b31e4",
   "metadata": {},
   "outputs": [],
   "source": [
    "df = df.query(\"abs(scl_eta) < 2.5\")\n",
    "df = df.query(\"ele_pt >= 10\")"
   ]
  },
  {
   "cell_type": "code",
   "execution_count": 214,
   "id": "b47321d0",
   "metadata": {},
   "outputs": [
    {
     "data": {
      "image/png": "[encoded data removed]",
      "text/plain": [
       "<Figure size 1080x360 with 2 Axes>"
      ]
     },
     "metadata": {
      "needs_background": "light"
     },
     "output_type": "display_data"
    }
   ],
   "source": [
    "fig, axes = plt.subplots(1, 2, figsize=(15, 5))\n",
    "plot_electrons(df.query(\"ele_isEB\"), \"ele_oldsigmaietaieta\", 100, ax=axes[0], title=\"Barrel\")\n",
    "plot_electrons(df.query(\"ele_isEE\"), \"ele_oldsigmaietaieta\", 100, ax=axes[1], title=\"Endcap\")\n",
    "plt.show()"
   ]
  }
 ],
 "metadata": {
  "kernelspec": {
   "display_name": "Python 3",
   "language": "python",
   "name": "python3"
  },
  "language_info": {
   "codemirror_mode": {
    "name": "ipython",
    "version": 3
   },
   "file_extension": ".py",
   "mimetype": "text/x-python",
   "name": "python",
   "nbconvert_exporter": "python",
   "pygments_lexer": "ipython3",
   "version": "3.9.12"
  }
 },
 "nbformat": 4,
 "nbformat_minor": 5
}
